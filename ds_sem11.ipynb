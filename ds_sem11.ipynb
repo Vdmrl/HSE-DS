{
 "cells": [
  {
   "cell_type": "markdown",
   "source": [
    "## Лузина Владимира РИС22-2\n",
    "# Семинар 11. Оценка качества классификации"
   ],
   "metadata": {
    "collapsed": false
   },
   "id": "a0cbe918deb997f"
  },
  {
   "cell_type": "markdown",
   "source": [
    "Используя имеющиеся статистические данные выполнить следующие шаги:\n",
    "1) классифцировать имеющиеся данные тремя способами: knn по 1 точке, по 3 точкам и деревом решений с глубиной 3\n",
    "2) оценить качество классификации модели по характеристикам\n",
    "3) Построить ROC кривые и сделать выводы о качестве работы методов"
   ],
   "metadata": {
    "collapsed": false
   },
   "id": "2e07a95b6ad0a22a"
  },
  {
   "cell_type": "markdown",
   "source": [
    "Я не стал удалять выбросы, так как это не связано с текущей задачей"
   ],
   "metadata": {
    "collapsed": false
   },
   "id": "443b5bbe684d4c00"
  },
  {
   "cell_type": "code",
   "execution_count": 78,
   "outputs": [],
   "source": [
    "import numpy as np\n",
    "import pandas as pd\n",
    "import warnings\n",
    "\n",
    "warnings.filterwarnings(\"ignore\", category=FutureWarning)\n"
   ],
   "metadata": {
    "collapsed": false,
    "ExecuteTime": {
     "end_time": "2024-03-18T18:31:22.474672Z",
     "start_time": "2024-03-18T18:31:22.471337Z"
    }
   },
   "id": "bf785e13d68c7ef5"
  },
  {
   "cell_type": "code",
   "execution_count": 79,
   "outputs": [
    {
     "data": {
      "text/plain": "    day  price  amount\n0     1   4.93      45\n1     2   4.87      88\n2     3   4.58      97\n3     4   4.91      44\n4     5   4.32      90\n5     6   4.15      51\n6     7   4.86      44\n7     8   4.43      93\n8     9   4.49      23\n9    10   4.45      91\n10   11   4.36      16\n11   12   4.26      90\n12   13   4.59      18\n13   14   4.31      95\n14   15   4.04      46\n15   16   4.71      95\n16   17   4.19      33\n17   18   4.19      84\n18   19   4.73      89\n19   20   4.13      55",
      "text/html": "<div>\n<style scoped>\n    .dataframe tbody tr th:only-of-type {\n        vertical-align: middle;\n    }\n\n    .dataframe tbody tr th {\n        vertical-align: top;\n    }\n\n    .dataframe thead th {\n        text-align: right;\n    }\n</style>\n<table border=\"1\" class=\"dataframe\">\n  <thead>\n    <tr style=\"text-align: right;\">\n      <th></th>\n      <th>day</th>\n      <th>price</th>\n      <th>amount</th>\n    </tr>\n  </thead>\n  <tbody>\n    <tr>\n      <th>0</th>\n      <td>1</td>\n      <td>4.93</td>\n      <td>45</td>\n    </tr>\n    <tr>\n      <th>1</th>\n      <td>2</td>\n      <td>4.87</td>\n      <td>88</td>\n    </tr>\n    <tr>\n      <th>2</th>\n      <td>3</td>\n      <td>4.58</td>\n      <td>97</td>\n    </tr>\n    <tr>\n      <th>3</th>\n      <td>4</td>\n      <td>4.91</td>\n      <td>44</td>\n    </tr>\n    <tr>\n      <th>4</th>\n      <td>5</td>\n      <td>4.32</td>\n      <td>90</td>\n    </tr>\n    <tr>\n      <th>5</th>\n      <td>6</td>\n      <td>4.15</td>\n      <td>51</td>\n    </tr>\n    <tr>\n      <th>6</th>\n      <td>7</td>\n      <td>4.86</td>\n      <td>44</td>\n    </tr>\n    <tr>\n      <th>7</th>\n      <td>8</td>\n      <td>4.43</td>\n      <td>93</td>\n    </tr>\n    <tr>\n      <th>8</th>\n      <td>9</td>\n      <td>4.49</td>\n      <td>23</td>\n    </tr>\n    <tr>\n      <th>9</th>\n      <td>10</td>\n      <td>4.45</td>\n      <td>91</td>\n    </tr>\n    <tr>\n      <th>10</th>\n      <td>11</td>\n      <td>4.36</td>\n      <td>16</td>\n    </tr>\n    <tr>\n      <th>11</th>\n      <td>12</td>\n      <td>4.26</td>\n      <td>90</td>\n    </tr>\n    <tr>\n      <th>12</th>\n      <td>13</td>\n      <td>4.59</td>\n      <td>18</td>\n    </tr>\n    <tr>\n      <th>13</th>\n      <td>14</td>\n      <td>4.31</td>\n      <td>95</td>\n    </tr>\n    <tr>\n      <th>14</th>\n      <td>15</td>\n      <td>4.04</td>\n      <td>46</td>\n    </tr>\n    <tr>\n      <th>15</th>\n      <td>16</td>\n      <td>4.71</td>\n      <td>95</td>\n    </tr>\n    <tr>\n      <th>16</th>\n      <td>17</td>\n      <td>4.19</td>\n      <td>33</td>\n    </tr>\n    <tr>\n      <th>17</th>\n      <td>18</td>\n      <td>4.19</td>\n      <td>84</td>\n    </tr>\n    <tr>\n      <th>18</th>\n      <td>19</td>\n      <td>4.73</td>\n      <td>89</td>\n    </tr>\n    <tr>\n      <th>19</th>\n      <td>20</td>\n      <td>4.13</td>\n      <td>55</td>\n    </tr>\n  </tbody>\n</table>\n</div>"
     },
     "execution_count": 79,
     "metadata": {},
     "output_type": "execute_result"
    }
   ],
   "source": [
    "np.random.seed(70) # сид, чтобы значения были одинаковые\n",
    "\n",
    "df = pd.DataFrame({'day': [i for i in range(1, 21)],  # дни с 1 по 20\n",
    "                   'price': np.random.uniform(4, 5, 20).round(2),  # стоимость\n",
    "                   'amount': np.random.randint(10, 100, 20)})  # число продаж\n",
    "df"
   ],
   "metadata": {
    "collapsed": false,
    "ExecuteTime": {
     "end_time": "2024-03-18T18:31:22.507604Z",
     "start_time": "2024-03-18T18:31:22.497701Z"
    }
   },
   "id": "b8b72d232b45ed2d"
  },
  {
   "cell_type": "markdown",
   "source": [
    "Для выявления в разнородных совокупностях однородные подмножества и в дальнейшем работать уже с ними\n",
    "Признак - класс 1 присваиваем дню, для которого:\n",
    "  - Цены относительно предыдущего дня уменьшились или не изменились\n",
    "  - И объём продаж увеличились или не изменился\n",
    "В противном случае присваиваем класс 0"
   ],
   "metadata": {
    "collapsed": false
   },
   "id": "9d9352198f034f6a"
  },
  {
   "cell_type": "code",
   "execution_count": 80,
   "outputs": [
    {
     "data": {
      "text/plain": "    day  price  amount  class\n0     1   4.93      45      0\n1     2   4.87      88      1\n2     3   4.58      97      1\n3     4   4.91      44      0\n4     5   4.32      90      1\n5     6   4.15      51      0\n6     7   4.86      44      0\n7     8   4.43      93      1\n8     9   4.49      23      0\n9    10   4.45      91      1\n10   11   4.36      16      0\n11   12   4.26      90      1\n12   13   4.59      18      0\n13   14   4.31      95      1\n14   15   4.04      46      0\n15   16   4.71      95      0\n16   17   4.19      33      0\n17   18   4.19      84      1\n18   19   4.73      89      0\n19   20   4.13      55      0",
      "text/html": "<div>\n<style scoped>\n    .dataframe tbody tr th:only-of-type {\n        vertical-align: middle;\n    }\n\n    .dataframe tbody tr th {\n        vertical-align: top;\n    }\n\n    .dataframe thead th {\n        text-align: right;\n    }\n</style>\n<table border=\"1\" class=\"dataframe\">\n  <thead>\n    <tr style=\"text-align: right;\">\n      <th></th>\n      <th>day</th>\n      <th>price</th>\n      <th>amount</th>\n      <th>class</th>\n    </tr>\n  </thead>\n  <tbody>\n    <tr>\n      <th>0</th>\n      <td>1</td>\n      <td>4.93</td>\n      <td>45</td>\n      <td>0</td>\n    </tr>\n    <tr>\n      <th>1</th>\n      <td>2</td>\n      <td>4.87</td>\n      <td>88</td>\n      <td>1</td>\n    </tr>\n    <tr>\n      <th>2</th>\n      <td>3</td>\n      <td>4.58</td>\n      <td>97</td>\n      <td>1</td>\n    </tr>\n    <tr>\n      <th>3</th>\n      <td>4</td>\n      <td>4.91</td>\n      <td>44</td>\n      <td>0</td>\n    </tr>\n    <tr>\n      <th>4</th>\n      <td>5</td>\n      <td>4.32</td>\n      <td>90</td>\n      <td>1</td>\n    </tr>\n    <tr>\n      <th>5</th>\n      <td>6</td>\n      <td>4.15</td>\n      <td>51</td>\n      <td>0</td>\n    </tr>\n    <tr>\n      <th>6</th>\n      <td>7</td>\n      <td>4.86</td>\n      <td>44</td>\n      <td>0</td>\n    </tr>\n    <tr>\n      <th>7</th>\n      <td>8</td>\n      <td>4.43</td>\n      <td>93</td>\n      <td>1</td>\n    </tr>\n    <tr>\n      <th>8</th>\n      <td>9</td>\n      <td>4.49</td>\n      <td>23</td>\n      <td>0</td>\n    </tr>\n    <tr>\n      <th>9</th>\n      <td>10</td>\n      <td>4.45</td>\n      <td>91</td>\n      <td>1</td>\n    </tr>\n    <tr>\n      <th>10</th>\n      <td>11</td>\n      <td>4.36</td>\n      <td>16</td>\n      <td>0</td>\n    </tr>\n    <tr>\n      <th>11</th>\n      <td>12</td>\n      <td>4.26</td>\n      <td>90</td>\n      <td>1</td>\n    </tr>\n    <tr>\n      <th>12</th>\n      <td>13</td>\n      <td>4.59</td>\n      <td>18</td>\n      <td>0</td>\n    </tr>\n    <tr>\n      <th>13</th>\n      <td>14</td>\n      <td>4.31</td>\n      <td>95</td>\n      <td>1</td>\n    </tr>\n    <tr>\n      <th>14</th>\n      <td>15</td>\n      <td>4.04</td>\n      <td>46</td>\n      <td>0</td>\n    </tr>\n    <tr>\n      <th>15</th>\n      <td>16</td>\n      <td>4.71</td>\n      <td>95</td>\n      <td>0</td>\n    </tr>\n    <tr>\n      <th>16</th>\n      <td>17</td>\n      <td>4.19</td>\n      <td>33</td>\n      <td>0</td>\n    </tr>\n    <tr>\n      <th>17</th>\n      <td>18</td>\n      <td>4.19</td>\n      <td>84</td>\n      <td>1</td>\n    </tr>\n    <tr>\n      <th>18</th>\n      <td>19</td>\n      <td>4.73</td>\n      <td>89</td>\n      <td>0</td>\n    </tr>\n    <tr>\n      <th>19</th>\n      <td>20</td>\n      <td>4.13</td>\n      <td>55</td>\n      <td>0</td>\n    </tr>\n  </tbody>\n</table>\n</div>"
     },
     "execution_count": 80,
     "metadata": {},
     "output_type": "execute_result"
    }
   ],
   "source": [
    "df[\"class\"] = [0] + [1 if df[\"price\"][i] <= df[\"price\"][i - 1] and df[\"amount\"][i] >= df[\"amount\"][i - 1] else 0 for\n",
    "                     i in range(1, 20)]\n",
    "df"
   ],
   "metadata": {
    "collapsed": false,
    "ExecuteTime": {
     "end_time": "2024-03-18T18:31:22.518394Z",
     "start_time": "2024-03-18T18:31:22.508599Z"
    }
   },
   "id": "945e082165bd7c16"
  },
  {
   "cell_type": "markdown",
   "source": [
    "тестовая выборка эти дни кратные 3. Остальные данные это обучающая выборка\n",
    "разделим на обучающую и тестовую выборки."
   ],
   "metadata": {
    "collapsed": false
   },
   "id": "cc4c4897f611c7c1"
  },
  {
   "cell_type": "code",
   "execution_count": 81,
   "outputs": [
    {
     "name": "stdout",
     "output_type": "stream",
     "text": [
      "test:\n"
     ]
    },
    {
     "data": {
      "text/plain": "    price  amount\n2    4.58      97\n5    4.15      51\n8    4.49      23\n11   4.26      90\n14   4.04      46\n17   4.19      84",
      "text/html": "<div>\n<style scoped>\n    .dataframe tbody tr th:only-of-type {\n        vertical-align: middle;\n    }\n\n    .dataframe tbody tr th {\n        vertical-align: top;\n    }\n\n    .dataframe thead th {\n        text-align: right;\n    }\n</style>\n<table border=\"1\" class=\"dataframe\">\n  <thead>\n    <tr style=\"text-align: right;\">\n      <th></th>\n      <th>price</th>\n      <th>amount</th>\n    </tr>\n  </thead>\n  <tbody>\n    <tr>\n      <th>2</th>\n      <td>4.58</td>\n      <td>97</td>\n    </tr>\n    <tr>\n      <th>5</th>\n      <td>4.15</td>\n      <td>51</td>\n    </tr>\n    <tr>\n      <th>8</th>\n      <td>4.49</td>\n      <td>23</td>\n    </tr>\n    <tr>\n      <th>11</th>\n      <td>4.26</td>\n      <td>90</td>\n    </tr>\n    <tr>\n      <th>14</th>\n      <td>4.04</td>\n      <td>46</td>\n    </tr>\n    <tr>\n      <th>17</th>\n      <td>4.19</td>\n      <td>84</td>\n    </tr>\n  </tbody>\n</table>\n</div>"
     },
     "metadata": {},
     "output_type": "display_data"
    },
    {
     "data": {
      "text/plain": "    class\n2       1\n5       0\n8       0\n11      1\n14      0\n17      1",
      "text/html": "<div>\n<style scoped>\n    .dataframe tbody tr th:only-of-type {\n        vertical-align: middle;\n    }\n\n    .dataframe tbody tr th {\n        vertical-align: top;\n    }\n\n    .dataframe thead th {\n        text-align: right;\n    }\n</style>\n<table border=\"1\" class=\"dataframe\">\n  <thead>\n    <tr style=\"text-align: right;\">\n      <th></th>\n      <th>class</th>\n    </tr>\n  </thead>\n  <tbody>\n    <tr>\n      <th>2</th>\n      <td>1</td>\n    </tr>\n    <tr>\n      <th>5</th>\n      <td>0</td>\n    </tr>\n    <tr>\n      <th>8</th>\n      <td>0</td>\n    </tr>\n    <tr>\n      <th>11</th>\n      <td>1</td>\n    </tr>\n    <tr>\n      <th>14</th>\n      <td>0</td>\n    </tr>\n    <tr>\n      <th>17</th>\n      <td>1</td>\n    </tr>\n  </tbody>\n</table>\n</div>"
     },
     "metadata": {},
     "output_type": "display_data"
    }
   ],
   "source": [
    "train = df[~(df[\"day\"] % 3 == 0)]\n",
    "test = df[df[\"day\"] % 3 == 0]\n",
    "X_train, X_test, y_train, y_test = train[[\"price\", \"amount\"]], test[[\"price\", \"amount\"]], train[[\"class\"]], test[\n",
    "    [\"class\"]]\n",
    "print(\"test:\")\n",
    "display(X_test)\n",
    "display(y_test)"
   ],
   "metadata": {
    "collapsed": false,
    "ExecuteTime": {
     "end_time": "2024-03-18T18:31:22.532502Z",
     "start_time": "2024-03-18T18:31:22.519396Z"
    }
   },
   "id": "65d05923a8a2a39"
  },
  {
   "cell_type": "markdown",
   "source": [
    "Для первых двух классфикаций буду использовать knn для 1 и 3 соседей"
   ],
   "metadata": {
    "collapsed": false
   },
   "id": "7b2d3bbb3eb659ed"
  },
  {
   "cell_type": "code",
   "execution_count": 82,
   "outputs": [],
   "source": [
    "from sklearn.neighbors import KNeighborsClassifier\n",
    "\n",
    "# для 3\n",
    "classifier_3 = KNeighborsClassifier(n_neighbors=1)\n",
    "classifier_3.fit(X_train, y_train.values.ravel())\n",
    "predict_knn_3 = classifier_3.predict(X_test)\n",
    "# для 5\n",
    "classifier_5 = KNeighborsClassifier(n_neighbors=3)\n",
    "classifier_5.fit(X_train, y_train.values.ravel())\n",
    "predict_knn_5 = classifier_5.predict(X_test)"
   ],
   "metadata": {
    "collapsed": false,
    "ExecuteTime": {
     "end_time": "2024-03-18T18:31:22.546461Z",
     "start_time": "2024-03-18T18:31:22.533502Z"
    }
   },
   "id": "ac6a59b89c81eb51"
  },
  {
   "cell_type": "markdown",
   "source": [
    "Воспользуюсь DecisionTreeClassifier из библиотеки sklearn\n",
    "Буду использовать Энтропия, а не Коэффициент Джини, так как он более чувствителен к неоднородности данных, хоть и более ресурсозатратный.\n",
    "Также за максимальную глубину возьму 3, чтобы дерево не переобучилось на таком маленьком количестве данных и всего с двумя параметрами.\n",
    "Конечно, этот параметр стоило бы подобрать на валидационной выборке, но данных неприлично мало"
   ],
   "metadata": {
    "collapsed": false
   },
   "id": "63615dead86618dd"
  },
  {
   "cell_type": "code",
   "execution_count": 83,
   "outputs": [],
   "source": [
    "from sklearn.tree import DecisionTreeClassifier\n",
    "\n",
    "clf = DecisionTreeClassifier(criterion=\"entropy\", max_depth=3)  # объект классификатора\n",
    "clf = clf.fit(X_train, y_train)  # обучаю классификатор на трейне\n",
    "pred_tree = clf.predict(X_test)  # делаю предикт на тесте"
   ],
   "metadata": {
    "collapsed": false,
    "ExecuteTime": {
     "end_time": "2024-03-18T18:31:22.554412Z",
     "start_time": "2024-03-18T18:31:22.547460Z"
    }
   },
   "id": "e94fcbd1309c58af"
  },
  {
   "cell_type": "markdown",
   "source": [
    "Добавляю все предсказания в один датаафрейм"
   ],
   "metadata": {
    "collapsed": false
   },
   "id": "2ff98e32d979dc81"
  },
  {
   "cell_type": "code",
   "execution_count": 84,
   "outputs": [
    {
     "data": {
      "text/plain": "    y  knn1  knn3  tree\n2   1     0     1     1\n5   0     0     0     0\n8   0     0     0     0\n11  1     1     1     1\n14  0     0     0     0\n17  1     1     1     1",
      "text/html": "<div>\n<style scoped>\n    .dataframe tbody tr th:only-of-type {\n        vertical-align: middle;\n    }\n\n    .dataframe tbody tr th {\n        vertical-align: top;\n    }\n\n    .dataframe thead th {\n        text-align: right;\n    }\n</style>\n<table border=\"1\" class=\"dataframe\">\n  <thead>\n    <tr style=\"text-align: right;\">\n      <th></th>\n      <th>y</th>\n      <th>knn1</th>\n      <th>knn3</th>\n      <th>tree</th>\n    </tr>\n  </thead>\n  <tbody>\n    <tr>\n      <th>2</th>\n      <td>1</td>\n      <td>0</td>\n      <td>1</td>\n      <td>1</td>\n    </tr>\n    <tr>\n      <th>5</th>\n      <td>0</td>\n      <td>0</td>\n      <td>0</td>\n      <td>0</td>\n    </tr>\n    <tr>\n      <th>8</th>\n      <td>0</td>\n      <td>0</td>\n      <td>0</td>\n      <td>0</td>\n    </tr>\n    <tr>\n      <th>11</th>\n      <td>1</td>\n      <td>1</td>\n      <td>1</td>\n      <td>1</td>\n    </tr>\n    <tr>\n      <th>14</th>\n      <td>0</td>\n      <td>0</td>\n      <td>0</td>\n      <td>0</td>\n    </tr>\n    <tr>\n      <th>17</th>\n      <td>1</td>\n      <td>1</td>\n      <td>1</td>\n      <td>1</td>\n    </tr>\n  </tbody>\n</table>\n</div>"
     },
     "execution_count": 84,
     "metadata": {},
     "output_type": "execute_result"
    }
   ],
   "source": [
    "predicts = pd.DataFrame({\"y\": y_test[\"class\"],\"knn1\": predict_knn_3, \"knn3\": predict_knn_5, \"tree\": pred_tree})\n",
    "predicts"
   ],
   "metadata": {
    "collapsed": false,
    "ExecuteTime": {
     "end_time": "2024-03-18T18:31:22.562235Z",
     "start_time": "2024-03-18T18:31:22.555409Z"
    }
   },
   "id": "bbeff01a705aabf0"
  },
  {
   "cell_type": "markdown",
   "source": [
    "### Оцениваю качество классификация"
   ],
   "metadata": {
    "collapsed": false
   },
   "id": "29aedfd0fdc57cb1"
  },
  {
   "cell_type": "code",
   "execution_count": 85,
   "outputs": [
    {
     "data": {
      "text/plain": "                 0    1    2\nTP        2.000000  3.0  3.0\nTN        3.000000  3.0  3.0\nFP        1.000000  0.0  0.0\nFN        0.000000  0.0  0.0\nacc       0.833333  1.0  1.0\npre       0.666667  1.0  1.0\nrec       1.000000  1.0  1.0\ns         0.750000  1.0  1.0\nF(B=2)    0.909091  1.0  1.0\nF(B=0.5)  0.714286  1.0  1.0\nTPR       1.000000  1.0  1.0\nFPR       0.250000  0.0  0.0",
      "text/html": "<div>\n<style scoped>\n    .dataframe tbody tr th:only-of-type {\n        vertical-align: middle;\n    }\n\n    .dataframe tbody tr th {\n        vertical-align: top;\n    }\n\n    .dataframe thead th {\n        text-align: right;\n    }\n</style>\n<table border=\"1\" class=\"dataframe\">\n  <thead>\n    <tr style=\"text-align: right;\">\n      <th></th>\n      <th>0</th>\n      <th>1</th>\n      <th>2</th>\n    </tr>\n  </thead>\n  <tbody>\n    <tr>\n      <th>TP</th>\n      <td>2.000000</td>\n      <td>3.0</td>\n      <td>3.0</td>\n    </tr>\n    <tr>\n      <th>TN</th>\n      <td>3.000000</td>\n      <td>3.0</td>\n      <td>3.0</td>\n    </tr>\n    <tr>\n      <th>FP</th>\n      <td>1.000000</td>\n      <td>0.0</td>\n      <td>0.0</td>\n    </tr>\n    <tr>\n      <th>FN</th>\n      <td>0.000000</td>\n      <td>0.0</td>\n      <td>0.0</td>\n    </tr>\n    <tr>\n      <th>acc</th>\n      <td>0.833333</td>\n      <td>1.0</td>\n      <td>1.0</td>\n    </tr>\n    <tr>\n      <th>pre</th>\n      <td>0.666667</td>\n      <td>1.0</td>\n      <td>1.0</td>\n    </tr>\n    <tr>\n      <th>rec</th>\n      <td>1.000000</td>\n      <td>1.0</td>\n      <td>1.0</td>\n    </tr>\n    <tr>\n      <th>s</th>\n      <td>0.750000</td>\n      <td>1.0</td>\n      <td>1.0</td>\n    </tr>\n    <tr>\n      <th>F(B=2)</th>\n      <td>0.909091</td>\n      <td>1.0</td>\n      <td>1.0</td>\n    </tr>\n    <tr>\n      <th>F(B=0.5)</th>\n      <td>0.714286</td>\n      <td>1.0</td>\n      <td>1.0</td>\n    </tr>\n    <tr>\n      <th>TPR</th>\n      <td>1.000000</td>\n      <td>1.0</td>\n      <td>1.0</td>\n    </tr>\n    <tr>\n      <th>FPR</th>\n      <td>0.250000</td>\n      <td>0.0</td>\n      <td>0.0</td>\n    </tr>\n  </tbody>\n</table>\n</div>"
     },
     "execution_count": 85,
     "metadata": {},
     "output_type": "execute_result"
    }
   ],
   "source": [
    "TP = [sum(predicts[\"y\"] * predicts[\"knn1\"]), sum(predicts[\"y\"] * predicts[\"knn3\"]), sum(predicts[\"y\"] * predicts[\"tree\"])]\n",
    "TN = [((predicts[\"y\"] == 0) & (predicts[\"y\"] == predicts[\"knn1\"])).sum(),((predicts[\"y\"] == 0) & (predicts[\"y\"] == predicts[\"knn3\"])).sum(),((predicts[\"y\"] == 0) & (predicts[\"y\"] == predicts[\"tree\"])).sum()] \n",
    "FP = [predicts[\"y\"].sum() - TP[0],predicts[\"y\"].sum() - TP[1],predicts[\"y\"].sum() - TP[2]]\n",
    "FN = [(predicts[\"y\"].count() - predicts[\"y\"].sum()) - TN[0],(predicts[\"y\"].count() - predicts[\"y\"].sum()) - TN[1], (predicts[\"y\"].count() - predicts[\"y\"].sum()) - TN[2]]\n",
    "\n",
    "accuracy = [(TP[i] + TN[i]) / (TP[i] + TN[i] + FP[i] + FN[i]) for i in range(3)]\n",
    "precision = [TP[i] / (TP[i] + FP[i]) for i in range(3)]\n",
    "rec = [TP[i] / (TP[i] + FN[i]) for i in range(3)]\n",
    "s = [TN[i] / (TN[i] + FP[i]) for i in range(3)]\n",
    "\n",
    "F_2 = [((1 + 2**2) * (precision[i] * rec[i]) / (2**2*precision[i] + rec[i])) if precision[i] + rec[i] != 0 else 0 for i in range(3)]\n",
    "F_05 = [((1 + 0.5**2)*(precision[i] * rec[i]) / (0.5**2*precision[i] + rec[i])) if precision[i] + rec[i] != 0 else 0 for i in range(3)]\n",
    "\n",
    "TPR  = rec\n",
    "FPR = np.array([1,1,1]) - np.array(s)\n",
    "\n",
    "metrics = pd.DataFrame({\"TP\": TP, \"TN\": TN, \"FP\":FP, \"FN\": FN, \"acc\": accuracy, \"pre\": precision, \"rec\": rec, \"s\": s, \"F(B=2)\": F_2, \"F(B=0.5)\": F_05, \"TPR\": TPR, \"FPR\": FPR})\n",
    "metrics.T"
   ],
   "metadata": {
    "collapsed": false,
    "ExecuteTime": {
     "end_time": "2024-03-18T18:31:22.579231Z",
     "start_time": "2024-03-18T18:31:22.563230Z"
    }
   },
   "id": "b7d64b82d462e658"
  },
  {
   "cell_type": "markdown",
   "source": [
    "Интерпретация всех метрик:\n",
    "TP, TN - количество правильно предсказанных 1 и 0\n",
    "FP, FN -  количество НЕправильно предсказанных 1 и 0\n",
    "Acc - аккуратность - доля правильных ответов среди всех предсказаний\n",
    "pre - точность - доля правильных ответов среди истинных предсказаний\n",
    "Rec - полнота - Доля объектов, относящихся к истинным, классифицированная правильно\n",
    "s - специфичность - Доля объектов, относящихся к ложным, классифицированная правильно\n",
    "F(B) - среднее между точностью и плотностью. \n",
    "B от 0 до 1 если приоритет у точности, B > 1 приоритет отдаётся плотности\n",
    "TPR - полнота\n",
    "FPR - доля объектов, относящихся к истинным, классифицированная правильно"
   ],
   "metadata": {
    "collapsed": false
   },
   "id": "970f932106e0ac22"
  },
  {
   "cell_type": "markdown",
   "source": [
    "### Кривая рабочих характеристик (ROC)\n",
    "Сравнивает долю ложно положительных примеров (FPR)\n",
    "в сравнении с долей истинно положительных примеров (TPR)"
   ],
   "metadata": {
    "collapsed": false
   },
   "id": "ad49b8765dffe598"
  },
  {
   "cell_type": "code",
   "outputs": [
    {
     "data": {
      "text/plain": "<Figure size 2000x700 with 3 Axes>",
      "image/png": "[encoded data removed]"
     },
     "metadata": {},
     "output_type": "display_data"
    }
   ],
   "source": [
    "import matplotlib.pyplot as plt\n",
    "\n",
    "_,ax = plt.subplots(1,3,figsize = (20,7))\n",
    "names = predicts.items()\n",
    "next(names)\n",
    "for i in range(3):\n",
    "   fpr_array = np.concatenate([[0], [metrics.iloc[i][\"FPR\"]], [1]])\n",
    "   tpr_array = np.concatenate([[0], [metrics.iloc[i][\"TPR\"]], [1]])\n",
    "\n",
    "   ax[i].plot(fpr_array, tpr_array, label=next(names,None)[0])\n",
    "   ax[i].legend()\n",
    "   ax[i].set_xlabel('False Positive Rate')\n",
    "   ax[i].set_ylabel('True Positive Rate')\n",
    "plt.show()"
   ],
   "metadata": {
    "collapsed": false,
    "ExecuteTime": {
     "end_time": "2024-03-18T18:31:23.040226Z",
     "start_time": "2024-03-18T18:31:22.581237Z"
    }
   },
   "id": "7c5e9f98191b96a8",
   "execution_count": 86
  },
  {
   "cell_type": "markdown",
   "source": [
    "Если график вида y = x, значит доля правильных предсказаний равна доле неправильный и классификатор не имеет смысла (то есть, как в анекдоте, шанс верной классификации 50 на 50)\n",
    "\n",
    "В моём же случаи все графики показывают отличную предсказательную способность. А в последних двух графиках она, можно сказать, вообще идеальная.\n",
    "\n",
    "Для сравнения ROC обычно используют AOC (площадь под графиком). На глаз видно, что AOC у второго и третьего графика лучше (идеальная), следовательно, один из них и стоит выбрать в качестве модели, если бы данные имели смысл."
   ],
   "metadata": {
    "collapsed": false
   },
   "id": "cb77260a67e80029"
  }
 ],
 "metadata": {
  "kernelspec": {
   "display_name": "Python 3",
   "language": "python",
   "name": "python3"
  },
  "language_info": {
   "codemirror_mode": {
    "name": "ipython",
    "version": 2
   },
   "file_extension": ".py",
   "mimetype": "text/x-python",
   "name": "python",
   "nbconvert_exporter": "python",
   "pygments_lexer": "ipython2",
   "version": "2.7.6"
  }
 },
 "nbformat": 4,
 "nbformat_minor": 5
}
