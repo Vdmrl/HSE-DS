{
 "cells": [
  {
   "cell_type": "markdown",
   "source": [
    "## Лузина Владимира РИС22-2\n",
    "# Семинар 7. Сравнение наборов данных"
   ],
   "metadata": {
    "collapsed": false
   },
   "id": "8b438210c6cf219a"
  },
  {
   "cell_type": "markdown",
   "source": [
    "Используя имеющиеся статистические данные выполнить следующие шаги:\n",
    "1) Построить три однопараметрические регрессионные модели (линейная, параболическая и экспоненциальная)\n",
    "2) Для каждой модели рассчитать статистические показатели и интерпретировать их.\n",
    "3) Проверить выбранные гипотезы с помощью правила q/2q/3q и сделать выводы об их принятии или не принятии.\n",
    "4) Построить box-plot и скрипичную диаграммы для визуального сравнения гипотез со статистическими данными."
   ],
   "metadata": {
    "collapsed": false
   },
   "id": "8e9bef38c453470"
  },
  {
   "cell_type": "markdown",
   "source": [
    "Я не стал удалять выбросы, так как это не связано с текущей задачей"
   ],
   "metadata": {
    "collapsed": false
   },
   "id": "1a1172817ec61e7d"
  },
  {
   "cell_type": "code",
   "execution_count": 1109,
   "outputs": [],
   "source": [
    "import math\n",
    "import pandas as pd\n",
    "import numpy as np\n",
    "import sklearn.metrics as mtr\n",
    "import seaborn as sns\n",
    "import matplotlib.pyplot as plt\n",
    "import scipy\n",
    "import warnings\n",
    "warnings.filterwarnings(\"ignore\", category=FutureWarning)\n"
   ],
   "metadata": {
    "collapsed": false,
    "ExecuteTime": {
     "end_time": "2024-03-01T21:45:01.710814Z",
     "start_time": "2024-03-01T21:45:01.706853Z"
    }
   },
   "id": "6a554d4f774558d9"
  },
  {
   "cell_type": "markdown",
   "source": [
    "Исходные данные взяты так, чтобы параболическая модель была самой точной"
   ],
   "metadata": {
    "collapsed": false
   },
   "id": "183099147bcafc38"
  },
  {
   "cell_type": "code",
   "execution_count": 1110,
   "outputs": [
    {
     "data": {
      "text/plain": "    day  price  amount\n0     1   2.61    46.0\n1     2   5.45    55.0\n2     3   2.88    53.0\n3     4   4.28    43.0\n4     5   2.47    61.0\n5     6   4.57    48.0\n6     7   0.15   198.0\n7     8   0.38   151.0\n8     9   1.10   115.0\n9    10   2.43    43.0\n10   11   1.23   137.0\n11   12   5.93    89.0\n12   13   1.44   134.0\n13   14   1.28    97.0\n14   15   1.43    90.0\n15   16   1.90   133.0\n16   17   1.96    97.0\n17   18   2.08    67.0\n18   19   3.88    60.0\n19   20   4.41    55.0",
      "text/html": "<div>\n<style scoped>\n    .dataframe tbody tr th:only-of-type {\n        vertical-align: middle;\n    }\n\n    .dataframe tbody tr th {\n        vertical-align: top;\n    }\n\n    .dataframe thead th {\n        text-align: right;\n    }\n</style>\n<table border=\"1\" class=\"dataframe\">\n  <thead>\n    <tr style=\"text-align: right;\">\n      <th></th>\n      <th>day</th>\n      <th>price</th>\n      <th>amount</th>\n    </tr>\n  </thead>\n  <tbody>\n    <tr>\n      <th>0</th>\n      <td>1</td>\n      <td>2.61</td>\n      <td>46.0</td>\n    </tr>\n    <tr>\n      <th>1</th>\n      <td>2</td>\n      <td>5.45</td>\n      <td>55.0</td>\n    </tr>\n    <tr>\n      <th>2</th>\n      <td>3</td>\n      <td>2.88</td>\n      <td>53.0</td>\n    </tr>\n    <tr>\n      <th>3</th>\n      <td>4</td>\n      <td>4.28</td>\n      <td>43.0</td>\n    </tr>\n    <tr>\n      <th>4</th>\n      <td>5</td>\n      <td>2.47</td>\n      <td>61.0</td>\n    </tr>\n    <tr>\n      <th>5</th>\n      <td>6</td>\n      <td>4.57</td>\n      <td>48.0</td>\n    </tr>\n    <tr>\n      <th>6</th>\n      <td>7</td>\n      <td>0.15</td>\n      <td>198.0</td>\n    </tr>\n    <tr>\n      <th>7</th>\n      <td>8</td>\n      <td>0.38</td>\n      <td>151.0</td>\n    </tr>\n    <tr>\n      <th>8</th>\n      <td>9</td>\n      <td>1.10</td>\n      <td>115.0</td>\n    </tr>\n    <tr>\n      <th>9</th>\n      <td>10</td>\n      <td>2.43</td>\n      <td>43.0</td>\n    </tr>\n    <tr>\n      <th>10</th>\n      <td>11</td>\n      <td>1.23</td>\n      <td>137.0</td>\n    </tr>\n    <tr>\n      <th>11</th>\n      <td>12</td>\n      <td>5.93</td>\n      <td>89.0</td>\n    </tr>\n    <tr>\n      <th>12</th>\n      <td>13</td>\n      <td>1.44</td>\n      <td>134.0</td>\n    </tr>\n    <tr>\n      <th>13</th>\n      <td>14</td>\n      <td>1.28</td>\n      <td>97.0</td>\n    </tr>\n    <tr>\n      <th>14</th>\n      <td>15</td>\n      <td>1.43</td>\n      <td>90.0</td>\n    </tr>\n    <tr>\n      <th>15</th>\n      <td>16</td>\n      <td>1.90</td>\n      <td>133.0</td>\n    </tr>\n    <tr>\n      <th>16</th>\n      <td>17</td>\n      <td>1.96</td>\n      <td>97.0</td>\n    </tr>\n    <tr>\n      <th>17</th>\n      <td>18</td>\n      <td>2.08</td>\n      <td>67.0</td>\n    </tr>\n    <tr>\n      <th>18</th>\n      <td>19</td>\n      <td>3.88</td>\n      <td>60.0</td>\n    </tr>\n    <tr>\n      <th>19</th>\n      <td>20</td>\n      <td>4.41</td>\n      <td>55.0</td>\n    </tr>\n  </tbody>\n</table>\n</div>"
     },
     "execution_count": 1110,
     "metadata": {},
     "output_type": "execute_result"
    }
   ],
   "source": [
    "df = pd.DataFrame({'day': [i for i in range(1, 21)],  # дни с 1 по 20\n",
    "                   'price': [2.61,5.45,2.88,4.28,2.47,4.57,0.15,0.38,1.10,2.43,1.23,5.93,1.44,1.28,1.43,1.90,1.96,2.08,3.88,4.41],  # стоимость\n",
    "                   'amount': [46,55,53,43,61,48,198,151,115,43,137,89,134,97,90,133,97.,67,60,55]})  # число продаж\n",
    "\n",
    "df"
   ],
   "metadata": {
    "collapsed": false,
    "ExecuteTime": {
     "end_time": "2024-03-01T21:45:02.602545Z",
     "start_time": "2024-03-01T21:45:02.591247Z"
    }
   },
   "id": "5ecd668b006d11a4"
  },
  {
   "cell_type": "markdown",
   "source": [
    "### Cтатистические показатели"
   ],
   "metadata": {
    "collapsed": false
   },
   "id": "dad3a537eca2f2ed"
  },
  {
   "cell_type": "markdown",
   "source": [
    "MAE (mean absolute error — средняя абсолютная ошибка)\n",
    "RMSE (root mean square error — среднеквадратичная ошибка)\n",
    "MAPE (mean percentage absolute error — средняя абсолютная ошибка в процентах)\n",
    "D (r2 score - детерминационное отношение)"
   ],
   "metadata": {
    "collapsed": false
   },
   "id": "d0a2a24b7552a9a4"
  },
  {
   "cell_type": "markdown",
   "source": [
    "#### Линейная модель"
   ],
   "metadata": {
    "collapsed": false
   },
   "id": "59db5071a4316e5f"
  },
  {
   "cell_type": "markdown",
   "source": [
    "Согласно определению функции должно быть однозначное соответствие значений осей абсцисс и ординат. Для\n",
    "этого удалим дублирующие значения цен, оставив повторяющиеся значения количества продаж\n",
    " (также возможно заменить их средними значениями).\n"
   ],
   "metadata": {
    "collapsed": false
   },
   "id": "a14458bfbff2f334"
  },
  {
   "cell_type": "code",
   "execution_count": 1111,
   "outputs": [],
   "source": [
    "df_without_day = df.drop(\"day\", axis=1)"
   ],
   "metadata": {
    "collapsed": false,
    "ExecuteTime": {
     "end_time": "2024-03-01T21:45:02.643595Z",
     "start_time": "2024-03-01T21:45:02.639550Z"
    }
   },
   "id": "853a915baf98f5f"
  },
  {
   "cell_type": "code",
   "execution_count": 1112,
   "outputs": [],
   "source": [
    "df_unique_amounts = df_without_day.drop_duplicates(subset=['price'])"
   ],
   "metadata": {
    "collapsed": false,
    "ExecuteTime": {
     "end_time": "2024-03-01T21:45:02.728817Z",
     "start_time": "2024-03-01T21:45:02.725597Z"
    }
   },
   "id": "e04fcacce2a0f97a"
  },
  {
   "cell_type": "markdown",
   "source": [
    "Создадим вспомогательную матрицу A,\n",
    "Где каждому значению A, каждый из которых 1, соответствует цена"
   ],
   "metadata": {
    "collapsed": false
   },
   "id": "23fbececf2d68c02"
  },
  {
   "cell_type": "code",
   "execution_count": 1113,
   "outputs": [
    {
     "data": {
      "text/plain": "    A  price\n0   1   2.61\n1   1   5.45\n2   1   2.88\n3   1   4.28\n4   1   2.47\n5   1   4.57\n6   1   0.15\n7   1   0.38\n8   1   1.10\n9   1   2.43\n10  1   1.23\n11  1   5.93\n12  1   1.44\n13  1   1.28\n14  1   1.43\n15  1   1.90\n16  1   1.96\n17  1   2.08\n18  1   3.88\n19  1   4.41",
      "text/html": "<div>\n<style scoped>\n    .dataframe tbody tr th:only-of-type {\n        vertical-align: middle;\n    }\n\n    .dataframe tbody tr th {\n        vertical-align: top;\n    }\n\n    .dataframe thead th {\n        text-align: right;\n    }\n</style>\n<table border=\"1\" class=\"dataframe\">\n  <thead>\n    <tr style=\"text-align: right;\">\n      <th></th>\n      <th>A</th>\n      <th>price</th>\n    </tr>\n  </thead>\n  <tbody>\n    <tr>\n      <th>0</th>\n      <td>1</td>\n      <td>2.61</td>\n    </tr>\n    <tr>\n      <th>1</th>\n      <td>1</td>\n      <td>5.45</td>\n    </tr>\n    <tr>\n      <th>2</th>\n      <td>1</td>\n      <td>2.88</td>\n    </tr>\n    <tr>\n      <th>3</th>\n      <td>1</td>\n      <td>4.28</td>\n    </tr>\n    <tr>\n      <th>4</th>\n      <td>1</td>\n      <td>2.47</td>\n    </tr>\n    <tr>\n      <th>5</th>\n      <td>1</td>\n      <td>4.57</td>\n    </tr>\n    <tr>\n      <th>6</th>\n      <td>1</td>\n      <td>0.15</td>\n    </tr>\n    <tr>\n      <th>7</th>\n      <td>1</td>\n      <td>0.38</td>\n    </tr>\n    <tr>\n      <th>8</th>\n      <td>1</td>\n      <td>1.10</td>\n    </tr>\n    <tr>\n      <th>9</th>\n      <td>1</td>\n      <td>2.43</td>\n    </tr>\n    <tr>\n      <th>10</th>\n      <td>1</td>\n      <td>1.23</td>\n    </tr>\n    <tr>\n      <th>11</th>\n      <td>1</td>\n      <td>5.93</td>\n    </tr>\n    <tr>\n      <th>12</th>\n      <td>1</td>\n      <td>1.44</td>\n    </tr>\n    <tr>\n      <th>13</th>\n      <td>1</td>\n      <td>1.28</td>\n    </tr>\n    <tr>\n      <th>14</th>\n      <td>1</td>\n      <td>1.43</td>\n    </tr>\n    <tr>\n      <th>15</th>\n      <td>1</td>\n      <td>1.90</td>\n    </tr>\n    <tr>\n      <th>16</th>\n      <td>1</td>\n      <td>1.96</td>\n    </tr>\n    <tr>\n      <th>17</th>\n      <td>1</td>\n      <td>2.08</td>\n    </tr>\n    <tr>\n      <th>18</th>\n      <td>1</td>\n      <td>3.88</td>\n    </tr>\n    <tr>\n      <th>19</th>\n      <td>1</td>\n      <td>4.41</td>\n    </tr>\n  </tbody>\n</table>\n</div>"
     },
     "execution_count": 1113,
     "metadata": {},
     "output_type": "execute_result"
    }
   ],
   "source": [
    "A =  df_unique_amounts.drop(\"amount\", axis=1)\n",
    "A[\"A\"] = [1 for i in range(len(A))]\n",
    "temp = A[\"price\"]\n",
    "A = A.drop(\"price\", axis=1)\n",
    "A[\"price\"] = temp\n",
    "A"
   ],
   "metadata": {
    "collapsed": false,
    "ExecuteTime": {
     "end_time": "2024-03-01T21:45:02.861721Z",
     "start_time": "2024-03-01T21:45:02.852329Z"
    }
   },
   "id": "1825f808bea543b7"
  },
  {
   "cell_type": "markdown",
   "source": [
    "Также создадим вектор цен y, соответствующих уникальным количествам продаж"
   ],
   "metadata": {
    "collapsed": false
   },
   "id": "d07be5a12556051"
  },
  {
   "cell_type": "code",
   "execution_count": 1114,
   "outputs": [
    {
     "data": {
      "text/plain": "0      46.0\n1      55.0\n2      53.0\n3      43.0\n4      61.0\n5      48.0\n6     198.0\n7     151.0\n8     115.0\n9      43.0\n10    137.0\n11     89.0\n12    134.0\n13     97.0\n14     90.0\n15    133.0\n16     97.0\n17     67.0\n18     60.0\n19     55.0\nName: amount, dtype: float64"
     },
     "execution_count": 1114,
     "metadata": {},
     "output_type": "execute_result"
    }
   ],
   "source": [
    "y = df_unique_amounts[\"amount\"]\n",
    "y"
   ],
   "metadata": {
    "collapsed": false,
    "ExecuteTime": {
     "end_time": "2024-03-01T21:45:02.976496Z",
     "start_time": "2024-03-01T21:45:02.971285Z"
    }
   },
   "id": "8ea4ba70f6ef8f96"
  },
  {
   "cell_type": "markdown",
   "source": [
    "Вычисляем значения коэффициентов по формуле\n",
    "$c = ((A^T*A)^{-1}*A^T)*y$"
   ],
   "metadata": {
    "collapsed": false
   },
   "id": "72c63eb94d279597"
  },
  {
   "cell_type": "code",
   "execution_count": 1115,
   "outputs": [
    {
     "data": {
      "text/plain": "0    136.333855\n1    -18.408737\ndtype: float64"
     },
     "execution_count": 1115,
     "metadata": {},
     "output_type": "execute_result"
    }
   ],
   "source": [
    "c = (np.linalg.inv(A.T @ A) @ A.T) @ y\n",
    "c"
   ],
   "metadata": {
    "collapsed": false,
    "ExecuteTime": {
     "end_time": "2024-03-01T21:45:03.048684Z",
     "start_time": "2024-03-01T21:45:03.042531Z"
    }
   },
   "id": "f70d64a898c46b08"
  },
  {
   "cell_type": "markdown",
   "source": [
    "Окончательно запишем искомую функцию"
   ],
   "metadata": {
    "collapsed": false
   },
   "id": "a76ebf99ff710196"
  },
  {
   "cell_type": "code",
   "execution_count": 1116,
   "outputs": [
    {
     "name": "stdout",
     "output_type": "stream",
     "text": [
      "f(x) = -18.408736953693467*x + 136.33385492092717\n"
     ]
    }
   ],
   "source": [
    "print(f\"f(x) = {c[1]}*x + {c[0]}\")"
   ],
   "metadata": {
    "collapsed": false,
    "ExecuteTime": {
     "end_time": "2024-03-01T21:45:03.181543Z",
     "start_time": "2024-03-01T21:45:03.178196Z"
    }
   },
   "id": "2d92ac3293bba9dc"
  },
  {
   "cell_type": "markdown",
   "source": [
    "Коэффициент $c_1$ показывает значение f(x) при x = 0. Из значения этого коэффициента можно сделать вывод, что при нулевой цене количество продаж будет примерно 136\n",
    "Коэффициент $c_2$ показывает, на сколько единиц в среднем изменится f(x), если x изменится на одну единицу. Из\n",
    "рассмотренного примера можно сделать вывод, что уменьшение цены на 1 приводит к\n",
    "уменьшению объема продаж на 18 единиц продукции."
   ],
   "metadata": {
    "collapsed": false
   },
   "id": "125c211873c8b10a"
  },
  {
   "cell_type": "code",
   "execution_count": 1117,
   "outputs": [],
   "source": [
    "def linear_regression(x: int) -> float:\n",
    "    return c[1]*x + c[0]"
   ],
   "metadata": {
    "collapsed": false,
    "ExecuteTime": {
     "end_time": "2024-03-01T21:45:03.235607Z",
     "start_time": "2024-03-01T21:45:03.232568Z"
    }
   },
   "id": "aeea69e29a6e0ee6"
  },
  {
   "cell_type": "markdown",
   "source": [
    "Cделаем предикт"
   ],
   "metadata": {
    "collapsed": false
   },
   "id": "5a0e45b023da44fa"
  },
  {
   "cell_type": "code",
   "execution_count": 1118,
   "outputs": [
    {
     "data": {
      "text/plain": "0      88.287051\n1      36.006239\n2      83.316692\n3      57.544461\n4      90.864275\n5      52.205927\n6     133.572544\n7     129.338535\n8     116.084244\n9      91.600624\n10    113.691108\n11     27.170045\n12    109.825274\n13    112.770672\n14    110.009361\n15    101.357255\n16    100.252730\n17     98.043682\n18     64.907956\n19     55.151325\ndtype: float64"
     },
     "execution_count": 1118,
     "metadata": {},
     "output_type": "execute_result"
    }
   ],
   "source": [
    "amount_pred = pd.Series([linear_regression(i) for i in df[\"price\"]])\n",
    "amount_pred"
   ],
   "metadata": {
    "collapsed": false,
    "ExecuteTime": {
     "end_time": "2024-03-01T21:45:03.434678Z",
     "start_time": "2024-03-01T21:45:03.429630Z"
    }
   },
   "id": "b726e5ed61b3f80c"
  },
  {
   "cell_type": "markdown",
   "source": [
    "#### Cтатистические показатели"
   ],
   "metadata": {
    "collapsed": false
   },
   "id": "1b4ec8ebffb69392"
  },
  {
   "cell_type": "markdown",
   "source": [
    "#### MAE (mean absolute error — средняя абсолютная ошибка)\n"
   ],
   "metadata": {
    "collapsed": false
   },
   "id": "8ae0014f7ab45234"
  },
  {
   "cell_type": "code",
   "outputs": [
    {
     "data": {
      "text/plain": "24.60390005503782"
     },
     "execution_count": 1119,
     "metadata": {},
     "output_type": "execute_result"
    }
   ],
   "source": [
    "MAE = mtr.mean_absolute_error(df[\"amount\"], amount_pred)\n",
    "MAE"
   ],
   "metadata": {
    "collapsed": false,
    "ExecuteTime": {
     "end_time": "2024-03-01T21:45:03.493896Z",
     "start_time": "2024-03-01T21:45:03.488678Z"
    }
   },
   "id": "2ad81260158aec24",
   "execution_count": 1119
  },
  {
   "cell_type": "markdown",
   "source": [
    "Интерпретация\n",
    "Насколько в среднем отклоняется объём продаж реальный от моделируемых\n",
    "В среднем прогнозируемый объём продаж отклоняется на 17 единиц\n",
    "линейная шкала более наглядна при сравнении точности моделей на разных масштабах данных. \n",
    "Кроме этого, абсолютная ошибка оказывается менее чувствительна к выбросам в данных, чем среднеквадратическая."
   ],
   "metadata": {
    "collapsed": false
   },
   "id": "7c774d7c93c3645a"
  },
  {
   "cell_type": "markdown",
   "source": [
    "#### RMSE (root mean square error — среднеквадратичная ошибка - Сигма остаточное) \n"
   ],
   "metadata": {
    "collapsed": false
   },
   "id": "37b2ecef3df5202c"
  },
  {
   "cell_type": "code",
   "outputs": [
    {
     "data": {
      "text/plain": "30.636494954144045"
     },
     "execution_count": 1120,
     "metadata": {},
     "output_type": "execute_result"
    }
   ],
   "source": [
    "RMSE = mtr.root_mean_squared_error(df[\"amount\"], amount_pred)\n",
    "RMSE"
   ],
   "metadata": {
    "collapsed": false,
    "ExecuteTime": {
     "end_time": "2024-03-01T21:45:03.584482Z",
     "start_time": "2024-03-01T21:45:03.578925Z"
    }
   },
   "id": "aba6e086b0cb2e0d",
   "execution_count": 1120
  },
  {
   "cell_type": "markdown",
   "source": [
    "Интерпретация\n",
    "Насколько в среднем отклоняется объём продаж реальный от моделируемых\n",
    "В среднем прогнозируемый объём продаж отклоняется на 31\n",
    "так как каждое отклонение возводится в квадрат, любое небольшое отклонение может значительно повлиять на показатель ошибки"
   ],
   "metadata": {
    "collapsed": false
   },
   "id": "82edd81fbad23991"
  },
  {
   "cell_type": "markdown",
   "source": [
    "#### MAPE (mean percentage absolute error — средняя абсолютная ошибка в процентах)\n"
   ],
   "metadata": {
    "collapsed": false
   },
   "id": "3d432ca98ee2d10e"
  },
  {
   "cell_type": "code",
   "outputs": [
    {
     "data": {
      "text/plain": "0.3305058020090107"
     },
     "execution_count": 1121,
     "metadata": {},
     "output_type": "execute_result"
    }
   ],
   "source": [
    "MAPE = mtr.mean_absolute_percentage_error(df[\"amount\"], amount_pred)\n",
    "MAPE"
   ],
   "metadata": {
    "collapsed": false,
    "ExecuteTime": {
     "end_time": "2024-03-01T21:45:03.643837Z",
     "start_time": "2024-03-01T21:45:03.637815Z"
    }
   },
   "id": "596f82176d26198e",
   "execution_count": 1121
  },
  {
   "cell_type": "markdown",
   "source": [
    "Интерпретация\n",
    "Вероятность ошибки\n",
    "Вероятность ошибки при прогнозировании будет 0.33\n",
    "Основная проблема данной ошибки — нестабильность."
   ],
   "metadata": {
    "collapsed": false
   },
   "id": "d7f48739cfa6a0c9"
  },
  {
   "cell_type": "markdown",
   "source": [
    "#### D (детерминационное отношение)"
   ],
   "metadata": {
    "collapsed": false
   },
   "id": "7db5bbac73df2ef4"
  },
  {
   "cell_type": "code",
   "outputs": [
    {
     "data": {
      "text/plain": "0.48245154610579666"
     },
     "execution_count": 1122,
     "metadata": {},
     "output_type": "execute_result"
    }
   ],
   "source": [
    "coef_determ = mtr.r2_score(df[\"amount\"], amount_pred)\n",
    "coef_determ"
   ],
   "metadata": {
    "collapsed": false,
    "ExecuteTime": {
     "end_time": "2024-03-01T21:45:03.791220Z",
     "start_time": "2024-03-01T21:45:03.785325Z"
    }
   },
   "id": "6758e74c25ed7e5b",
   "execution_count": 1122
  },
  {
   "cell_type": "markdown",
   "source": [
    "Интерпретация\n",
    "Вероятность правильного ответа\n",
    "Вероятность правильного ответа при прогнозировании 0.48"
   ],
   "metadata": {
    "collapsed": false
   },
   "id": "5b529f56ac4dbf7"
  },
  {
   "cell_type": "markdown",
   "source": [
    "#### Проверка значимости"
   ],
   "metadata": {
    "collapsed": false
   },
   "id": "79460e24d771f9fe"
  },
  {
   "cell_type": "markdown",
   "source": [
    "F опытное "
   ],
   "metadata": {
    "collapsed": false
   },
   "id": "4f6b05316bf99441"
  },
  {
   "cell_type": "code",
   "outputs": [
    {
     "data": {
      "text/plain": "16.779352280085334"
     },
     "execution_count": 1123,
     "metadata": {},
     "output_type": "execute_result"
    }
   ],
   "source": [
    "m = 1\n",
    "n = len(df)\n",
    "f_op = coef_determ/(1-coef_determ) * ((n - m - 1) / m)\n",
    "f_op"
   ],
   "metadata": {
    "collapsed": false,
    "ExecuteTime": {
     "end_time": "2024-03-01T21:45:03.820559Z",
     "start_time": "2024-03-01T21:45:03.816218Z"
    }
   },
   "id": "fcde875c0701ce48",
   "execution_count": 1123
  },
  {
   "cell_type": "markdown",
   "source": [
    "F критическое (alpha = 0.05)"
   ],
   "metadata": {
    "collapsed": false
   },
   "id": "7995cf8a08fbf18a"
  },
  {
   "cell_type": "code",
   "outputs": [
    {
     "data": {
      "text/plain": "2.1906479255678026"
     },
     "execution_count": 1124,
     "metadata": {},
     "output_type": "execute_result"
    }
   ],
   "source": [
    "m = 1\n",
    "n = len(df)\n",
    "a = 0.05\n",
    "f_crit = scipy.stats.f.ppf(q=1-a, dfn = n, dfd = n-m-1)\n",
    "f_crit"
   ],
   "metadata": {
    "collapsed": false,
    "ExecuteTime": {
     "end_time": "2024-03-01T21:45:03.904439Z",
     "start_time": "2024-03-01T21:45:03.899556Z"
    }
   },
   "id": "e28ade26c7e4bb2e",
   "execution_count": 1124
  },
  {
   "cell_type": "code",
   "outputs": [
    {
     "name": "stdout",
     "output_type": "stream",
     "text": [
      "Модель значима, значит её можно использовать в прогнозировании\n"
     ]
    }
   ],
   "source": [
    "if f_op > f_crit:\n",
    "    print(\"Модель значима, значит её можно использовать в прогнозировании\")\n",
    "else:\n",
    "    print(\"Модель НЕ значима, значит её НЕЛЬЗЯ использовать в прогнозировании\")"
   ],
   "metadata": {
    "collapsed": false,
    "ExecuteTime": {
     "end_time": "2024-03-01T21:45:04.016283Z",
     "start_time": "2024-03-01T21:45:04.012464Z"
    }
   },
   "id": "48020ecb7917c747",
   "execution_count": 1125
  },
  {
   "cell_type": "markdown",
   "source": [
    "### Проверка гипотез S/2S/3S"
   ],
   "metadata": {
    "collapsed": false
   },
   "id": "de3e3129447f2a33"
  },
  {
   "cell_type": "code",
   "outputs": [
    {
     "data": {
      "text/plain": "43.691984089581126"
     },
     "execution_count": 1126,
     "metadata": {},
     "output_type": "execute_result"
    }
   ],
   "source": [
    "std = df[\"amount\"].std()\n",
    "std"
   ],
   "metadata": {
    "collapsed": false,
    "ExecuteTime": {
     "end_time": "2024-03-01T21:45:04.160582Z",
     "start_time": "2024-03-01T21:45:04.156308Z"
    }
   },
   "id": "baddee28b5a92518",
   "execution_count": 1126
  },
  {
   "cell_type": "markdown",
   "source": [
    "Найдём, попадают ли найденные значения в интервалы от +-S до +-3S\n",
    "True - попадают, False - нет"
   ],
   "metadata": {
    "collapsed": false
   },
   "id": "9c9f0b51cbabfae6"
  },
  {
   "cell_type": "code",
   "outputs": [
    {
     "data": {
      "text/plain": "        S    2S    3S\n0    True  True  True\n1    True  True  True\n2    True  True  True\n3    True  True  True\n4    True  True  True\n5    True  True  True\n6   False  True  True\n7    True  True  True\n8    True  True  True\n9   False  True  True\n10   True  True  True\n11  False  True  True\n12   True  True  True\n13   True  True  True\n14   True  True  True\n15   True  True  True\n16   True  True  True\n17   True  True  True\n18   True  True  True\n19   True  True  True",
      "text/html": "<div>\n<style scoped>\n    .dataframe tbody tr th:only-of-type {\n        vertical-align: middle;\n    }\n\n    .dataframe tbody tr th {\n        vertical-align: top;\n    }\n\n    .dataframe thead th {\n        text-align: right;\n    }\n</style>\n<table border=\"1\" class=\"dataframe\">\n  <thead>\n    <tr style=\"text-align: right;\">\n      <th></th>\n      <th>S</th>\n      <th>2S</th>\n      <th>3S</th>\n    </tr>\n  </thead>\n  <tbody>\n    <tr>\n      <th>0</th>\n      <td>True</td>\n      <td>True</td>\n      <td>True</td>\n    </tr>\n    <tr>\n      <th>1</th>\n      <td>True</td>\n      <td>True</td>\n      <td>True</td>\n    </tr>\n    <tr>\n      <th>2</th>\n      <td>True</td>\n      <td>True</td>\n      <td>True</td>\n    </tr>\n    <tr>\n      <th>3</th>\n      <td>True</td>\n      <td>True</td>\n      <td>True</td>\n    </tr>\n    <tr>\n      <th>4</th>\n      <td>True</td>\n      <td>True</td>\n      <td>True</td>\n    </tr>\n    <tr>\n      <th>5</th>\n      <td>True</td>\n      <td>True</td>\n      <td>True</td>\n    </tr>\n    <tr>\n      <th>6</th>\n      <td>False</td>\n      <td>True</td>\n      <td>True</td>\n    </tr>\n    <tr>\n      <th>7</th>\n      <td>True</td>\n      <td>True</td>\n      <td>True</td>\n    </tr>\n    <tr>\n      <th>8</th>\n      <td>True</td>\n      <td>True</td>\n      <td>True</td>\n    </tr>\n    <tr>\n      <th>9</th>\n      <td>False</td>\n      <td>True</td>\n      <td>True</td>\n    </tr>\n    <tr>\n      <th>10</th>\n      <td>True</td>\n      <td>True</td>\n      <td>True</td>\n    </tr>\n    <tr>\n      <th>11</th>\n      <td>False</td>\n      <td>True</td>\n      <td>True</td>\n    </tr>\n    <tr>\n      <th>12</th>\n      <td>True</td>\n      <td>True</td>\n      <td>True</td>\n    </tr>\n    <tr>\n      <th>13</th>\n      <td>True</td>\n      <td>True</td>\n      <td>True</td>\n    </tr>\n    <tr>\n      <th>14</th>\n      <td>True</td>\n      <td>True</td>\n      <td>True</td>\n    </tr>\n    <tr>\n      <th>15</th>\n      <td>True</td>\n      <td>True</td>\n      <td>True</td>\n    </tr>\n    <tr>\n      <th>16</th>\n      <td>True</td>\n      <td>True</td>\n      <td>True</td>\n    </tr>\n    <tr>\n      <th>17</th>\n      <td>True</td>\n      <td>True</td>\n      <td>True</td>\n    </tr>\n    <tr>\n      <th>18</th>\n      <td>True</td>\n      <td>True</td>\n      <td>True</td>\n    </tr>\n    <tr>\n      <th>19</th>\n      <td>True</td>\n      <td>True</td>\n      <td>True</td>\n    </tr>\n  </tbody>\n</table>\n</div>"
     },
     "execution_count": 1127,
     "metadata": {},
     "output_type": "execute_result"
    }
   ],
   "source": [
    "is_in_intervals = pd.DataFrame({\n",
    "    \"S\": [df[\"amount\"].iloc[i] - std < amount_pred.iloc[i] < df[\"amount\"].iloc[i] + std for i in range(len(amount_pred))],\n",
    "    \"2S\": [df[\"amount\"].iloc[i] - 2*std < amount_pred.iloc[i] < df[\"amount\"].iloc[i] + 2*std for i in range(len(amount_pred))],\n",
    "    \"3S\": [df[\"amount\"].iloc[i] - 3*std < amount_pred.iloc[i] < df[\"amount\"].iloc[i] + 3*std for i in range(len(amount_pred))]})\n",
    "is_in_intervals"
   ],
   "metadata": {
    "collapsed": false,
    "ExecuteTime": {
     "end_time": "2024-03-01T21:45:04.222233Z",
     "start_time": "2024-03-01T21:45:04.212584Z"
    }
   },
   "id": "cbf48b3d6475cc7d",
   "execution_count": 1127
  },
  {
   "cell_type": "markdown",
   "source": [
    "Найдём процент попаданий для каждого S"
   ],
   "metadata": {
    "collapsed": false
   },
   "id": "b6ad9ea63a6729eb"
  },
  {
   "cell_type": "code",
   "outputs": [
    {
     "data": {
      "text/plain": "       S      2S      3S\n0  85.0%  100.0%  100.0%",
      "text/html": "<div>\n<style scoped>\n    .dataframe tbody tr th:only-of-type {\n        vertical-align: middle;\n    }\n\n    .dataframe tbody tr th {\n        vertical-align: top;\n    }\n\n    .dataframe thead th {\n        text-align: right;\n    }\n</style>\n<table border=\"1\" class=\"dataframe\">\n  <thead>\n    <tr style=\"text-align: right;\">\n      <th></th>\n      <th>S</th>\n      <th>2S</th>\n      <th>3S</th>\n    </tr>\n  </thead>\n  <tbody>\n    <tr>\n      <th>0</th>\n      <td>85.0%</td>\n      <td>100.0%</td>\n      <td>100.0%</td>\n    </tr>\n  </tbody>\n</table>\n</div>"
     },
     "execution_count": 1128,
     "metadata": {},
     "output_type": "execute_result"
    }
   ],
   "source": [
    "hit_accuracy = pd.DataFrame({\n",
    "    \"S\": [((is_in_intervals[is_in_intervals[\"S\"]][\"S\"].count() / is_in_intervals[\"S\"].count())*100).astype(str)+'%'],\n",
    "    \"2S\": [((is_in_intervals[is_in_intervals[\"2S\"]][\"2S\"].count() / is_in_intervals[\"2S\"].count())*100).astype(str)+'%'],\n",
    "    \"3S\": [((is_in_intervals[is_in_intervals[\"3S\"]][\"3S\"].count() / is_in_intervals[\"3S\"].count())*100).astype(str)+'%']})\n",
    "hit_accuracy"
   ],
   "metadata": {
    "collapsed": false,
    "ExecuteTime": {
     "end_time": "2024-03-01T21:45:04.379171Z",
     "start_time": "2024-03-01T21:45:04.371232Z"
    }
   },
   "id": "d42cdbcd814b0162",
   "execution_count": 1128
  },
  {
   "cell_type": "markdown",
   "source": [
    "S должна быть больше 68%, 2S больше 95% и 3S 99.7%\n",
    "В нашем случае частотность превышает пороговые значения\n",
    "Значит прогноз удачный и достаточно велик для точного прогноза"
   ],
   "metadata": {
    "collapsed": false
   },
   "id": "90335e88f7b7e6d9"
  },
  {
   "cell_type": "markdown",
   "source": [
    "### Параболическая модель\n",
    "$y = c_1 + c_2*s + c_3*x**2$"
   ],
   "metadata": {
    "collapsed": false
   },
   "id": "90bb8ccc27e17ddc"
  },
  {
   "cell_type": "markdown",
   "source": [
    "Создадим вспомогательную матрицу A,\n",
    "Где каждому значению A, каждый из которых 1, соответствует цена и квадрат цены"
   ],
   "metadata": {
    "collapsed": false
   },
   "id": "f8b662e25cff064a"
  },
  {
   "cell_type": "code",
   "execution_count": 1129,
   "outputs": [
    {
     "data": {
      "text/plain": "    A  price  price_sqr\n0   1   2.61     6.8121\n1   1   5.45    29.7025\n2   1   2.88     8.2944\n3   1   4.28    18.3184\n4   1   2.47     6.1009\n5   1   4.57    20.8849\n6   1   0.15     0.0225\n7   1   0.38     0.1444\n8   1   1.10     1.2100\n9   1   2.43     5.9049\n10  1   1.23     1.5129\n11  1   5.93    35.1649\n12  1   1.44     2.0736\n13  1   1.28     1.6384\n14  1   1.43     2.0449\n15  1   1.90     3.6100\n16  1   1.96     3.8416\n17  1   2.08     4.3264\n18  1   3.88    15.0544\n19  1   4.41    19.4481",
      "text/html": "<div>\n<style scoped>\n    .dataframe tbody tr th:only-of-type {\n        vertical-align: middle;\n    }\n\n    .dataframe tbody tr th {\n        vertical-align: top;\n    }\n\n    .dataframe thead th {\n        text-align: right;\n    }\n</style>\n<table border=\"1\" class=\"dataframe\">\n  <thead>\n    <tr style=\"text-align: right;\">\n      <th></th>\n      <th>A</th>\n      <th>price</th>\n      <th>price_sqr</th>\n    </tr>\n  </thead>\n  <tbody>\n    <tr>\n      <th>0</th>\n      <td>1</td>\n      <td>2.61</td>\n      <td>6.8121</td>\n    </tr>\n    <tr>\n      <th>1</th>\n      <td>1</td>\n      <td>5.45</td>\n      <td>29.7025</td>\n    </tr>\n    <tr>\n      <th>2</th>\n      <td>1</td>\n      <td>2.88</td>\n      <td>8.2944</td>\n    </tr>\n    <tr>\n      <th>3</th>\n      <td>1</td>\n      <td>4.28</td>\n      <td>18.3184</td>\n    </tr>\n    <tr>\n      <th>4</th>\n      <td>1</td>\n      <td>2.47</td>\n      <td>6.1009</td>\n    </tr>\n    <tr>\n      <th>5</th>\n      <td>1</td>\n      <td>4.57</td>\n      <td>20.8849</td>\n    </tr>\n    <tr>\n      <th>6</th>\n      <td>1</td>\n      <td>0.15</td>\n      <td>0.0225</td>\n    </tr>\n    <tr>\n      <th>7</th>\n      <td>1</td>\n      <td>0.38</td>\n      <td>0.1444</td>\n    </tr>\n    <tr>\n      <th>8</th>\n      <td>1</td>\n      <td>1.10</td>\n      <td>1.2100</td>\n    </tr>\n    <tr>\n      <th>9</th>\n      <td>1</td>\n      <td>2.43</td>\n      <td>5.9049</td>\n    </tr>\n    <tr>\n      <th>10</th>\n      <td>1</td>\n      <td>1.23</td>\n      <td>1.5129</td>\n    </tr>\n    <tr>\n      <th>11</th>\n      <td>1</td>\n      <td>5.93</td>\n      <td>35.1649</td>\n    </tr>\n    <tr>\n      <th>12</th>\n      <td>1</td>\n      <td>1.44</td>\n      <td>2.0736</td>\n    </tr>\n    <tr>\n      <th>13</th>\n      <td>1</td>\n      <td>1.28</td>\n      <td>1.6384</td>\n    </tr>\n    <tr>\n      <th>14</th>\n      <td>1</td>\n      <td>1.43</td>\n      <td>2.0449</td>\n    </tr>\n    <tr>\n      <th>15</th>\n      <td>1</td>\n      <td>1.90</td>\n      <td>3.6100</td>\n    </tr>\n    <tr>\n      <th>16</th>\n      <td>1</td>\n      <td>1.96</td>\n      <td>3.8416</td>\n    </tr>\n    <tr>\n      <th>17</th>\n      <td>1</td>\n      <td>2.08</td>\n      <td>4.3264</td>\n    </tr>\n    <tr>\n      <th>18</th>\n      <td>1</td>\n      <td>3.88</td>\n      <td>15.0544</td>\n    </tr>\n    <tr>\n      <th>19</th>\n      <td>1</td>\n      <td>4.41</td>\n      <td>19.4481</td>\n    </tr>\n  </tbody>\n</table>\n</div>"
     },
     "execution_count": 1129,
     "metadata": {},
     "output_type": "execute_result"
    }
   ],
   "source": [
    "A =  df_unique_amounts.drop(\"amount\", axis=1)\n",
    "A[\"A\"] = [1 for i in range(len(A))]\n",
    "temp = A[\"price\"].copy()\n",
    "A = A.drop(\"price\", axis=1)\n",
    "A[\"price\"] = temp\n",
    "A[\"price_sqr\"] = temp**2\n",
    "A"
   ],
   "metadata": {
    "collapsed": false,
    "ExecuteTime": {
     "end_time": "2024-03-01T21:45:04.412385Z",
     "start_time": "2024-03-01T21:45:04.402684Z"
    }
   },
   "id": "1fcd03c52666b91f"
  },
  {
   "cell_type": "markdown",
   "source": [
    "Также создадим вектор цен y, соответствующих уникальным количествам продаж"
   ],
   "metadata": {
    "collapsed": false
   },
   "id": "3c98f5c41bcfb59f"
  },
  {
   "cell_type": "code",
   "execution_count": 1130,
   "outputs": [
    {
     "data": {
      "text/plain": "0      46.0\n1      55.0\n2      53.0\n3      43.0\n4      61.0\n5      48.0\n6     198.0\n7     151.0\n8     115.0\n9      43.0\n10    137.0\n11     89.0\n12    134.0\n13     97.0\n14     90.0\n15    133.0\n16     97.0\n17     67.0\n18     60.0\n19     55.0\nName: amount, dtype: float64"
     },
     "execution_count": 1130,
     "metadata": {},
     "output_type": "execute_result"
    }
   ],
   "source": [
    "y = df_unique_amounts[\"amount\"]\n",
    "y"
   ],
   "metadata": {
    "collapsed": false,
    "ExecuteTime": {
     "end_time": "2024-03-01T21:45:04.516109Z",
     "start_time": "2024-03-01T21:45:04.510383Z"
    }
   },
   "id": "168d8387d816b52b"
  },
  {
   "cell_type": "markdown",
   "source": [
    "Вычисляем значения коэффициентов по формуле\n",
    "$c = ((A^T*A)^{-1}*A^T)*y$"
   ],
   "metadata": {
    "collapsed": false
   },
   "id": "b670fc596bfdf21f"
  },
  {
   "cell_type": "code",
   "execution_count": 1131,
   "outputs": [
    {
     "data": {
      "text/plain": "0    198.078578\n1    -77.167815\n2      9.738055\ndtype: float64"
     },
     "execution_count": 1131,
     "metadata": {},
     "output_type": "execute_result"
    }
   ],
   "source": [
    "c = (np.linalg.inv(A.T @ A) @ A.T) @ y\n",
    "c"
   ],
   "metadata": {
    "collapsed": false,
    "ExecuteTime": {
     "end_time": "2024-03-01T21:45:04.649319Z",
     "start_time": "2024-03-01T21:45:04.643345Z"
    }
   },
   "id": "12d434bbe292e3d1"
  },
  {
   "cell_type": "markdown",
   "source": [
    "Окончательно запишем искомую функцию"
   ],
   "metadata": {
    "collapsed": false
   },
   "id": "36114c39d90b6c1e"
  },
  {
   "cell_type": "code",
   "execution_count": 1132,
   "outputs": [
    {
     "name": "stdout",
     "output_type": "stream",
     "text": [
      "f(x) = 9.738054727085169*x^2 + -77.1678148038748*x + 198.07857814300917\n"
     ]
    }
   ],
   "source": [
    "print(f\"f(x) = {c[2]}*x^2 + {c[1]}*x + {c[0]}\")"
   ],
   "metadata": {
    "collapsed": false,
    "ExecuteTime": {
     "end_time": "2024-03-01T21:45:04.862391Z",
     "start_time": "2024-03-01T21:45:04.858329Z"
    }
   },
   "id": "1d3ad759a617c543"
  },
  {
   "cell_type": "markdown",
   "source": [
    "Интерпретация\n",
    "Продаём бесплатно - C1\n",
    "При изменении цены на 1 единицу нужно найти производную из функции и подставить x\n",
    "$y = c_2 + s*c_3*x$"
   ],
   "metadata": {
    "collapsed": false
   },
   "id": "e58d37943d01b188"
  },
  {
   "cell_type": "code",
   "execution_count": 1133,
   "outputs": [],
   "source": [
    "def parabola_regression(x: int) -> float:\n",
    "    return c[2]*x*x + c[1]*x + c[0]"
   ],
   "metadata": {
    "collapsed": false,
    "ExecuteTime": {
     "end_time": "2024-03-01T21:45:04.955300Z",
     "start_time": "2024-03-01T21:45:04.952393Z"
    }
   },
   "id": "e079fa618b5566a9"
  },
  {
   "cell_type": "code",
   "outputs": [
    {
     "data": {
      "text/plain": "0      63.007184\n1      66.758558\n2      56.606593\n3      46.185912\n4      66.884974\n5      48.799964\n6     186.722512\n7     170.160984\n8     124.977028\n9      68.063028\n10    117.894869\n11     82.911157\n12    107.149755\n13    115.258604\n14    107.641951\n15     86.614108\n16     84.239372\n17     79.700243\n18     45.268028\n19     47.155177\ndtype: float64"
     },
     "execution_count": 1134,
     "metadata": {},
     "output_type": "execute_result"
    }
   ],
   "source": [
    "amount_pred_parab = pd.Series([parabola_regression(i) for i in df[\"price\"]])\n",
    "amount_pred_parab"
   ],
   "metadata": {
    "collapsed": false,
    "ExecuteTime": {
     "end_time": "2024-03-01T21:45:05.130316Z",
     "start_time": "2024-03-01T21:45:05.123300Z"
    }
   },
   "id": "e8a4a2b690f834c5",
   "execution_count": 1134
  },
  {
   "cell_type": "markdown",
   "source": [
    "#### Cтатистические показатели"
   ],
   "metadata": {
    "collapsed": false
   },
   "id": "14ecff5875026f22"
  },
  {
   "cell_type": "markdown",
   "source": [
    "#### MAE (mean absolute error — средняя абсолютная ошибка)\n"
   ],
   "metadata": {
    "collapsed": false
   },
   "id": "ff3dda81d267a883"
  },
  {
   "cell_type": "code",
   "outputs": [
    {
     "data": {
      "text/plain": "14.504502224877962"
     },
     "execution_count": 1135,
     "metadata": {},
     "output_type": "execute_result"
    }
   ],
   "source": [
    "MAE = mtr.mean_absolute_error(df[\"amount\"], amount_pred_parab)\n",
    "MAE"
   ],
   "metadata": {
    "collapsed": false,
    "ExecuteTime": {
     "end_time": "2024-03-01T21:45:05.230321Z",
     "start_time": "2024-03-01T21:45:05.224311Z"
    }
   },
   "id": "63c3f4eadbe8da1c",
   "execution_count": 1135
  },
  {
   "cell_type": "markdown",
   "source": [
    "Интерпретация\n",
    "Насколько в среднем отклоняется объём продаж реальный от моделируемых\n",
    "В среднем прогнозируемый объём продаж отклоняется на 15 единиц\n",
    "линейная шкала более наглядна при сравнении точности моделей на разных масштабах данных. \n",
    "Кроме этого, абсолютная ошибка оказывается менее чувствительна к выбросам в данных, чем среднеквадратическая."
   ],
   "metadata": {
    "collapsed": false
   },
   "id": "cfa3479fb20d9678"
  },
  {
   "cell_type": "markdown",
   "source": [
    "#### RMSE (root mean square error — среднеквадратичная ошибка - Сигма остаточное) \n"
   ],
   "metadata": {
    "collapsed": false
   },
   "id": "395cdb3f84c13efd"
  },
  {
   "cell_type": "code",
   "outputs": [
    {
     "data": {
      "text/plain": "17.649282834756214"
     },
     "execution_count": 1136,
     "metadata": {},
     "output_type": "execute_result"
    }
   ],
   "source": [
    "RMSE = mtr.root_mean_squared_error(df[\"amount\"], amount_pred_parab)\n",
    "RMSE"
   ],
   "metadata": {
    "collapsed": false,
    "ExecuteTime": {
     "end_time": "2024-03-01T21:45:05.312638Z",
     "start_time": "2024-03-01T21:45:05.307320Z"
    }
   },
   "id": "996c8fd5f60b8f21",
   "execution_count": 1136
  },
  {
   "cell_type": "markdown",
   "source": [
    "Интерпретация\n",
    "Насколько в среднем отклоняется объём продаж реальный от моделируемых\n",
    "В среднем прогнозируемый объём продаж отклоняется на 18\n",
    "так как каждое отклонение возводится в квадрат, любое небольшое отклонение может значительно повлиять на показатель ошибки"
   ],
   "metadata": {
    "collapsed": false
   },
   "id": "53d46c5f34174779"
  },
  {
   "cell_type": "markdown",
   "source": [
    "#### MAPE (mean percentage absolute error — средняя абсолютная ошибка в процентах)\n"
   ],
   "metadata": {
    "collapsed": false
   },
   "id": "7c8e25c6d7648673"
  },
  {
   "cell_type": "code",
   "outputs": [
    {
     "data": {
      "text/plain": "0.17714004855112192"
     },
     "execution_count": 1137,
     "metadata": {},
     "output_type": "execute_result"
    }
   ],
   "source": [
    "MAPE = mtr.mean_absolute_percentage_error(df[\"amount\"], amount_pred_parab)\n",
    "MAPE"
   ],
   "metadata": {
    "collapsed": false,
    "ExecuteTime": {
     "end_time": "2024-03-01T21:45:05.370619Z",
     "start_time": "2024-03-01T21:45:05.365636Z"
    }
   },
   "id": "f872001998fb776e",
   "execution_count": 1137
  },
  {
   "cell_type": "markdown",
   "source": [
    "Интерпретация\n",
    "Вероятность ошибки\n",
    "Вероятность ошибки при прогнозировании будет 0.18\n",
    "Основная проблема данной ошибки — нестабильность."
   ],
   "metadata": {
    "collapsed": false
   },
   "id": "38022029517304ee"
  },
  {
   "cell_type": "markdown",
   "source": [
    "#### D (детерминационное отношение)"
   ],
   "metadata": {
    "collapsed": false
   },
   "id": "9d2f78eef078e410"
  },
  {
   "cell_type": "code",
   "outputs": [
    {
     "data": {
      "text/plain": "0.8282380401969516"
     },
     "execution_count": 1138,
     "metadata": {},
     "output_type": "execute_result"
    }
   ],
   "source": [
    "coef_determ = mtr.r2_score(df[\"amount\"], amount_pred_parab)\n",
    "coef_determ"
   ],
   "metadata": {
    "collapsed": false,
    "ExecuteTime": {
     "end_time": "2024-03-01T21:45:05.507075Z",
     "start_time": "2024-03-01T21:45:05.501618Z"
    }
   },
   "id": "62cea7bc1d6a67f8",
   "execution_count": 1138
  },
  {
   "cell_type": "markdown",
   "source": [
    "Интерпретация\n",
    "Вероятность правильного ответа\n",
    "Вероятность правильного ответа при прогнозировании 0.83"
   ],
   "metadata": {
    "collapsed": false
   },
   "id": "58feb8f7a131371e"
  },
  {
   "cell_type": "markdown",
   "source": [
    "#### Проверка значимости"
   ],
   "metadata": {
    "collapsed": false
   },
   "id": "73388fc950adc3f"
  },
  {
   "cell_type": "markdown",
   "source": [
    "F опытное "
   ],
   "metadata": {
    "collapsed": false
   },
   "id": "5310811be5735dba"
  },
  {
   "cell_type": "code",
   "outputs": [
    {
     "data": {
      "text/plain": "86.79619597167951"
     },
     "execution_count": 1139,
     "metadata": {},
     "output_type": "execute_result"
    }
   ],
   "source": [
    "m = 1\n",
    "n = len(df)\n",
    "f_op = coef_determ/(1-coef_determ) * ((n - m - 1) / m)\n",
    "f_op"
   ],
   "metadata": {
    "collapsed": false,
    "ExecuteTime": {
     "end_time": "2024-03-01T21:45:05.587319Z",
     "start_time": "2024-03-01T21:45:05.582072Z"
    }
   },
   "id": "362e3e6689da0542",
   "execution_count": 1139
  },
  {
   "cell_type": "markdown",
   "source": [
    "F критическое (alpha = 0.05)"
   ],
   "metadata": {
    "collapsed": false
   },
   "id": "f61cddb0ca4aacd3"
  },
  {
   "cell_type": "code",
   "outputs": [
    {
     "data": {
      "text/plain": "2.1906479255678026"
     },
     "execution_count": 1140,
     "metadata": {},
     "output_type": "execute_result"
    }
   ],
   "source": [
    "m = 1\n",
    "n = len(df)\n",
    "a = 0.05\n",
    "f_crit = scipy.stats.f.ppf(q=1-a, dfn = n, dfd = n-m-1)\n",
    "f_crit"
   ],
   "metadata": {
    "collapsed": false,
    "ExecuteTime": {
     "end_time": "2024-03-01T21:45:05.723683Z",
     "start_time": "2024-03-01T21:45:05.718314Z"
    }
   },
   "id": "b9a7a2b690501f5a",
   "execution_count": 1140
  },
  {
   "cell_type": "code",
   "outputs": [
    {
     "name": "stdout",
     "output_type": "stream",
     "text": [
      "Модель значима, значит её можно использовать в прогнозировании\n"
     ]
    }
   ],
   "source": [
    "if f_op > f_crit:\n",
    "    print(\"Модель значима, значит её можно использовать в прогнозировании\")\n",
    "else:\n",
    "    print(\"Модель НЕ значима, значит её НЕЛЬЗЯ использовать в прогнозировании\")"
   ],
   "metadata": {
    "collapsed": false,
    "ExecuteTime": {
     "end_time": "2024-03-01T21:45:05.751154Z",
     "start_time": "2024-03-01T21:45:05.747679Z"
    }
   },
   "id": "920deac838003f42",
   "execution_count": 1141
  },
  {
   "cell_type": "markdown",
   "source": [
    "### Проверка гипотез S/2S/3S"
   ],
   "metadata": {
    "collapsed": false
   },
   "id": "d6189b5c91f5c48"
  },
  {
   "cell_type": "code",
   "outputs": [
    {
     "data": {
      "text/plain": "43.691984089581126"
     },
     "execution_count": 1142,
     "metadata": {},
     "output_type": "execute_result"
    }
   ],
   "source": [
    "std = df[\"amount\"].std()\n",
    "std"
   ],
   "metadata": {
    "collapsed": false,
    "ExecuteTime": {
     "end_time": "2024-03-01T21:45:05.815827Z",
     "start_time": "2024-03-01T21:45:05.811155Z"
    }
   },
   "id": "138c0dc7b1dd9106",
   "execution_count": 1142
  },
  {
   "cell_type": "markdown",
   "source": [
    "Найдём, попадают ли найденные значения в интервалы от +-S до +-3S\n",
    "True - попадают, False - нет"
   ],
   "metadata": {
    "collapsed": false
   },
   "id": "6c1eea91c021df72"
  },
  {
   "cell_type": "code",
   "outputs": [
    {
     "data": {
      "text/plain": "        S    2S    3S\n0    True  True  True\n1    True  True  True\n2    True  True  True\n3    True  True  True\n4    True  True  True\n5    True  True  True\n6    True  True  True\n7    True  True  True\n8    True  True  True\n9    True  True  True\n10   True  True  True\n11   True  True  True\n12   True  True  True\n13   True  True  True\n14   True  True  True\n15  False  True  True\n16   True  True  True\n17   True  True  True\n18   True  True  True\n19   True  True  True",
      "text/html": "<div>\n<style scoped>\n    .dataframe tbody tr th:only-of-type {\n        vertical-align: middle;\n    }\n\n    .dataframe tbody tr th {\n        vertical-align: top;\n    }\n\n    .dataframe thead th {\n        text-align: right;\n    }\n</style>\n<table border=\"1\" class=\"dataframe\">\n  <thead>\n    <tr style=\"text-align: right;\">\n      <th></th>\n      <th>S</th>\n      <th>2S</th>\n      <th>3S</th>\n    </tr>\n  </thead>\n  <tbody>\n    <tr>\n      <th>0</th>\n      <td>True</td>\n      <td>True</td>\n      <td>True</td>\n    </tr>\n    <tr>\n      <th>1</th>\n      <td>True</td>\n      <td>True</td>\n      <td>True</td>\n    </tr>\n    <tr>\n      <th>2</th>\n      <td>True</td>\n      <td>True</td>\n      <td>True</td>\n    </tr>\n    <tr>\n      <th>3</th>\n      <td>True</td>\n      <td>True</td>\n      <td>True</td>\n    </tr>\n    <tr>\n      <th>4</th>\n      <td>True</td>\n      <td>True</td>\n      <td>True</td>\n    </tr>\n    <tr>\n      <th>5</th>\n      <td>True</td>\n      <td>True</td>\n      <td>True</td>\n    </tr>\n    <tr>\n      <th>6</th>\n      <td>True</td>\n      <td>True</td>\n      <td>True</td>\n    </tr>\n    <tr>\n      <th>7</th>\n      <td>True</td>\n      <td>True</td>\n      <td>True</td>\n    </tr>\n    <tr>\n      <th>8</th>\n      <td>True</td>\n      <td>True</td>\n      <td>True</td>\n    </tr>\n    <tr>\n      <th>9</th>\n      <td>True</td>\n      <td>True</td>\n      <td>True</td>\n    </tr>\n    <tr>\n      <th>10</th>\n      <td>True</td>\n      <td>True</td>\n      <td>True</td>\n    </tr>\n    <tr>\n      <th>11</th>\n      <td>True</td>\n      <td>True</td>\n      <td>True</td>\n    </tr>\n    <tr>\n      <th>12</th>\n      <td>True</td>\n      <td>True</td>\n      <td>True</td>\n    </tr>\n    <tr>\n      <th>13</th>\n      <td>True</td>\n      <td>True</td>\n      <td>True</td>\n    </tr>\n    <tr>\n      <th>14</th>\n      <td>True</td>\n      <td>True</td>\n      <td>True</td>\n    </tr>\n    <tr>\n      <th>15</th>\n      <td>False</td>\n      <td>True</td>\n      <td>True</td>\n    </tr>\n    <tr>\n      <th>16</th>\n      <td>True</td>\n      <td>True</td>\n      <td>True</td>\n    </tr>\n    <tr>\n      <th>17</th>\n      <td>True</td>\n      <td>True</td>\n      <td>True</td>\n    </tr>\n    <tr>\n      <th>18</th>\n      <td>True</td>\n      <td>True</td>\n      <td>True</td>\n    </tr>\n    <tr>\n      <th>19</th>\n      <td>True</td>\n      <td>True</td>\n      <td>True</td>\n    </tr>\n  </tbody>\n</table>\n</div>"
     },
     "execution_count": 1143,
     "metadata": {},
     "output_type": "execute_result"
    }
   ],
   "source": [
    "is_in_intervals = pd.DataFrame({\n",
    "    \"S\": [df[\"amount\"].iloc[i] - std < amount_pred_parab.iloc[i] < df[\"amount\"].iloc[i] + std for i in range(len(amount_pred_parab))],\n",
    "    \"2S\": [df[\"amount\"].iloc[i] - 2*std < amount_pred_parab.iloc[i] < df[\"amount\"].iloc[i] + 2*std for i in range(len(amount_pred_parab))],\n",
    "    \"3S\": [df[\"amount\"].iloc[i] - 3*std < amount_pred_parab.iloc[i] < df[\"amount\"].iloc[i] + 3*std for i in range(len(amount_pred_parab))]})\n",
    "is_in_intervals"
   ],
   "metadata": {
    "collapsed": false,
    "ExecuteTime": {
     "end_time": "2024-03-01T21:45:05.905386Z",
     "start_time": "2024-03-01T21:45:05.893857Z"
    }
   },
   "id": "68f9500271b1de7e",
   "execution_count": 1143
  },
  {
   "cell_type": "markdown",
   "source": [
    "Найдём процент попаданий для каждого S"
   ],
   "metadata": {
    "collapsed": false
   },
   "id": "b63997a673e69d36"
  },
  {
   "cell_type": "code",
   "outputs": [
    {
     "data": {
      "text/plain": "       S      2S      3S\n0  95.0%  100.0%  100.0%",
      "text/html": "<div>\n<style scoped>\n    .dataframe tbody tr th:only-of-type {\n        vertical-align: middle;\n    }\n\n    .dataframe tbody tr th {\n        vertical-align: top;\n    }\n\n    .dataframe thead th {\n        text-align: right;\n    }\n</style>\n<table border=\"1\" class=\"dataframe\">\n  <thead>\n    <tr style=\"text-align: right;\">\n      <th></th>\n      <th>S</th>\n      <th>2S</th>\n      <th>3S</th>\n    </tr>\n  </thead>\n  <tbody>\n    <tr>\n      <th>0</th>\n      <td>95.0%</td>\n      <td>100.0%</td>\n      <td>100.0%</td>\n    </tr>\n  </tbody>\n</table>\n</div>"
     },
     "execution_count": 1144,
     "metadata": {},
     "output_type": "execute_result"
    }
   ],
   "source": [
    "hit_accuracy = pd.DataFrame({\n",
    "    \"S\": [((is_in_intervals[is_in_intervals[\"S\"]][\"S\"].count() / is_in_intervals[\"S\"].count())*100).astype(str)+'%'],\n",
    "    \"2S\": [((is_in_intervals[is_in_intervals[\"2S\"]][\"2S\"].count() / is_in_intervals[\"2S\"].count())*100).astype(str)+'%'],\n",
    "    \"3S\": [((is_in_intervals[is_in_intervals[\"3S\"]][\"3S\"].count() / is_in_intervals[\"3S\"].count())*100).astype(str)+'%']})\n",
    "hit_accuracy"
   ],
   "metadata": {
    "collapsed": false,
    "ExecuteTime": {
     "end_time": "2024-03-01T21:45:06.034176Z",
     "start_time": "2024-03-01T21:45:06.026384Z"
    }
   },
   "id": "7ee673cb1bca285c",
   "execution_count": 1144
  },
  {
   "cell_type": "markdown",
   "source": [
    "S должна быть больше 68%, 2S больше 95% и 3S 99.7%\n",
    "В нашем случае частотность превышает пороговые значения\n",
    "Значит прогноз удачный и достаточно велик для точного прогноза"
   ],
   "metadata": {
    "collapsed": false
   },
   "id": "38d529b81a7330af"
  },
  {
   "cell_type": "markdown",
   "source": [
    "### Экспоненциальная модель\n",
    "$y = c_1*e^{(C_2*x)}$"
   ],
   "metadata": {
    "collapsed": false
   },
   "id": "165a3514c332d15c"
  },
  {
   "cell_type": "markdown",
   "source": [
    "Линеализация\n",
    "$ln(y) = ln(c_1) + ln(c_2)$"
   ],
   "metadata": {
    "collapsed": false
   },
   "id": "7f3a7155f8619ad2"
  },
  {
   "cell_type": "markdown",
   "source": [
    "Создадим вспомогательную матрицу A,\n",
    "Где каждому значению A, каждый из которых 1, соответствует цена"
   ],
   "metadata": {
    "collapsed": false
   },
   "id": "4e151948a1a7eabd"
  },
  {
   "cell_type": "code",
   "execution_count": 1145,
   "outputs": [
    {
     "data": {
      "text/plain": "    A  price\n0   1   2.61\n1   1   5.45\n2   1   2.88\n3   1   4.28\n4   1   2.47\n5   1   4.57\n6   1   0.15\n7   1   0.38\n8   1   1.10\n9   1   2.43\n10  1   1.23\n11  1   5.93\n12  1   1.44\n13  1   1.28\n14  1   1.43\n15  1   1.90\n16  1   1.96\n17  1   2.08\n18  1   3.88\n19  1   4.41",
      "text/html": "<div>\n<style scoped>\n    .dataframe tbody tr th:only-of-type {\n        vertical-align: middle;\n    }\n\n    .dataframe tbody tr th {\n        vertical-align: top;\n    }\n\n    .dataframe thead th {\n        text-align: right;\n    }\n</style>\n<table border=\"1\" class=\"dataframe\">\n  <thead>\n    <tr style=\"text-align: right;\">\n      <th></th>\n      <th>A</th>\n      <th>price</th>\n    </tr>\n  </thead>\n  <tbody>\n    <tr>\n      <th>0</th>\n      <td>1</td>\n      <td>2.61</td>\n    </tr>\n    <tr>\n      <th>1</th>\n      <td>1</td>\n      <td>5.45</td>\n    </tr>\n    <tr>\n      <th>2</th>\n      <td>1</td>\n      <td>2.88</td>\n    </tr>\n    <tr>\n      <th>3</th>\n      <td>1</td>\n      <td>4.28</td>\n    </tr>\n    <tr>\n      <th>4</th>\n      <td>1</td>\n      <td>2.47</td>\n    </tr>\n    <tr>\n      <th>5</th>\n      <td>1</td>\n      <td>4.57</td>\n    </tr>\n    <tr>\n      <th>6</th>\n      <td>1</td>\n      <td>0.15</td>\n    </tr>\n    <tr>\n      <th>7</th>\n      <td>1</td>\n      <td>0.38</td>\n    </tr>\n    <tr>\n      <th>8</th>\n      <td>1</td>\n      <td>1.10</td>\n    </tr>\n    <tr>\n      <th>9</th>\n      <td>1</td>\n      <td>2.43</td>\n    </tr>\n    <tr>\n      <th>10</th>\n      <td>1</td>\n      <td>1.23</td>\n    </tr>\n    <tr>\n      <th>11</th>\n      <td>1</td>\n      <td>5.93</td>\n    </tr>\n    <tr>\n      <th>12</th>\n      <td>1</td>\n      <td>1.44</td>\n    </tr>\n    <tr>\n      <th>13</th>\n      <td>1</td>\n      <td>1.28</td>\n    </tr>\n    <tr>\n      <th>14</th>\n      <td>1</td>\n      <td>1.43</td>\n    </tr>\n    <tr>\n      <th>15</th>\n      <td>1</td>\n      <td>1.90</td>\n    </tr>\n    <tr>\n      <th>16</th>\n      <td>1</td>\n      <td>1.96</td>\n    </tr>\n    <tr>\n      <th>17</th>\n      <td>1</td>\n      <td>2.08</td>\n    </tr>\n    <tr>\n      <th>18</th>\n      <td>1</td>\n      <td>3.88</td>\n    </tr>\n    <tr>\n      <th>19</th>\n      <td>1</td>\n      <td>4.41</td>\n    </tr>\n  </tbody>\n</table>\n</div>"
     },
     "execution_count": 1145,
     "metadata": {},
     "output_type": "execute_result"
    }
   ],
   "source": [
    "A =  df_unique_amounts.drop(\"amount\", axis=1)\n",
    "A[\"A\"] = [1 for i in range(len(A))]\n",
    "temp = A[\"price\"]\n",
    "A = A.drop(\"price\", axis=1)\n",
    "A[\"price\"] = temp\n",
    "A"
   ],
   "metadata": {
    "collapsed": false,
    "ExecuteTime": {
     "end_time": "2024-03-01T21:45:06.076375Z",
     "start_time": "2024-03-01T21:45:06.067147Z"
    }
   },
   "id": "529b4e48045e785f"
  },
  {
   "cell_type": "markdown",
   "source": [
    "Также создадим вектор логарифмов цен y, соответствующих уникальным количествам продаж"
   ],
   "metadata": {
    "collapsed": false
   },
   "id": "792d4a7eec1d8e53"
  },
  {
   "cell_type": "code",
   "execution_count": 1146,
   "outputs": [
    {
     "data": {
      "text/plain": "0     3.828641\n1     4.007333\n2     3.970292\n3     3.761200\n4     4.110874\n5     3.871201\n6     5.288267\n7     5.017280\n8     4.744932\n9     3.761200\n10    4.919981\n11    4.488636\n12    4.897840\n13    4.574711\n14    4.499810\n15    4.890349\n16    4.574711\n17    4.204693\n18    4.094345\n19    4.007333\nName: amount, dtype: float64"
     },
     "execution_count": 1146,
     "metadata": {},
     "output_type": "execute_result"
    }
   ],
   "source": [
    "y = df_unique_amounts[\"amount\"].apply(lambda x: math.log(x))\n",
    "y"
   ],
   "metadata": {
    "collapsed": false,
    "ExecuteTime": {
     "end_time": "2024-03-01T21:45:06.147198Z",
     "start_time": "2024-03-01T21:45:06.141405Z"
    }
   },
   "id": "748466cb2d819c93"
  },
  {
   "cell_type": "markdown",
   "source": [
    "Вычисляем значения коэффициентов по формуле\n",
    "$c = ((A^T*A)^{-1}*A^T)*y$"
   ],
   "metadata": {
    "collapsed": false
   },
   "id": "d15aa8a2fbdd7795"
  },
  {
   "cell_type": "code",
   "execution_count": 1147,
   "outputs": [
    {
     "data": {
      "text/plain": "0    4.881798\n1   -0.195186\ndtype: float64"
     },
     "execution_count": 1147,
     "metadata": {},
     "output_type": "execute_result"
    }
   ],
   "source": [
    "c = (np.linalg.inv(A.T @ A) @ A.T) @ y\n",
    "c"
   ],
   "metadata": {
    "collapsed": false,
    "ExecuteTime": {
     "end_time": "2024-03-01T21:45:06.273492Z",
     "start_time": "2024-03-01T21:45:06.267195Z"
    }
   },
   "id": "1540b3dd7fd575dc"
  },
  {
   "cell_type": "markdown",
   "source": [
    "Окончательно запишем искомую функцию"
   ],
   "metadata": {
    "collapsed": false
   },
   "id": "9af27de43da431e7"
  },
  {
   "cell_type": "code",
   "execution_count": 1148,
   "outputs": [
    {
     "name": "stdout",
     "output_type": "stream",
     "text": [
      "f(x) = e^4.881798424603269*e^(-0.19518587883793193*x)\n"
     ]
    }
   ],
   "source": [
    "print(f\"f(x) = e^{c[0]}*e^({c[1]}*x)\")"
   ],
   "metadata": {
    "collapsed": false,
    "ExecuteTime": {
     "end_time": "2024-03-01T21:45:06.460428Z",
     "start_time": "2024-03-01T21:45:06.455529Z"
    }
   },
   "id": "85244bcd68969286"
  },
  {
   "cell_type": "markdown",
   "source": [
    "Интерпретация\n",
    "Продаём бесплатно - C1\n",
    "При изменении цены на 1 единицу нужно найти производную из функции и подставить x\n",
    "$y = c_1*c_2*e^{C_2*x}$"
   ],
   "metadata": {
    "collapsed": false
   },
   "id": "b71fc2d263dec81f"
  },
  {
   "cell_type": "code",
   "execution_count": 1149,
   "outputs": [],
   "source": [
    "def exp_regression(x: int) -> float:\n",
    "    return  math.e**c[0] * math.e ** (c[1] * x)"
   ],
   "metadata": {
    "collapsed": false,
    "ExecuteTime": {
     "end_time": "2024-03-01T21:45:06.554247Z",
     "start_time": "2024-03-01T21:45:06.550430Z"
    }
   },
   "id": "d4b01a191573233d"
  },
  {
   "cell_type": "markdown",
   "source": [
    "Cделаем предикт"
   ],
   "metadata": {
    "collapsed": false
   },
   "id": "e87c1463fa531b10"
  },
  {
   "cell_type": "code",
   "outputs": [
    {
     "data": {
      "text/plain": "0      79.230655\n1      45.514702\n2      75.163301\n3      57.191361\n4      81.425566\n5      54.044023\n6     128.062771\n7     122.440817\n8     106.388124\n9      82.063779\n10    103.722576\n11     41.444126\n12     99.557041\n13    102.715240\n14     99.751552\n15     91.007803\n16     89.948214\n17     87.865901\n18     61.835474\n19     55.758435\ndtype: float64"
     },
     "execution_count": 1150,
     "metadata": {},
     "output_type": "execute_result"
    }
   ],
   "source": [
    "amount_pred_exp = pd.Series([exp_regression(i) for i in df[\"price\"]])\n",
    "amount_pred_exp"
   ],
   "metadata": {
    "collapsed": false,
    "ExecuteTime": {
     "end_time": "2024-03-01T21:45:06.729242Z",
     "start_time": "2024-03-01T21:45:06.722244Z"
    }
   },
   "id": "3b322dff7e5e9645",
   "execution_count": 1150
  },
  {
   "cell_type": "markdown",
   "source": [
    "#### Cтатистические показатели"
   ],
   "metadata": {
    "collapsed": false
   },
   "id": "cb8dc5a28aa50909"
  },
  {
   "cell_type": "markdown",
   "source": [
    "#### MAE (mean absolute error — средняя абсолютная ошибка)\n"
   ],
   "metadata": {
    "collapsed": false
   },
   "id": "142024e59317f81c"
  },
  {
   "cell_type": "code",
   "outputs": [
    {
     "data": {
      "text/plain": "22.74795565392154"
     },
     "execution_count": 1151,
     "metadata": {},
     "output_type": "execute_result"
    }
   ],
   "source": [
    "MAE = mtr.mean_absolute_error(df[\"amount\"], amount_pred_exp)\n",
    "MAE"
   ],
   "metadata": {
    "collapsed": false,
    "ExecuteTime": {
     "end_time": "2024-03-01T21:45:06.796435Z",
     "start_time": "2024-03-01T21:45:06.791243Z"
    }
   },
   "id": "d54a5a0f788134b6",
   "execution_count": 1151
  },
  {
   "cell_type": "markdown",
   "source": [
    "Интерпретация\n",
    "Насколько в среднем отклоняется объём продаж реальный от моделируемых\n",
    "В среднем прогнозируемый объём продаж отклоняется на 23 единиц\n",
    "линейная шкала более наглядна при сравнении точности моделей на разных масштабах данных. \n",
    "Кроме этого, абсолютная ошибка оказывается менее чувствительна к выбросам в данных, чем среднеквадратическая."
   ],
   "metadata": {
    "collapsed": false
   },
   "id": "b9102aa9de6f1905"
  },
  {
   "cell_type": "markdown",
   "source": [
    "#### RMSE (root mean square error — среднеквадратичная ошибка - Сигма остаточное) \n"
   ],
   "metadata": {
    "collapsed": false
   },
   "id": "9a488555fc1d29a1"
  },
  {
   "cell_type": "code",
   "outputs": [
    {
     "data": {
      "text/plain": "28.794963603812636"
     },
     "execution_count": 1152,
     "metadata": {},
     "output_type": "execute_result"
    }
   ],
   "source": [
    "RMSE = mtr.root_mean_squared_error(df[\"amount\"], amount_pred_exp)\n",
    "RMSE"
   ],
   "metadata": {
    "collapsed": false,
    "ExecuteTime": {
     "end_time": "2024-03-01T21:45:06.879745Z",
     "start_time": "2024-03-01T21:45:06.874430Z"
    }
   },
   "id": "bd0ba1b9e945181f",
   "execution_count": 1152
  },
  {
   "cell_type": "markdown",
   "source": [
    "Интерпретация\n",
    "Насколько в среднем отклоняется объём продаж реальный от моделируемых\n",
    "В среднем прогнозируемый объём продаж отклоняется на 28\n",
    "так как каждое отклонение возводится в квадрат, любое небольшое отклонение может значительно повлиять на показатель ошибки"
   ],
   "metadata": {
    "collapsed": false
   },
   "id": "ac32789afd48db36"
  },
  {
   "cell_type": "markdown",
   "source": [
    "#### MAPE (mean percentage absolute error — средняя абсолютная ошибка в процентах)\n"
   ],
   "metadata": {
    "collapsed": false
   },
   "id": "5b171b9bb7c706e3"
  },
  {
   "cell_type": "code",
   "outputs": [
    {
     "data": {
      "text/plain": "0.2787659551128829"
     },
     "execution_count": 1153,
     "metadata": {},
     "output_type": "execute_result"
    }
   ],
   "source": [
    "MAPE = mtr.mean_absolute_percentage_error(df[\"amount\"], amount_pred_exp)\n",
    "MAPE"
   ],
   "metadata": {
    "collapsed": false,
    "ExecuteTime": {
     "end_time": "2024-03-01T21:45:06.916446Z",
     "start_time": "2024-03-01T21:45:06.911782Z"
    }
   },
   "id": "f6c7dd37745639ec",
   "execution_count": 1153
  },
  {
   "cell_type": "markdown",
   "source": [
    "Интерпретация\n",
    "Вероятность ошибки\n",
    "Вероятность ошибки при прогнозировании будет 0.27\n",
    "Основная проблема данной ошибки — нестабильность."
   ],
   "metadata": {
    "collapsed": false
   },
   "id": "ae1c6af90812b6fb"
  },
  {
   "cell_type": "markdown",
   "source": [
    "#### D (детерминационное отношение)"
   ],
   "metadata": {
    "collapsed": false
   },
   "id": "1d6b34fa9a919fd"
  },
  {
   "cell_type": "code",
   "outputs": [
    {
     "data": {
      "text/plain": "0.5428003082673145"
     },
     "execution_count": 1154,
     "metadata": {},
     "output_type": "execute_result"
    }
   ],
   "source": [
    "coef_determ = mtr.r2_score(df[\"amount\"], amount_pred_exp)\n",
    "coef_determ"
   ],
   "metadata": {
    "collapsed": false,
    "ExecuteTime": {
     "end_time": "2024-03-01T21:45:07.048494Z",
     "start_time": "2024-03-01T21:45:07.043478Z"
    }
   },
   "id": "678ea2e4ec7d4e1b",
   "execution_count": 1154
  },
  {
   "cell_type": "markdown",
   "source": [
    "Интерпретация\n",
    "Вероятность правильного ответа\n",
    "Вероятность правильного ответа при прогнозировании 0.54"
   ],
   "metadata": {
    "collapsed": false
   },
   "id": "a64e21cc1dc4ff47"
  },
  {
   "cell_type": "markdown",
   "source": [
    "#### Проверка значимости"
   ],
   "metadata": {
    "collapsed": false
   },
   "id": "37abcc6fd05e3112"
  },
  {
   "cell_type": "markdown",
   "source": [
    "F опытное "
   ],
   "metadata": {
    "collapsed": false
   },
   "id": "2648379c59a196e1"
  },
  {
   "cell_type": "code",
   "outputs": [
    {
     "data": {
      "text/plain": "21.370105285469442"
     },
     "execution_count": 1155,
     "metadata": {},
     "output_type": "execute_result"
    }
   ],
   "source": [
    "m = 1\n",
    "n = len(df)\n",
    "f_op = coef_determ/(1-coef_determ) * ((n - m - 1) / m)\n",
    "f_op"
   ],
   "metadata": {
    "collapsed": false,
    "ExecuteTime": {
     "end_time": "2024-03-01T21:45:07.093871Z",
     "start_time": "2024-03-01T21:45:07.089494Z"
    }
   },
   "id": "1f1fe1224bfa75c5",
   "execution_count": 1155
  },
  {
   "cell_type": "markdown",
   "source": [
    "F критическое (alpha = 0.05)"
   ],
   "metadata": {
    "collapsed": false
   },
   "id": "735382bd5602a82b"
  },
  {
   "cell_type": "code",
   "outputs": [
    {
     "data": {
      "text/plain": "2.1906479255678026"
     },
     "execution_count": 1156,
     "metadata": {},
     "output_type": "execute_result"
    }
   ],
   "source": [
    "m = 1\n",
    "n = len(df)\n",
    "a = 0.05\n",
    "f_crit = scipy.stats.f.ppf(q=1-a, dfn = n, dfd = n-m-1)\n",
    "f_crit"
   ],
   "metadata": {
    "collapsed": false,
    "ExecuteTime": {
     "end_time": "2024-03-01T21:45:07.221928Z",
     "start_time": "2024-03-01T21:45:07.216869Z"
    }
   },
   "id": "93040e6023805ddf",
   "execution_count": 1156
  },
  {
   "cell_type": "code",
   "outputs": [
    {
     "name": "stdout",
     "output_type": "stream",
     "text": [
      "Модель значима, значит её можно использовать в прогнозировании\n"
     ]
    }
   ],
   "source": [
    "if f_op > f_crit:\n",
    "    print(\"Модель значима, значит её можно использовать в прогнозировании\")\n",
    "else:\n",
    "    print(\"Модель НЕ значима, значит её НЕЛЬЗЯ использовать в прогнозировании\")"
   ],
   "metadata": {
    "collapsed": false,
    "ExecuteTime": {
     "end_time": "2024-03-01T21:45:07.293051Z",
     "start_time": "2024-03-01T21:45:07.288938Z"
    }
   },
   "id": "edc40260b9fbd6d2",
   "execution_count": 1157
  },
  {
   "cell_type": "markdown",
   "source": [
    "### Проверка гипотез S/2S/3S"
   ],
   "metadata": {
    "collapsed": false
   },
   "id": "ba12d7fbf0a70ded"
  },
  {
   "cell_type": "code",
   "outputs": [
    {
     "data": {
      "text/plain": "43.691984089581126"
     },
     "execution_count": 1158,
     "metadata": {},
     "output_type": "execute_result"
    }
   ],
   "source": [
    "std = df[\"amount\"].std()\n",
    "std"
   ],
   "metadata": {
    "collapsed": false,
    "ExecuteTime": {
     "end_time": "2024-03-01T21:45:07.359268Z",
     "start_time": "2024-03-01T21:45:07.355049Z"
    }
   },
   "id": "24e4232459a59662",
   "execution_count": 1158
  },
  {
   "cell_type": "markdown",
   "source": [
    "Найдём, попадают ли найденные значения в интервалы от +-S до +-3S\n",
    "True - попадают, False - нет"
   ],
   "metadata": {
    "collapsed": false
   },
   "id": "50bdc6a17191eeec"
  },
  {
   "cell_type": "code",
   "outputs": [
    {
     "data": {
      "text/plain": "        S    2S    3S\n0    True  True  True\n1    True  True  True\n2    True  True  True\n3    True  True  True\n4    True  True  True\n5    True  True  True\n6   False  True  True\n7    True  True  True\n8    True  True  True\n9    True  True  True\n10   True  True  True\n11  False  True  True\n12   True  True  True\n13   True  True  True\n14   True  True  True\n15   True  True  True\n16   True  True  True\n17   True  True  True\n18   True  True  True\n19   True  True  True",
      "text/html": "<div>\n<style scoped>\n    .dataframe tbody tr th:only-of-type {\n        vertical-align: middle;\n    }\n\n    .dataframe tbody tr th {\n        vertical-align: top;\n    }\n\n    .dataframe thead th {\n        text-align: right;\n    }\n</style>\n<table border=\"1\" class=\"dataframe\">\n  <thead>\n    <tr style=\"text-align: right;\">\n      <th></th>\n      <th>S</th>\n      <th>2S</th>\n      <th>3S</th>\n    </tr>\n  </thead>\n  <tbody>\n    <tr>\n      <th>0</th>\n      <td>True</td>\n      <td>True</td>\n      <td>True</td>\n    </tr>\n    <tr>\n      <th>1</th>\n      <td>True</td>\n      <td>True</td>\n      <td>True</td>\n    </tr>\n    <tr>\n      <th>2</th>\n      <td>True</td>\n      <td>True</td>\n      <td>True</td>\n    </tr>\n    <tr>\n      <th>3</th>\n      <td>True</td>\n      <td>True</td>\n      <td>True</td>\n    </tr>\n    <tr>\n      <th>4</th>\n      <td>True</td>\n      <td>True</td>\n      <td>True</td>\n    </tr>\n    <tr>\n      <th>5</th>\n      <td>True</td>\n      <td>True</td>\n      <td>True</td>\n    </tr>\n    <tr>\n      <th>6</th>\n      <td>False</td>\n      <td>True</td>\n      <td>True</td>\n    </tr>\n    <tr>\n      <th>7</th>\n      <td>True</td>\n      <td>True</td>\n      <td>True</td>\n    </tr>\n    <tr>\n      <th>8</th>\n      <td>True</td>\n      <td>True</td>\n      <td>True</td>\n    </tr>\n    <tr>\n      <th>9</th>\n      <td>True</td>\n      <td>True</td>\n      <td>True</td>\n    </tr>\n    <tr>\n      <th>10</th>\n      <td>True</td>\n      <td>True</td>\n      <td>True</td>\n    </tr>\n    <tr>\n      <th>11</th>\n      <td>False</td>\n      <td>True</td>\n      <td>True</td>\n    </tr>\n    <tr>\n      <th>12</th>\n      <td>True</td>\n      <td>True</td>\n      <td>True</td>\n    </tr>\n    <tr>\n      <th>13</th>\n      <td>True</td>\n      <td>True</td>\n      <td>True</td>\n    </tr>\n    <tr>\n      <th>14</th>\n      <td>True</td>\n      <td>True</td>\n      <td>True</td>\n    </tr>\n    <tr>\n      <th>15</th>\n      <td>True</td>\n      <td>True</td>\n      <td>True</td>\n    </tr>\n    <tr>\n      <th>16</th>\n      <td>True</td>\n      <td>True</td>\n      <td>True</td>\n    </tr>\n    <tr>\n      <th>17</th>\n      <td>True</td>\n      <td>True</td>\n      <td>True</td>\n    </tr>\n    <tr>\n      <th>18</th>\n      <td>True</td>\n      <td>True</td>\n      <td>True</td>\n    </tr>\n    <tr>\n      <th>19</th>\n      <td>True</td>\n      <td>True</td>\n      <td>True</td>\n    </tr>\n  </tbody>\n</table>\n</div>"
     },
     "execution_count": 1159,
     "metadata": {},
     "output_type": "execute_result"
    }
   ],
   "source": [
    "is_in_intervals = pd.DataFrame({\n",
    "    \"S\": [df[\"amount\"].iloc[i] - std < amount_pred_exp.iloc[i] < df[\"amount\"].iloc[i] + std for i in range(len(amount_pred_exp))],\n",
    "    \"2S\": [df[\"amount\"].iloc[i] - 2*std < amount_pred_exp.iloc[i] < df[\"amount\"].iloc[i] + 2*std for i in range(len(amount_pred_exp))],\n",
    "    \"3S\": [df[\"amount\"].iloc[i] - 3*std < amount_pred_exp.iloc[i] < df[\"amount\"].iloc[i] + 3*std for i in range(len(amount_pred_exp))]})\n",
    "is_in_intervals"
   ],
   "metadata": {
    "collapsed": false,
    "ExecuteTime": {
     "end_time": "2024-03-01T21:45:07.420779Z",
     "start_time": "2024-03-01T21:45:07.410276Z"
    }
   },
   "id": "f22488d1a079d203",
   "execution_count": 1159
  },
  {
   "cell_type": "markdown",
   "source": [
    "Найдём процент попаданий для каждого S"
   ],
   "metadata": {
    "collapsed": false
   },
   "id": "10f45657160ce5e8"
  },
  {
   "cell_type": "code",
   "outputs": [
    {
     "data": {
      "text/plain": "       S      2S      3S\n0  90.0%  100.0%  100.0%",
      "text/html": "<div>\n<style scoped>\n    .dataframe tbody tr th:only-of-type {\n        vertical-align: middle;\n    }\n\n    .dataframe tbody tr th {\n        vertical-align: top;\n    }\n\n    .dataframe thead th {\n        text-align: right;\n    }\n</style>\n<table border=\"1\" class=\"dataframe\">\n  <thead>\n    <tr style=\"text-align: right;\">\n      <th></th>\n      <th>S</th>\n      <th>2S</th>\n      <th>3S</th>\n    </tr>\n  </thead>\n  <tbody>\n    <tr>\n      <th>0</th>\n      <td>90.0%</td>\n      <td>100.0%</td>\n      <td>100.0%</td>\n    </tr>\n  </tbody>\n</table>\n</div>"
     },
     "execution_count": 1160,
     "metadata": {},
     "output_type": "execute_result"
    }
   ],
   "source": [
    "hit_accuracy = pd.DataFrame({\n",
    "    \"S\": [((is_in_intervals[is_in_intervals[\"S\"]][\"S\"].count() / is_in_intervals[\"S\"].count())*100).astype(str)+'%'],\n",
    "    \"2S\": [((is_in_intervals[is_in_intervals[\"2S\"]][\"2S\"].count() / is_in_intervals[\"2S\"].count())*100).astype(str)+'%'],\n",
    "    \"3S\": [((is_in_intervals[is_in_intervals[\"3S\"]][\"3S\"].count() / is_in_intervals[\"3S\"].count())*100).astype(str)+'%']})\n",
    "hit_accuracy"
   ],
   "metadata": {
    "collapsed": false,
    "ExecuteTime": {
     "end_time": "2024-03-01T21:45:07.541002Z",
     "start_time": "2024-03-01T21:45:07.531778Z"
    }
   },
   "id": "573947da0d1b103b",
   "execution_count": 1160
  },
  {
   "cell_type": "markdown",
   "source": [
    "S должна быть больше 68%, 2S больше 95% и 3S 99.7%\n",
    "В нашем случае частотность превышает пороговые значения\n",
    "Значит прогноз удачный и достаточно велик для точного прогноза"
   ],
   "metadata": {
    "collapsed": false
   },
   "id": "102800a29b159080"
  },
  {
   "cell_type": "markdown",
   "source": [
    "### box-plot и скрипичная диаграмма для сравнения гипотез"
   ],
   "metadata": {
    "collapsed": false
   },
   "id": "4154745d5330828"
  },
  {
   "cell_type": "markdown",
   "source": [
    "Добавим все предсказания в 1 датафрейм"
   ],
   "metadata": {
    "collapsed": false
   },
   "id": "a2071c50e2fb0121"
  },
  {
   "cell_type": "code",
   "outputs": [
    {
     "data": {
      "text/plain": "    Исходные данные  Линейная модель  Параболическая модель  \\\n0              46.0        88.287051              63.007184   \n1              55.0        36.006239              66.758558   \n2              53.0        83.316692              56.606593   \n3              43.0        57.544461              46.185912   \n4              61.0        90.864275              66.884974   \n5              48.0        52.205927              48.799964   \n6             198.0       133.572544             186.722512   \n7             151.0       129.338535             170.160984   \n8             115.0       116.084244             124.977028   \n9              43.0        91.600624              68.063028   \n10            137.0       113.691108             117.894869   \n11             89.0        27.170045              82.911157   \n12            134.0       109.825274             107.149755   \n13             97.0       112.770672             115.258604   \n14             90.0       110.009361             107.641951   \n15            133.0       101.357255              86.614108   \n16             97.0       100.252730              84.239372   \n17             67.0        98.043682              79.700243   \n18             60.0        64.907956              45.268028   \n19             55.0        55.151325              47.155177   \n\n    Экспоненциальная модель  \n0                 79.230655  \n1                 45.514702  \n2                 75.163301  \n3                 57.191361  \n4                 81.425566  \n5                 54.044023  \n6                128.062771  \n7                122.440817  \n8                106.388124  \n9                 82.063779  \n10               103.722576  \n11                41.444126  \n12                99.557041  \n13               102.715240  \n14                99.751552  \n15                91.007803  \n16                89.948214  \n17                87.865901  \n18                61.835474  \n19                55.758435  ",
      "text/html": "<div>\n<style scoped>\n    .dataframe tbody tr th:only-of-type {\n        vertical-align: middle;\n    }\n\n    .dataframe tbody tr th {\n        vertical-align: top;\n    }\n\n    .dataframe thead th {\n        text-align: right;\n    }\n</style>\n<table border=\"1\" class=\"dataframe\">\n  <thead>\n    <tr style=\"text-align: right;\">\n      <th></th>\n      <th>Исходные данные</th>\n      <th>Линейная модель</th>\n      <th>Параболическая модель</th>\n      <th>Экспоненциальная модель</th>\n    </tr>\n  </thead>\n  <tbody>\n    <tr>\n      <th>0</th>\n      <td>46.0</td>\n      <td>88.287051</td>\n      <td>63.007184</td>\n      <td>79.230655</td>\n    </tr>\n    <tr>\n      <th>1</th>\n      <td>55.0</td>\n      <td>36.006239</td>\n      <td>66.758558</td>\n      <td>45.514702</td>\n    </tr>\n    <tr>\n      <th>2</th>\n      <td>53.0</td>\n      <td>83.316692</td>\n      <td>56.606593</td>\n      <td>75.163301</td>\n    </tr>\n    <tr>\n      <th>3</th>\n      <td>43.0</td>\n      <td>57.544461</td>\n      <td>46.185912</td>\n      <td>57.191361</td>\n    </tr>\n    <tr>\n      <th>4</th>\n      <td>61.0</td>\n      <td>90.864275</td>\n      <td>66.884974</td>\n      <td>81.425566</td>\n    </tr>\n    <tr>\n      <th>5</th>\n      <td>48.0</td>\n      <td>52.205927</td>\n      <td>48.799964</td>\n      <td>54.044023</td>\n    </tr>\n    <tr>\n      <th>6</th>\n      <td>198.0</td>\n      <td>133.572544</td>\n      <td>186.722512</td>\n      <td>128.062771</td>\n    </tr>\n    <tr>\n      <th>7</th>\n      <td>151.0</td>\n      <td>129.338535</td>\n      <td>170.160984</td>\n      <td>122.440817</td>\n    </tr>\n    <tr>\n      <th>8</th>\n      <td>115.0</td>\n      <td>116.084244</td>\n      <td>124.977028</td>\n      <td>106.388124</td>\n    </tr>\n    <tr>\n      <th>9</th>\n      <td>43.0</td>\n      <td>91.600624</td>\n      <td>68.063028</td>\n      <td>82.063779</td>\n    </tr>\n    <tr>\n      <th>10</th>\n      <td>137.0</td>\n      <td>113.691108</td>\n      <td>117.894869</td>\n      <td>103.722576</td>\n    </tr>\n    <tr>\n      <th>11</th>\n      <td>89.0</td>\n      <td>27.170045</td>\n      <td>82.911157</td>\n      <td>41.444126</td>\n    </tr>\n    <tr>\n      <th>12</th>\n      <td>134.0</td>\n      <td>109.825274</td>\n      <td>107.149755</td>\n      <td>99.557041</td>\n    </tr>\n    <tr>\n      <th>13</th>\n      <td>97.0</td>\n      <td>112.770672</td>\n      <td>115.258604</td>\n      <td>102.715240</td>\n    </tr>\n    <tr>\n      <th>14</th>\n      <td>90.0</td>\n      <td>110.009361</td>\n      <td>107.641951</td>\n      <td>99.751552</td>\n    </tr>\n    <tr>\n      <th>15</th>\n      <td>133.0</td>\n      <td>101.357255</td>\n      <td>86.614108</td>\n      <td>91.007803</td>\n    </tr>\n    <tr>\n      <th>16</th>\n      <td>97.0</td>\n      <td>100.252730</td>\n      <td>84.239372</td>\n      <td>89.948214</td>\n    </tr>\n    <tr>\n      <th>17</th>\n      <td>67.0</td>\n      <td>98.043682</td>\n      <td>79.700243</td>\n      <td>87.865901</td>\n    </tr>\n    <tr>\n      <th>18</th>\n      <td>60.0</td>\n      <td>64.907956</td>\n      <td>45.268028</td>\n      <td>61.835474</td>\n    </tr>\n    <tr>\n      <th>19</th>\n      <td>55.0</td>\n      <td>55.151325</td>\n      <td>47.155177</td>\n      <td>55.758435</td>\n    </tr>\n  </tbody>\n</table>\n</div>"
     },
     "execution_count": 1161,
     "metadata": {},
     "output_type": "execute_result"
    }
   ],
   "source": [
    "predictions = pd.DataFrame({\"Исходные данные\": df[\"amount\"], \"Линейная модель\": amount_pred, \"Параболическая модель\": amount_pred_parab, \"Экспоненциальная модель\": amount_pred_exp})\n",
    "predictions"
   ],
   "metadata": {
    "collapsed": false,
    "ExecuteTime": {
     "end_time": "2024-03-01T21:45:07.590559Z",
     "start_time": "2024-03-01T21:45:07.579999Z"
    }
   },
   "id": "64c2436092688e9b",
   "execution_count": 1161
  },
  {
   "cell_type": "code",
   "outputs": [
    {
     "data": {
      "text/plain": "<Figure size 2000x800 with 2 Axes>",
      "image/png": "[encoded data removed]"
     },
     "metadata": {},
     "output_type": "display_data"
    }
   ],
   "source": [
    "_, ax = plt.subplots(1,2,figsize=(20,8))\n",
    "sns.boxplot(data=predictions,ax=ax[0])\n",
    "sns.violinplot(data=predictions,ax=ax[1])\n",
    "plt.show()"
   ],
   "metadata": {
    "collapsed": false,
    "ExecuteTime": {
     "end_time": "2024-03-01T21:45:08.006727Z",
     "start_time": "2024-03-01T21:45:07.675056Z"
    }
   },
   "id": "883f68f197701a72",
   "execution_count": 1162
  },
  {
   "cell_type": "markdown",
   "source": [
    "Левая диаграмма очень похожа на исходную, но правая показывает ещё нагляднее, что ещё и распределение параболической модели очень похоже на исходную и подтверждает её выбор в качестве итоговой модели. "
   ],
   "metadata": {
    "collapsed": false
   },
   "id": "3466d920ab575017"
  },
  {
   "cell_type": "markdown",
   "source": [
    "### Вывод"
   ],
   "metadata": {
    "collapsed": false
   },
   "id": "c2bc8b779c61c558"
  },
  {
   "cell_type": "markdown",
   "source": [
    "Лучшая модель - параболическая, так как имеют наименьшие функции ошибок и наибольший коэффициент детерминации. Кроме того, box-plot и скрипичная диаграммы показывают, что она имеет наиболее совпадающее распределение с исходными данными"
   ],
   "metadata": {
    "collapsed": false
   },
   "id": "7ef6ff53657d2a67"
  }
 ],
 "metadata": {
  "kernelspec": {
   "display_name": "Python 3",
   "language": "python",
   "name": "python3"
  },
  "language_info": {
   "codemirror_mode": {
    "name": "ipython",
    "version": 2
   },
   "file_extension": ".py",
   "mimetype": "text/x-python",
   "name": "python",
   "nbconvert_exporter": "python",
   "pygments_lexer": "ipython2",
   "version": "2.7.6"
  }
 },
 "nbformat": 4,
 "nbformat_minor": 5
}
