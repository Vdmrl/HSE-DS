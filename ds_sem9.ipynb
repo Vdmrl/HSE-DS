{
 "cells": [
  {
   "cell_type": "markdown",
   "source": [
    "## Лузина Владимира РИС22-2\n",
    "# Семинар 9. Классификация и кластеризация"
   ],
   "metadata": {
    "collapsed": false
   },
   "id": "a0cbe918deb997f"
  },
  {
   "cell_type": "markdown",
   "source": [
    "Используя имеющиеся статистические данные выполнить следующие шаги:\n",
    "1) Разметить данные. Если цена уменьшилась или не изменилась и при этом объем продаж\n",
    "увеличился или не изменился, то присваиваем класс 1 иначе класс 2\n",
    "2) Предположить, что каждое 3-е значение класса нам не известно\n",
    "3) Разметить неизвестные значения методом k-NN при k=1 и k=3. Сделать выводы о\n",
    "правильности определения классов.\n",
    "4) Нормализовать данные с помощью обезразмеривания\n",
    "5) Дополнительно разбить данные методом k-nn на кластеры"
   ],
   "metadata": {
    "collapsed": false
   },
   "id": "2e07a95b6ad0a22a"
  },
  {
   "cell_type": "code",
   "execution_count": 323,
   "outputs": [],
   "source": [
    "import pandas as pd\n",
    "import numpy as np\n",
    "from typing import List\n",
    "import warnings\n",
    "\n",
    "warnings.filterwarnings(\"ignore\", category=FutureWarning)\n"
   ],
   "metadata": {
    "collapsed": false,
    "ExecuteTime": {
     "end_time": "2024-03-07T21:32:00.673675Z",
     "start_time": "2024-03-07T21:32:00.670189Z"
    }
   },
   "id": "4a15690ce970d1f3"
  },
  {
   "cell_type": "code",
   "execution_count": 324,
   "outputs": [
    {
     "data": {
      "text/plain": "    day  price  amount\n0     1   2.61    46.0\n1     2   5.45    55.0\n2     3   2.88    53.0\n3     4   4.28    43.0\n4     5   2.47    61.0\n5     6   4.57    48.0\n6     7   0.15   198.0\n7     8   0.38   151.0\n8     9   1.10   115.0\n9    10   2.43    43.0\n10   11   1.23   137.0\n11   12   5.93    89.0\n12   13   1.44   134.0\n13   14   1.28    97.0\n14   15   1.43    90.0\n15   16   1.90   133.0\n16   17   1.96    97.0\n17   18   2.08    67.0\n18   19   3.88    60.0\n19   20   4.41    55.0",
      "text/html": "<div>\n<style scoped>\n    .dataframe tbody tr th:only-of-type {\n        vertical-align: middle;\n    }\n\n    .dataframe tbody tr th {\n        vertical-align: top;\n    }\n\n    .dataframe thead th {\n        text-align: right;\n    }\n</style>\n<table border=\"1\" class=\"dataframe\">\n  <thead>\n    <tr style=\"text-align: right;\">\n      <th></th>\n      <th>day</th>\n      <th>price</th>\n      <th>amount</th>\n    </tr>\n  </thead>\n  <tbody>\n    <tr>\n      <th>0</th>\n      <td>1</td>\n      <td>2.61</td>\n      <td>46.0</td>\n    </tr>\n    <tr>\n      <th>1</th>\n      <td>2</td>\n      <td>5.45</td>\n      <td>55.0</td>\n    </tr>\n    <tr>\n      <th>2</th>\n      <td>3</td>\n      <td>2.88</td>\n      <td>53.0</td>\n    </tr>\n    <tr>\n      <th>3</th>\n      <td>4</td>\n      <td>4.28</td>\n      <td>43.0</td>\n    </tr>\n    <tr>\n      <th>4</th>\n      <td>5</td>\n      <td>2.47</td>\n      <td>61.0</td>\n    </tr>\n    <tr>\n      <th>5</th>\n      <td>6</td>\n      <td>4.57</td>\n      <td>48.0</td>\n    </tr>\n    <tr>\n      <th>6</th>\n      <td>7</td>\n      <td>0.15</td>\n      <td>198.0</td>\n    </tr>\n    <tr>\n      <th>7</th>\n      <td>8</td>\n      <td>0.38</td>\n      <td>151.0</td>\n    </tr>\n    <tr>\n      <th>8</th>\n      <td>9</td>\n      <td>1.10</td>\n      <td>115.0</td>\n    </tr>\n    <tr>\n      <th>9</th>\n      <td>10</td>\n      <td>2.43</td>\n      <td>43.0</td>\n    </tr>\n    <tr>\n      <th>10</th>\n      <td>11</td>\n      <td>1.23</td>\n      <td>137.0</td>\n    </tr>\n    <tr>\n      <th>11</th>\n      <td>12</td>\n      <td>5.93</td>\n      <td>89.0</td>\n    </tr>\n    <tr>\n      <th>12</th>\n      <td>13</td>\n      <td>1.44</td>\n      <td>134.0</td>\n    </tr>\n    <tr>\n      <th>13</th>\n      <td>14</td>\n      <td>1.28</td>\n      <td>97.0</td>\n    </tr>\n    <tr>\n      <th>14</th>\n      <td>15</td>\n      <td>1.43</td>\n      <td>90.0</td>\n    </tr>\n    <tr>\n      <th>15</th>\n      <td>16</td>\n      <td>1.90</td>\n      <td>133.0</td>\n    </tr>\n    <tr>\n      <th>16</th>\n      <td>17</td>\n      <td>1.96</td>\n      <td>97.0</td>\n    </tr>\n    <tr>\n      <th>17</th>\n      <td>18</td>\n      <td>2.08</td>\n      <td>67.0</td>\n    </tr>\n    <tr>\n      <th>18</th>\n      <td>19</td>\n      <td>3.88</td>\n      <td>60.0</td>\n    </tr>\n    <tr>\n      <th>19</th>\n      <td>20</td>\n      <td>4.41</td>\n      <td>55.0</td>\n    </tr>\n  </tbody>\n</table>\n</div>"
     },
     "execution_count": 324,
     "metadata": {},
     "output_type": "execute_result"
    }
   ],
   "source": [
    "df = pd.DataFrame({'day': [i for i in range(1, 21)],  # дни с 1 по 20\n",
    "                   'price': [2.61, 5.45, 2.88, 4.28, 2.47, 4.57, 0.15, 0.38, 1.10, 2.43, 1.23, 5.93, 1.44, 1.28, 1.43,\n",
    "                             1.90, 1.96, 2.08, 3.88, 4.41],  # стоимость\n",
    "                   'amount': [46, 55, 53, 43, 61, 48, 198, 151, 115, 43, 137, 89, 134, 97, 90, 133, 97., 67, 60,\n",
    "                              55]})  # число продаж\n",
    "\n",
    "# df = pdDataFrame({'day': [i for i in range(1, 21)],  # дни с 1 по 20\n",
    "#                   'price': [3.55, 4.48, 3.27, 4.32, 2.71, 4.49, 0.13, 0.5, 1.16, 3.24, 1.11, 4.98, 1.23, 1.82, 1.35,\n",
    "#                             1.79, 2.01, 2.18, 3.26, 3.94],  # стоимость\n",
    "#                   'amount': [50, 55, 59, 45, 60, 50, 210, 160, 140, 50, 143, 100, 130, 92, 114, 112, 97, 83, 66,\n",
    "#                              60]})  # число продаж\n",
    "\n",
    "df"
   ],
   "metadata": {
    "collapsed": false,
    "ExecuteTime": {
     "end_time": "2024-03-07T21:32:00.766095Z",
     "start_time": "2024-03-07T21:32:00.755675Z"
    }
   },
   "id": "c4476db466c484c7"
  },
  {
   "cell_type": "markdown",
   "source": [
    "### Классификация"
   ],
   "metadata": {
    "collapsed": false
   },
   "id": "b695776b2d6be8ca"
  },
  {
   "cell_type": "markdown",
   "source": [
    "Признак - класс 1 присваиваем дню, для которого:\n",
    "  - Цены относительно предыдущего дня уменьшились или не измениись\n",
    "  - И объём продаж увеличились или не изменился\n",
    "В противном случае присваиваем класс 2"
   ],
   "metadata": {
    "collapsed": false
   },
   "id": "a25324d249af5147"
  },
  {
   "cell_type": "code",
   "execution_count": 325,
   "outputs": [
    {
     "data": {
      "text/plain": "    day  price  amount  class(F)\n0     1   2.61    46.0         0\n1     2   5.45    55.0         2\n2     3   2.88    53.0         2\n3     4   4.28    43.0         2\n4     5   2.47    61.0         1\n5     6   4.57    48.0         2\n6     7   0.15   198.0         1\n7     8   0.38   151.0         2\n8     9   1.10   115.0         2\n9    10   2.43    43.0         2\n10   11   1.23   137.0         1\n11   12   5.93    89.0         2\n12   13   1.44   134.0         1\n13   14   1.28    97.0         2\n14   15   1.43    90.0         2\n15   16   1.90   133.0         2\n16   17   1.96    97.0         2\n17   18   2.08    67.0         2\n18   19   3.88    60.0         2\n19   20   4.41    55.0         2",
      "text/html": "<div>\n<style scoped>\n    .dataframe tbody tr th:only-of-type {\n        vertical-align: middle;\n    }\n\n    .dataframe tbody tr th {\n        vertical-align: top;\n    }\n\n    .dataframe thead th {\n        text-align: right;\n    }\n</style>\n<table border=\"1\" class=\"dataframe\">\n  <thead>\n    <tr style=\"text-align: right;\">\n      <th></th>\n      <th>day</th>\n      <th>price</th>\n      <th>amount</th>\n      <th>class(F)</th>\n    </tr>\n  </thead>\n  <tbody>\n    <tr>\n      <th>0</th>\n      <td>1</td>\n      <td>2.61</td>\n      <td>46.0</td>\n      <td>0</td>\n    </tr>\n    <tr>\n      <th>1</th>\n      <td>2</td>\n      <td>5.45</td>\n      <td>55.0</td>\n      <td>2</td>\n    </tr>\n    <tr>\n      <th>2</th>\n      <td>3</td>\n      <td>2.88</td>\n      <td>53.0</td>\n      <td>2</td>\n    </tr>\n    <tr>\n      <th>3</th>\n      <td>4</td>\n      <td>4.28</td>\n      <td>43.0</td>\n      <td>2</td>\n    </tr>\n    <tr>\n      <th>4</th>\n      <td>5</td>\n      <td>2.47</td>\n      <td>61.0</td>\n      <td>1</td>\n    </tr>\n    <tr>\n      <th>5</th>\n      <td>6</td>\n      <td>4.57</td>\n      <td>48.0</td>\n      <td>2</td>\n    </tr>\n    <tr>\n      <th>6</th>\n      <td>7</td>\n      <td>0.15</td>\n      <td>198.0</td>\n      <td>1</td>\n    </tr>\n    <tr>\n      <th>7</th>\n      <td>8</td>\n      <td>0.38</td>\n      <td>151.0</td>\n      <td>2</td>\n    </tr>\n    <tr>\n      <th>8</th>\n      <td>9</td>\n      <td>1.10</td>\n      <td>115.0</td>\n      <td>2</td>\n    </tr>\n    <tr>\n      <th>9</th>\n      <td>10</td>\n      <td>2.43</td>\n      <td>43.0</td>\n      <td>2</td>\n    </tr>\n    <tr>\n      <th>10</th>\n      <td>11</td>\n      <td>1.23</td>\n      <td>137.0</td>\n      <td>1</td>\n    </tr>\n    <tr>\n      <th>11</th>\n      <td>12</td>\n      <td>5.93</td>\n      <td>89.0</td>\n      <td>2</td>\n    </tr>\n    <tr>\n      <th>12</th>\n      <td>13</td>\n      <td>1.44</td>\n      <td>134.0</td>\n      <td>1</td>\n    </tr>\n    <tr>\n      <th>13</th>\n      <td>14</td>\n      <td>1.28</td>\n      <td>97.0</td>\n      <td>2</td>\n    </tr>\n    <tr>\n      <th>14</th>\n      <td>15</td>\n      <td>1.43</td>\n      <td>90.0</td>\n      <td>2</td>\n    </tr>\n    <tr>\n      <th>15</th>\n      <td>16</td>\n      <td>1.90</td>\n      <td>133.0</td>\n      <td>2</td>\n    </tr>\n    <tr>\n      <th>16</th>\n      <td>17</td>\n      <td>1.96</td>\n      <td>97.0</td>\n      <td>2</td>\n    </tr>\n    <tr>\n      <th>17</th>\n      <td>18</td>\n      <td>2.08</td>\n      <td>67.0</td>\n      <td>2</td>\n    </tr>\n    <tr>\n      <th>18</th>\n      <td>19</td>\n      <td>3.88</td>\n      <td>60.0</td>\n      <td>2</td>\n    </tr>\n    <tr>\n      <th>19</th>\n      <td>20</td>\n      <td>4.41</td>\n      <td>55.0</td>\n      <td>2</td>\n    </tr>\n  </tbody>\n</table>\n</div>"
     },
     "execution_count": 325,
     "metadata": {},
     "output_type": "execute_result"
    }
   ],
   "source": [
    "df[\"class(F)\"] = [0] + [1 if df[\"price\"][i] <= df[\"price\"][i - 1] and df[\"amount\"][i] >= df[\"amount\"][i - 1] else 2 for\n",
    "                        i in range(1, 20)]\n",
    "df"
   ],
   "metadata": {
    "collapsed": false,
    "ExecuteTime": {
     "end_time": "2024-03-07T21:32:00.785981Z",
     "start_time": "2024-03-07T21:32:00.776095Z"
    }
   },
   "id": "20abcd1b923a901"
  },
  {
   "cell_type": "code",
   "execution_count": 326,
   "outputs": [
    {
     "data": {
      "text/plain": "array([[  3.25651654,   7.05509745,  60.15748083,  34.00338807,\n         35.23010644,  12.46422481],\n       [ 10.09752445,   5.00840294,  72.07019079,  46.02958288,\n         47.08633029,  24.1006224 ],\n       [  8.01049936,  13.16852308,  54.01737591,  28.21296865,\n         29.01864228,   6.01266164],\n       [145.02569738, 150.0651072 ,  83.00543657, 109.15314196,\n        108.00758492, 131.0142164 ],\n       [ 98.03188257, 103.08518856,  36.00719928,  62.24791161,\n         61.00903622,  84.01720062],\n       [ 10.01011988,   5.43871308,  72.01228298,  46.13296002,\n         47.01063709,  24.00255195],\n       [ 84.01620379,  89.06264986,  22.00038409,  48.22955525,\n         47.00042553,  70.00516052],\n       [ 81.01279899,  86.05693987,  19.00304186,  45.22344635,\n         44.00000114,  67.00305665],\n       [ 44.0290813 ,  49.1103258 ,  18.00089998,   9.25324267,\n          7.00160696,  30.01066477],\n       [ 80.00600227,  85.04192437,  18.01776901,  44.18417024,\n         43.00256853,  66.00024545],\n       [ 44.00961713,  49.06946199,  18.02053273,   8.93089581,\n          7.02003561,  30.00024   ],\n       [  7.07106781,  12.01982113,  55.07021336,  29.0723666 ,\n         30.09987542,   7.2277244 ],\n       [  2.51811437,   7.00182833,  60.09123147,  34.03395951,\n         35.12663377,  12.22411142]])"
     },
     "execution_count": 326,
     "metadata": {},
     "output_type": "execute_result"
    }
   ],
   "source": [
    "distance_mx = np.ndarray(shape=(13, 6))\n",
    "\n",
    "left_index = 2\n",
    "two = True\n",
    "for i in range(len(distance_mx)):\n",
    "    for j in range(len(distance_mx[0])):\n",
    "        distance_mx[i][j] = np.linalg.norm(\n",
    "            df[df[\"day\"] == (j + 1) * 3][[\"price\", \"amount\"]].values -\n",
    "            df[df[\"day\"] == left_index][[\"price\", \"amount\"]].values\n",
    "        )\n",
    "    if two:\n",
    "        left_index += 2\n",
    "        two = False\n",
    "    else:\n",
    "        left_index += 1\n",
    "        two = True\n",
    "\n",
    "distance_mx\n"
   ],
   "metadata": {
    "collapsed": false,
    "ExecuteTime": {
     "end_time": "2024-03-07T21:32:00.884278Z",
     "start_time": "2024-03-07T21:32:00.786978Z"
    }
   },
   "id": "9339f7d23a7d5a9a"
  },
  {
   "cell_type": "markdown",
   "source": [
    "Классификация при количестве соседей k = 1\n",
    "выбранный день к ближайшему соседу\n",
    "сверху дни 3,6,9,12,15,18\n",
    "слева 2,4,5,7,8,10,11,13,14,16,17,19,20"
   ],
   "metadata": {
    "collapsed": false
   },
   "id": "b99004ed7a278fc0"
  },
  {
   "cell_type": "code",
   "execution_count": 327,
   "outputs": [
    {
     "data": {
      "text/plain": "array([12,  1,  8, 10,  8,  2], dtype=int64)"
     },
     "execution_count": 327,
     "metadata": {},
     "output_type": "execute_result"
    }
   ],
   "source": [
    "distance_mx.argmin(axis=0)"
   ],
   "metadata": {
    "collapsed": false,
    "ExecuteTime": {
     "end_time": "2024-03-07T21:32:00.890275Z",
     "start_time": "2024-03-07T21:32:00.885273Z"
    }
   },
   "id": "3b8f6434163738f5"
  },
  {
   "cell_type": "markdown",
   "source": [
    "Я не смог реализовать это программно, поэтому сделаю такую некрасивую табличку\n",
    "день | группа  | классификация\n",
    "  3  |    2    |       2\n",
    "  6  |    1    |       2\n",
    "  9  |    2    |       2\n",
    "  12 |    2    |       2\n",
    "  15 |    2    |       2\n",
    "  18 |    2    |       2\n",
    "  \n",
    "Значит модель правильно сработало на 5/6, что довольно неплохо, \n",
    "но всё равно мало о чём говорит при таком маленьком количестве тестов\n",
    "Кроме того, почти наверняка такая точность вызвана дисбалансом классов (2-го класса намного больше первого)\n",
    "но так как это учебная задача оставлю как есть"
   ],
   "metadata": {
    "collapsed": false
   },
   "id": "1a549321eb666cab"
  },
  {
   "cell_type": "code",
   "outputs": [
    {
     "data": {
      "text/plain": "    day  price  amount  class(F)\n0     1   2.61    46.0         0\n1     2   5.45    55.0         2\n2     3   2.88    53.0         2\n3     4   4.28    43.0         2\n4     5   2.47    61.0         1\n5     6   4.57    48.0         2\n6     7   0.15   198.0         1\n7     8   0.38   151.0         2\n8     9   1.10   115.0         2\n9    10   2.43    43.0         2\n10   11   1.23   137.0         1\n11   12   5.93    89.0         2\n12   13   1.44   134.0         1\n13   14   1.28    97.0         2\n14   15   1.43    90.0         2\n15   16   1.90   133.0         2\n16   17   1.96    97.0         2\n17   18   2.08    67.0         2\n18   19   3.88    60.0         2\n19   20   4.41    55.0         2",
      "text/html": "<div>\n<style scoped>\n    .dataframe tbody tr th:only-of-type {\n        vertical-align: middle;\n    }\n\n    .dataframe tbody tr th {\n        vertical-align: top;\n    }\n\n    .dataframe thead th {\n        text-align: right;\n    }\n</style>\n<table border=\"1\" class=\"dataframe\">\n  <thead>\n    <tr style=\"text-align: right;\">\n      <th></th>\n      <th>day</th>\n      <th>price</th>\n      <th>amount</th>\n      <th>class(F)</th>\n    </tr>\n  </thead>\n  <tbody>\n    <tr>\n      <th>0</th>\n      <td>1</td>\n      <td>2.61</td>\n      <td>46.0</td>\n      <td>0</td>\n    </tr>\n    <tr>\n      <th>1</th>\n      <td>2</td>\n      <td>5.45</td>\n      <td>55.0</td>\n      <td>2</td>\n    </tr>\n    <tr>\n      <th>2</th>\n      <td>3</td>\n      <td>2.88</td>\n      <td>53.0</td>\n      <td>2</td>\n    </tr>\n    <tr>\n      <th>3</th>\n      <td>4</td>\n      <td>4.28</td>\n      <td>43.0</td>\n      <td>2</td>\n    </tr>\n    <tr>\n      <th>4</th>\n      <td>5</td>\n      <td>2.47</td>\n      <td>61.0</td>\n      <td>1</td>\n    </tr>\n    <tr>\n      <th>5</th>\n      <td>6</td>\n      <td>4.57</td>\n      <td>48.0</td>\n      <td>2</td>\n    </tr>\n    <tr>\n      <th>6</th>\n      <td>7</td>\n      <td>0.15</td>\n      <td>198.0</td>\n      <td>1</td>\n    </tr>\n    <tr>\n      <th>7</th>\n      <td>8</td>\n      <td>0.38</td>\n      <td>151.0</td>\n      <td>2</td>\n    </tr>\n    <tr>\n      <th>8</th>\n      <td>9</td>\n      <td>1.10</td>\n      <td>115.0</td>\n      <td>2</td>\n    </tr>\n    <tr>\n      <th>9</th>\n      <td>10</td>\n      <td>2.43</td>\n      <td>43.0</td>\n      <td>2</td>\n    </tr>\n    <tr>\n      <th>10</th>\n      <td>11</td>\n      <td>1.23</td>\n      <td>137.0</td>\n      <td>1</td>\n    </tr>\n    <tr>\n      <th>11</th>\n      <td>12</td>\n      <td>5.93</td>\n      <td>89.0</td>\n      <td>2</td>\n    </tr>\n    <tr>\n      <th>12</th>\n      <td>13</td>\n      <td>1.44</td>\n      <td>134.0</td>\n      <td>1</td>\n    </tr>\n    <tr>\n      <th>13</th>\n      <td>14</td>\n      <td>1.28</td>\n      <td>97.0</td>\n      <td>2</td>\n    </tr>\n    <tr>\n      <th>14</th>\n      <td>15</td>\n      <td>1.43</td>\n      <td>90.0</td>\n      <td>2</td>\n    </tr>\n    <tr>\n      <th>15</th>\n      <td>16</td>\n      <td>1.90</td>\n      <td>133.0</td>\n      <td>2</td>\n    </tr>\n    <tr>\n      <th>16</th>\n      <td>17</td>\n      <td>1.96</td>\n      <td>97.0</td>\n      <td>2</td>\n    </tr>\n    <tr>\n      <th>17</th>\n      <td>18</td>\n      <td>2.08</td>\n      <td>67.0</td>\n      <td>2</td>\n    </tr>\n    <tr>\n      <th>18</th>\n      <td>19</td>\n      <td>3.88</td>\n      <td>60.0</td>\n      <td>2</td>\n    </tr>\n    <tr>\n      <th>19</th>\n      <td>20</td>\n      <td>4.41</td>\n      <td>55.0</td>\n      <td>2</td>\n    </tr>\n  </tbody>\n</table>\n</div>"
     },
     "execution_count": 328,
     "metadata": {},
     "output_type": "execute_result"
    }
   ],
   "source": [
    "df"
   ],
   "metadata": {
    "collapsed": false,
    "ExecuteTime": {
     "end_time": "2024-03-07T21:32:00.901472Z",
     "start_time": "2024-03-07T21:32:00.891275Z"
    }
   },
   "id": "b77f5963d49b373",
   "execution_count": 328
  },
  {
   "cell_type": "markdown",
   "source": [
    "Теперь для трёх значений\n",
    "верхние индексы на самом деле 3,6,9,12,15\n",
    "а значения\n",
    "индекс | тип\n",
    "   0   |  2\n",
    "   1   |  2\n",
    "   2   |  1\n",
    "   3   |  1\n",
    "   4   |  2\n",
    "   5   |  2\n",
    "   6   |  1\n",
    "   7   |  1\n",
    "   8   |  2\n",
    "   9   |  2\n",
    "   10  |  2\n",
    "   11  |  2\n",
    "   12  |  2"
   ],
   "metadata": {
    "collapsed": false
   },
   "id": "2164f66e0766868c"
  },
  {
   "cell_type": "code",
   "outputs": [
    {
     "data": {
      "text/plain": "array([[12,  1,  8, 10,  8,  2],\n       [ 0,  5,  9,  8, 10, 11],\n       [11, 12, 10,  2,  2, 12]], dtype=int64)"
     },
     "execution_count": 329,
     "metadata": {},
     "output_type": "execute_result"
    }
   ],
   "source": [
    "distance_mx.argsort(axis=0)[:3]"
   ],
   "metadata": {
    "collapsed": false,
    "ExecuteTime": {
     "end_time": "2024-03-07T21:32:00.949462Z",
     "start_time": "2024-03-07T21:32:00.944463Z"
    }
   },
   "id": "85ac4c68c1ae9c86",
   "execution_count": 329
  },
  {
   "cell_type": "markdown",
   "source": [
    "день | группа  | классификация\n",
    "  3  |    2    |    2\n",
    "  6  |    1    |    2\n",
    "  9  |    2    |    2\n",
    "  12 |    2    |    2\n",
    "  15 |    2    |    2\n",
    "  18 |    2    |    2\n",
    "Модель опять правильно сработала на 5/6, что, опять же, довольно неплохо, \n",
    "но всё равно мало о чём говорит при таком маленьком количестве тестов\n",
    "Кроме того, почти наверняка такая точность вызвана дисбалансом классов (2-го класса намного больше первого)\n",
    "но так как это учебная задача ~~и я классифицировал практически вручную~~ оставлю как есть"
   ],
   "metadata": {
    "collapsed": false
   },
   "id": "322f663555b8bd03"
  },
  {
   "cell_type": "markdown",
   "source": [
    "### Кластеризация"
   ],
   "metadata": {
    "collapsed": false
   },
   "id": "d28bdc92f26c4fa6"
  },
  {
   "cell_type": "markdown",
   "source": [
    "Берём 20 значений из предыдущего задания\n",
    "для нормализации воспользуемся обезразмериванием (значение делим на максимум)\n",
    "Цель - получить однородное множество\n",
    "Порог - среднее по исходной матрице расстояний\n",
    "Остановка, когда не будет пороговых значений"
   ],
   "metadata": {
    "collapsed": false
   },
   "id": "b7e85bd2438b5c42"
  },
  {
   "cell_type": "markdown",
   "source": [
    "Нормализация"
   ],
   "metadata": {
    "collapsed": false
   },
   "id": "16a7845d2a58e09e"
  },
  {
   "cell_type": "code",
   "execution_count": 330,
   "outputs": [
    {
     "data": {
      "text/plain": "    day         X         Y\n0     1  0.440135  0.232323\n1     2  0.919056  0.277778\n2     3  0.485666  0.267677\n3     4  0.721754  0.217172\n4     5  0.416526  0.308081\n5     6  0.770658  0.242424\n6     7  0.025295  1.000000\n7     8  0.064081  0.762626\n8     9  0.185497  0.580808\n9    10  0.409781  0.217172\n10   11  0.207420  0.691919\n11   12  1.000000  0.449495\n12   13  0.242833  0.676768\n13   14  0.215852  0.489899\n14   15  0.241147  0.454545\n15   16  0.320405  0.671717\n16   17  0.330523  0.489899\n17   18  0.350759  0.338384\n18   19  0.654300  0.303030\n19   20  0.743676  0.277778",
      "text/html": "<div>\n<style scoped>\n    .dataframe tbody tr th:only-of-type {\n        vertical-align: middle;\n    }\n\n    .dataframe tbody tr th {\n        vertical-align: top;\n    }\n\n    .dataframe thead th {\n        text-align: right;\n    }\n</style>\n<table border=\"1\" class=\"dataframe\">\n  <thead>\n    <tr style=\"text-align: right;\">\n      <th></th>\n      <th>day</th>\n      <th>X</th>\n      <th>Y</th>\n    </tr>\n  </thead>\n  <tbody>\n    <tr>\n      <th>0</th>\n      <td>1</td>\n      <td>0.440135</td>\n      <td>0.232323</td>\n    </tr>\n    <tr>\n      <th>1</th>\n      <td>2</td>\n      <td>0.919056</td>\n      <td>0.277778</td>\n    </tr>\n    <tr>\n      <th>2</th>\n      <td>3</td>\n      <td>0.485666</td>\n      <td>0.267677</td>\n    </tr>\n    <tr>\n      <th>3</th>\n      <td>4</td>\n      <td>0.721754</td>\n      <td>0.217172</td>\n    </tr>\n    <tr>\n      <th>4</th>\n      <td>5</td>\n      <td>0.416526</td>\n      <td>0.308081</td>\n    </tr>\n    <tr>\n      <th>5</th>\n      <td>6</td>\n      <td>0.770658</td>\n      <td>0.242424</td>\n    </tr>\n    <tr>\n      <th>6</th>\n      <td>7</td>\n      <td>0.025295</td>\n      <td>1.000000</td>\n    </tr>\n    <tr>\n      <th>7</th>\n      <td>8</td>\n      <td>0.064081</td>\n      <td>0.762626</td>\n    </tr>\n    <tr>\n      <th>8</th>\n      <td>9</td>\n      <td>0.185497</td>\n      <td>0.580808</td>\n    </tr>\n    <tr>\n      <th>9</th>\n      <td>10</td>\n      <td>0.409781</td>\n      <td>0.217172</td>\n    </tr>\n    <tr>\n      <th>10</th>\n      <td>11</td>\n      <td>0.207420</td>\n      <td>0.691919</td>\n    </tr>\n    <tr>\n      <th>11</th>\n      <td>12</td>\n      <td>1.000000</td>\n      <td>0.449495</td>\n    </tr>\n    <tr>\n      <th>12</th>\n      <td>13</td>\n      <td>0.242833</td>\n      <td>0.676768</td>\n    </tr>\n    <tr>\n      <th>13</th>\n      <td>14</td>\n      <td>0.215852</td>\n      <td>0.489899</td>\n    </tr>\n    <tr>\n      <th>14</th>\n      <td>15</td>\n      <td>0.241147</td>\n      <td>0.454545</td>\n    </tr>\n    <tr>\n      <th>15</th>\n      <td>16</td>\n      <td>0.320405</td>\n      <td>0.671717</td>\n    </tr>\n    <tr>\n      <th>16</th>\n      <td>17</td>\n      <td>0.330523</td>\n      <td>0.489899</td>\n    </tr>\n    <tr>\n      <th>17</th>\n      <td>18</td>\n      <td>0.350759</td>\n      <td>0.338384</td>\n    </tr>\n    <tr>\n      <th>18</th>\n      <td>19</td>\n      <td>0.654300</td>\n      <td>0.303030</td>\n    </tr>\n    <tr>\n      <th>19</th>\n      <td>20</td>\n      <td>0.743676</td>\n      <td>0.277778</td>\n    </tr>\n  </tbody>\n</table>\n</div>"
     },
     "execution_count": 330,
     "metadata": {},
     "output_type": "execute_result"
    }
   ],
   "source": [
    "max_x = df[\"price\"].max()\n",
    "max_y = df[\"amount\"].max()\n",
    "df_norm = pd.DataFrame(\n",
    "    {\"day\": df[\"day\"], \"X\": [i / max_x for i in df[\"price\"]], \"Y\": [i / max_y for i in df[\"amount\"]]})\n",
    "df_norm"
   ],
   "metadata": {
    "collapsed": false,
    "ExecuteTime": {
     "end_time": "2024-03-07T21:32:01.000463Z",
     "start_time": "2024-03-07T21:32:00.991462Z"
    }
   },
   "id": "119b2562893cfd0e"
  },
  {
   "cell_type": "markdown",
   "source": [
    "Создам функцию для построение таблицы расстояний между соседями для всех дней\n",
    "и ещё одну функцию для добавление нового кластера"
   ],
   "metadata": {
    "collapsed": false
   },
   "id": "44d360f180cccd65"
  },
  {
   "cell_type": "code",
   "outputs": [],
   "source": [
    "def print_distances(df_norm: pd.DataFrame) -> pd.DataFrame:\n",
    "    distance_mx = np.ndarray(shape=(len(df_norm), len(df_norm)))\n",
    "\n",
    "    days = df_norm[\"day\"].to_list()\n",
    "\n",
    "    for i in range(len(days)):\n",
    "        for j in range(len(days)):\n",
    "            distance_mx[i][j] = round(np.linalg.norm(\n",
    "                df_norm[df_norm[\"day\"] == days[i]][[\"X\", \"Y\"]].values -\n",
    "                df_norm[df_norm[\"day\"] == days[j]][[\"X\", \"Y\"]].values\n",
    "            ), 2)\n",
    "    return distance_mx\n",
    "\n",
    "\n",
    "def add_cluster(df_local_norm: pd.DataFrame, name: str, values: List) -> pd.DataFrame:\n",
    "    # новый кластер\n",
    "    cluster = df_local_norm[df_local_norm[\"day\"].isin(values)]\n",
    "    cluster_x = round(cluster[\"X\"].mean(), 2)\n",
    "    cluster_y = round(cluster[\"Y\"].mean(), 2)\n",
    "\n",
    "    # удаляет дни кластера из общего датафрейма и добавляем инициализированный кластер\n",
    "    df_local_norm = df_local_norm[~df_local_norm[\"day\"].isin(values)]\n",
    "    df_local_norm = pd.concat([df_local_norm, pd.DataFrame({\"day\": [name], \"X\": [cluster_x], \"Y\": [cluster_y]})],\n",
    "                              ignore_index=True)\n",
    "    return df_local_norm"
   ],
   "metadata": {
    "collapsed": false,
    "ExecuteTime": {
     "end_time": "2024-03-07T21:32:01.086840Z",
     "start_time": "2024-03-07T21:32:01.080462Z"
    }
   },
   "id": "b2c617a2ee45bc92",
   "execution_count": 331
  },
  {
   "cell_type": "markdown",
   "source": [
    "Возьму порог как в примере за 0.21\n",
    "Буду считать это гиперпараметром,\n",
    "который должен либо подбирается вручную, либо на валидационной выборке"
   ],
   "metadata": {
    "collapsed": false
   },
   "id": "c2e38c37eba36850"
  },
  {
   "cell_type": "markdown",
   "source": [
    "Построю таблицу расстояний между соседями для всех дней"
   ],
   "metadata": {
    "collapsed": false
   },
   "id": "2c1c923129bfd910"
  },
  {
   "cell_type": "code",
   "outputs": [
    {
     "data": {
      "text/plain": "array([[0.  , 0.48, 0.06, 0.28, 0.08, 0.33, 0.87, 0.65, 0.43, 0.03, 0.52,\n        0.6 , 0.49, 0.34, 0.3 , 0.46, 0.28, 0.14, 0.23, 0.31],\n       [0.48, 0.  , 0.43, 0.21, 0.5 , 0.15, 1.15, 0.98, 0.79, 0.51, 0.82,\n        0.19, 0.79, 0.73, 0.7 , 0.72, 0.63, 0.57, 0.27, 0.18],\n       [0.06, 0.43, 0.  , 0.24, 0.08, 0.29, 0.87, 0.65, 0.43, 0.09, 0.51,\n        0.55, 0.48, 0.35, 0.31, 0.44, 0.27, 0.15, 0.17, 0.26],\n       [0.28, 0.21, 0.24, 0.  , 0.32, 0.06, 1.05, 0.85, 0.65, 0.31, 0.7 ,\n        0.36, 0.66, 0.57, 0.54, 0.61, 0.48, 0.39, 0.11, 0.06],\n       [0.08, 0.5 , 0.08, 0.32, 0.  , 0.36, 0.79, 0.58, 0.36, 0.09, 0.44,\n        0.6 , 0.41, 0.27, 0.23, 0.38, 0.2 , 0.07, 0.24, 0.33],\n       [0.33, 0.15, 0.29, 0.06, 0.36, 0.  , 1.06, 0.88, 0.68, 0.36, 0.72,\n        0.31, 0.68, 0.61, 0.57, 0.62, 0.5 , 0.43, 0.13, 0.04],\n       [0.87, 1.15, 0.87, 1.05, 0.79, 1.06, 0.  , 0.24, 0.45, 0.87, 0.36,\n        1.12, 0.39, 0.54, 0.59, 0.44, 0.59, 0.74, 0.94, 1.02],\n       [0.65, 0.98, 0.65, 0.85, 0.58, 0.88, 0.24, 0.  , 0.22, 0.65, 0.16,\n        0.99, 0.2 , 0.31, 0.36, 0.27, 0.38, 0.51, 0.75, 0.83],\n       [0.43, 0.79, 0.43, 0.65, 0.36, 0.68, 0.45, 0.22, 0.  , 0.43, 0.11,\n        0.83, 0.11, 0.1 , 0.14, 0.16, 0.17, 0.29, 0.54, 0.64],\n       [0.03, 0.51, 0.09, 0.31, 0.09, 0.36, 0.87, 0.65, 0.43, 0.  , 0.52,\n        0.63, 0.49, 0.33, 0.29, 0.46, 0.28, 0.13, 0.26, 0.34],\n       [0.52, 0.82, 0.51, 0.7 , 0.44, 0.72, 0.36, 0.16, 0.11, 0.52, 0.  ,\n        0.83, 0.04, 0.2 , 0.24, 0.11, 0.24, 0.38, 0.59, 0.68],\n       [0.6 , 0.19, 0.55, 0.36, 0.6 , 0.31, 1.12, 0.99, 0.83, 0.63, 0.83,\n        0.  , 0.79, 0.79, 0.76, 0.72, 0.67, 0.66, 0.38, 0.31],\n       [0.49, 0.79, 0.48, 0.66, 0.41, 0.68, 0.39, 0.2 , 0.11, 0.49, 0.04,\n        0.79, 0.  , 0.19, 0.22, 0.08, 0.21, 0.36, 0.56, 0.64],\n       [0.34, 0.73, 0.35, 0.57, 0.27, 0.61, 0.54, 0.31, 0.1 , 0.33, 0.2 ,\n        0.79, 0.19, 0.  , 0.04, 0.21, 0.11, 0.2 , 0.48, 0.57],\n       [0.3 , 0.7 , 0.31, 0.54, 0.23, 0.57, 0.59, 0.36, 0.14, 0.29, 0.24,\n        0.76, 0.22, 0.04, 0.  , 0.23, 0.1 , 0.16, 0.44, 0.53],\n       [0.46, 0.72, 0.44, 0.61, 0.38, 0.62, 0.44, 0.27, 0.16, 0.46, 0.11,\n        0.72, 0.08, 0.21, 0.23, 0.  , 0.18, 0.33, 0.5 , 0.58],\n       [0.28, 0.63, 0.27, 0.48, 0.2 , 0.5 , 0.59, 0.38, 0.17, 0.28, 0.24,\n        0.67, 0.21, 0.11, 0.1 , 0.18, 0.  , 0.15, 0.37, 0.46],\n       [0.14, 0.57, 0.15, 0.39, 0.07, 0.43, 0.74, 0.51, 0.29, 0.13, 0.38,\n        0.66, 0.36, 0.2 , 0.16, 0.33, 0.15, 0.  , 0.31, 0.4 ],\n       [0.23, 0.27, 0.17, 0.11, 0.24, 0.13, 0.94, 0.75, 0.54, 0.26, 0.59,\n        0.38, 0.56, 0.48, 0.44, 0.5 , 0.37, 0.31, 0.  , 0.09],\n       [0.31, 0.18, 0.26, 0.06, 0.33, 0.04, 1.02, 0.83, 0.64, 0.34, 0.68,\n        0.31, 0.64, 0.57, 0.53, 0.58, 0.46, 0.4 , 0.09, 0.  ]])"
     },
     "execution_count": 332,
     "metadata": {},
     "output_type": "execute_result"
    }
   ],
   "source": [
    "print_distances(df_norm)"
   ],
   "metadata": {
    "collapsed": false,
    "ExecuteTime": {
     "end_time": "2024-03-07T21:32:01.533291Z",
     "start_time": "2024-03-07T21:32:01.109836Z"
    }
   },
   "id": "e8dac4fbece58063",
   "execution_count": 332
  },
  {
   "cell_type": "markdown",
   "source": [
    "Буду разделять на кластеры вручную. В один кластер попадают пересечения значений меньшие или равные пороговому значению (0.21)\n",
    "В таблице дни начинаются с 0. Я буду писать в комментариях и коде с 1\n",
    "В первом кластере будут дни:\n",
    "1, 3, 5, 10, 18\n",
    "Во втором кластере будут дни:\n",
    "2, 4, 6, 12, 20\n",
    "В третьем:\n",
    "8, 11, 13\n",
    "В четвёртом:\n",
    "9, 14, 15, 16, 17\n",
    "Значения которые пока без кластера/отдельные кластеры\n",
    "19\n",
    "7\n",
    "\n",
    "Пока что отделю эти 4 кластера и построю новую матрицу расстояний\n",
    "\n"
   ],
   "metadata": {
    "collapsed": false
   },
   "id": "7a7311608f0ab2d5"
  },
  {
   "cell_type": "code",
   "outputs": [
    {
     "data": {
      "text/plain": "        day         X        Y\n0         7  0.025295  1.00000\n1        19  0.654300  0.30303\n2  cluster1  0.420000  0.27000\n3  cluster2  0.830000  0.29000\n4  cluster3  0.170000  0.71000\n5  cluster4  0.260000  0.54000",
      "text/html": "<div>\n<style scoped>\n    .dataframe tbody tr th:only-of-type {\n        vertical-align: middle;\n    }\n\n    .dataframe tbody tr th {\n        vertical-align: top;\n    }\n\n    .dataframe thead th {\n        text-align: right;\n    }\n</style>\n<table border=\"1\" class=\"dataframe\">\n  <thead>\n    <tr style=\"text-align: right;\">\n      <th></th>\n      <th>day</th>\n      <th>X</th>\n      <th>Y</th>\n    </tr>\n  </thead>\n  <tbody>\n    <tr>\n      <th>0</th>\n      <td>7</td>\n      <td>0.025295</td>\n      <td>1.00000</td>\n    </tr>\n    <tr>\n      <th>1</th>\n      <td>19</td>\n      <td>0.654300</td>\n      <td>0.30303</td>\n    </tr>\n    <tr>\n      <th>2</th>\n      <td>cluster1</td>\n      <td>0.420000</td>\n      <td>0.27000</td>\n    </tr>\n    <tr>\n      <th>3</th>\n      <td>cluster2</td>\n      <td>0.830000</td>\n      <td>0.29000</td>\n    </tr>\n    <tr>\n      <th>4</th>\n      <td>cluster3</td>\n      <td>0.170000</td>\n      <td>0.71000</td>\n    </tr>\n    <tr>\n      <th>5</th>\n      <td>cluster4</td>\n      <td>0.260000</td>\n      <td>0.54000</td>\n    </tr>\n  </tbody>\n</table>\n</div>"
     },
     "execution_count": 333,
     "metadata": {},
     "output_type": "execute_result"
    }
   ],
   "source": [
    "df_norm_1 = add_cluster(df_norm, \"cluster1\", [1, 3, 5, 10, 18])\n",
    "df_norm_1 = add_cluster(df_norm_1, \"cluster2\", [2, 4, 6, 12, 20])\n",
    "df_norm_1 = add_cluster(df_norm_1, \"cluster3\", [8, 11, 13])\n",
    "df_norm_1 = add_cluster(df_norm_1, \"cluster4\", [9, 14, 15, 16, 17])\n",
    "df_norm_1"
   ],
   "metadata": {
    "collapsed": false,
    "ExecuteTime": {
     "end_time": "2024-03-07T21:32:01.547165Z",
     "start_time": "2024-03-07T21:32:01.534289Z"
    }
   },
   "id": "37f7aa193dc5742",
   "execution_count": 333
  },
  {
   "cell_type": "markdown",
   "source": [
    "Новая таблица расстояний\n",
    "где,\n",
    "0 = 7\n",
    "1 = 19\n",
    "2 = cluster1 \n",
    "3 = cluster2 \n",
    "4 = cluster3 \n",
    "5 = cluster4 "
   ],
   "metadata": {
    "collapsed": false
   },
   "id": "b100705f5e846962"
  },
  {
   "cell_type": "code",
   "outputs": [
    {
     "data": {
      "text/plain": "array([[0.  , 0.94, 0.83, 1.07, 0.32, 0.52],\n       [0.94, 0.  , 0.24, 0.18, 0.63, 0.46],\n       [0.83, 0.24, 0.  , 0.41, 0.51, 0.31],\n       [1.07, 0.18, 0.41, 0.  , 0.78, 0.62],\n       [0.32, 0.63, 0.51, 0.78, 0.  , 0.19],\n       [0.52, 0.46, 0.31, 0.62, 0.19, 0.  ]])"
     },
     "execution_count": 334,
     "metadata": {},
     "output_type": "execute_result"
    }
   ],
   "source": [
    "print_distances(df_norm_1)"
   ],
   "metadata": {
    "collapsed": false,
    "ExecuteTime": {
     "end_time": "2024-03-07T21:32:01.588684Z",
     "start_time": "2024-03-07T21:32:01.548164Z"
    }
   },
   "id": "cfdbe2db1f1b6818",
   "execution_count": 334
  },
  {
   "cell_type": "markdown",
   "source": [
    "Из этой таблицы видно, что 19-й день можно добавить в кластер 2\n",
    "И что также объёединить кластеры 3 (8, 11, 13) и кластер (9, 14, 15, 16, 17)\n",
    "В четвёртом:\n"
   ],
   "metadata": {
    "collapsed": false
   },
   "id": "639666111fbbd2f"
  },
  {
   "cell_type": "code",
   "outputs": [
    {
     "data": {
      "text/plain": "        day         X     Y\n0         7  0.025295  1.00\n1  cluster1  0.420000  0.27\n2  cluster2  0.800000  0.29\n3  cluster3  0.230000  0.60",
      "text/html": "<div>\n<style scoped>\n    .dataframe tbody tr th:only-of-type {\n        vertical-align: middle;\n    }\n\n    .dataframe tbody tr th {\n        vertical-align: top;\n    }\n\n    .dataframe thead th {\n        text-align: right;\n    }\n</style>\n<table border=\"1\" class=\"dataframe\">\n  <thead>\n    <tr style=\"text-align: right;\">\n      <th></th>\n      <th>day</th>\n      <th>X</th>\n      <th>Y</th>\n    </tr>\n  </thead>\n  <tbody>\n    <tr>\n      <th>0</th>\n      <td>7</td>\n      <td>0.025295</td>\n      <td>1.00</td>\n    </tr>\n    <tr>\n      <th>1</th>\n      <td>cluster1</td>\n      <td>0.420000</td>\n      <td>0.27</td>\n    </tr>\n    <tr>\n      <th>2</th>\n      <td>cluster2</td>\n      <td>0.800000</td>\n      <td>0.29</td>\n    </tr>\n    <tr>\n      <th>3</th>\n      <td>cluster3</td>\n      <td>0.230000</td>\n      <td>0.60</td>\n    </tr>\n  </tbody>\n</table>\n</div>"
     },
     "execution_count": 335,
     "metadata": {},
     "output_type": "execute_result"
    }
   ],
   "source": [
    "df_norm_2 = add_cluster(df_norm, \"cluster1\", [1, 3, 5, 10, 18])\n",
    "df_norm_2 = add_cluster(df_norm_2, \"cluster2\", [2, 4, 6, 12, 19, 20])\n",
    "df_norm_2 = add_cluster(df_norm_2, \"cluster3\", [8, 11, 13] + [9, 14, 15, 16, 17])\n",
    "df_norm_2"
   ],
   "metadata": {
    "collapsed": false,
    "ExecuteTime": {
     "end_time": "2024-03-07T21:32:01.601031Z",
     "start_time": "2024-03-07T21:32:01.589676Z"
    }
   },
   "id": "1f8fbf2cfdcb0712",
   "execution_count": 335
  },
  {
   "cell_type": "markdown",
   "source": [
    "Итоговая таблица расстояний выглядит так:\n",
    "0 = 7\n",
    "1 = cluster1 \n",
    "2 = cluster2 \n",
    "3 = cluster3\n",
    "Итоговая, так как все значения выше порога"
   ],
   "metadata": {
    "collapsed": false
   },
   "id": "5f287b32405bd78f"
  },
  {
   "cell_type": "code",
   "outputs": [
    {
     "data": {
      "text/plain": "array([[0.  , 0.83, 1.05, 0.45],\n       [0.83, 0.  , 0.38, 0.38],\n       [1.05, 0.38, 0.  , 0.65],\n       [0.45, 0.38, 0.65, 0.  ]])"
     },
     "execution_count": 336,
     "metadata": {},
     "output_type": "execute_result"
    }
   ],
   "source": [
    "print_distances(df_norm_2)"
   ],
   "metadata": {
    "collapsed": false,
    "ExecuteTime": {
     "end_time": "2024-03-07T21:32:01.622694Z",
     "start_time": "2024-03-07T21:32:01.602027Z"
    }
   },
   "id": "92e3cbd242c164c",
   "execution_count": 336
  },
  {
   "cell_type": "markdown",
   "source": [
    "Итого получилось разбить датасет на 3 кластера:\n",
    "первый: дни 1, 3, 5, 10 и 18\n",
    "второй: дни 2, 4, 6, 12, 19 и 20\n",
    "третий: дни 8, 9 11, 13, 14, 15, 16 и 17\n",
    "День 7 можно считать как выбросом, так и отдельным кластером\n",
    "Данные взяты случайным образом, так что определить это невозможно"
   ],
   "metadata": {
    "collapsed": false
   },
   "id": "46c6453fd5853183"
  }
 ],
 "metadata": {
  "kernelspec": {
   "display_name": "Python 3",
   "language": "python",
   "name": "python3"
  },
  "language_info": {
   "codemirror_mode": {
    "name": "ipython",
    "version": 2
   },
   "file_extension": ".py",
   "mimetype": "text/x-python",
   "name": "python",
   "nbconvert_exporter": "python",
   "pygments_lexer": "ipython2",
   "version": "2.7.6"
  }
 },
 "nbformat": 4,
 "nbformat_minor": 5
}
