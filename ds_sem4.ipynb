{
 "cells": [
  {
   "cell_type": "markdown",
   "source": [
    "## Лузина Владимира РИС22-2\n",
    "# Однопараметрическая регрессия"
   ],
   "metadata": {
    "collapsed": false
   }
  },
  {
   "cell_type": "markdown",
   "source": [
    "Используя имеющиеся статистические данные выполнить следующие шаги:\n",
    "1) Построить модель парной линейной регрессии для стоимости и объема\n",
    "продаж с использованием МНК, дать интерпретацию найденным\n",
    "коэффициентам. Построить диаграмму рассеяния и линию регрессии для\n",
    "всех 20 значений.\n",
    "2) Постройте экспоненциальную модель регрессии для описания\n",
    "зависимости стоимости и объема продаж с использованием МНК."
   ],
   "metadata": {
    "collapsed": false
   }
  },
  {
   "cell_type": "markdown",
   "source": [
    "Я не стал удалять выбросы, так как это не связано с текущей задачей и этого не было на семинаре,\n",
    "но почти наверняка их нужно будет удалить в реальной задаче"
   ],
   "metadata": {
    "collapsed": false
   }
  },
  {
   "cell_type": "code",
   "execution_count": 231,
   "outputs": [],
   "source": [
    "import math\n",
    "import pandas as pd\n",
    "import numpy as np\n",
    "import matplotlib.pyplot as plt"
   ],
   "metadata": {
    "collapsed": false,
    "ExecuteTime": {
     "end_time": "2024-02-12T19:57:08.641902Z",
     "start_time": "2024-02-12T19:57:08.434845Z"
    }
   },
   "id": "62db795d253a0b08"
  },
  {
   "cell_type": "markdown",
   "source": [
    "Исходные данные взяты также из варианта 25"
   ],
   "metadata": {
    "collapsed": false
   },
   "id": "61c96cbb642c9c10"
  },
  {
   "cell_type": "code",
   "execution_count": 232,
   "outputs": [
    {
     "data": {
      "text/plain": "    day  price  amount\n0     1   1.81      28\n1     2   1.81      21\n2     3   3.78       3\n3     4   3.78       0\n4     5   3.78      27\n5     6   3.78      14\n6     7   3.78      10\n7     8   3.89       2\n8     9   3.93       2\n9    10   3.28       8\n10   11   3.23      15\n11   12   3.21      10\n12   13   3.35      17\n13   14   3.35       9\n14   15   3.37       2\n15   16   3.40      33\n16   17   3.25       1\n17   18   3.25      12\n18   19   3.25      10\n19   20   3.29       4",
      "text/html": "<div>\n<style scoped>\n    .dataframe tbody tr th:only-of-type {\n        vertical-align: middle;\n    }\n\n    .dataframe tbody tr th {\n        vertical-align: top;\n    }\n\n    .dataframe thead th {\n        text-align: right;\n    }\n</style>\n<table border=\"1\" class=\"dataframe\">\n  <thead>\n    <tr style=\"text-align: right;\">\n      <th></th>\n      <th>day</th>\n      <th>price</th>\n      <th>amount</th>\n    </tr>\n  </thead>\n  <tbody>\n    <tr>\n      <th>0</th>\n      <td>1</td>\n      <td>1.81</td>\n      <td>28</td>\n    </tr>\n    <tr>\n      <th>1</th>\n      <td>2</td>\n      <td>1.81</td>\n      <td>21</td>\n    </tr>\n    <tr>\n      <th>2</th>\n      <td>3</td>\n      <td>3.78</td>\n      <td>3</td>\n    </tr>\n    <tr>\n      <th>3</th>\n      <td>4</td>\n      <td>3.78</td>\n      <td>0</td>\n    </tr>\n    <tr>\n      <th>4</th>\n      <td>5</td>\n      <td>3.78</td>\n      <td>27</td>\n    </tr>\n    <tr>\n      <th>5</th>\n      <td>6</td>\n      <td>3.78</td>\n      <td>14</td>\n    </tr>\n    <tr>\n      <th>6</th>\n      <td>7</td>\n      <td>3.78</td>\n      <td>10</td>\n    </tr>\n    <tr>\n      <th>7</th>\n      <td>8</td>\n      <td>3.89</td>\n      <td>2</td>\n    </tr>\n    <tr>\n      <th>8</th>\n      <td>9</td>\n      <td>3.93</td>\n      <td>2</td>\n    </tr>\n    <tr>\n      <th>9</th>\n      <td>10</td>\n      <td>3.28</td>\n      <td>8</td>\n    </tr>\n    <tr>\n      <th>10</th>\n      <td>11</td>\n      <td>3.23</td>\n      <td>15</td>\n    </tr>\n    <tr>\n      <th>11</th>\n      <td>12</td>\n      <td>3.21</td>\n      <td>10</td>\n    </tr>\n    <tr>\n      <th>12</th>\n      <td>13</td>\n      <td>3.35</td>\n      <td>17</td>\n    </tr>\n    <tr>\n      <th>13</th>\n      <td>14</td>\n      <td>3.35</td>\n      <td>9</td>\n    </tr>\n    <tr>\n      <th>14</th>\n      <td>15</td>\n      <td>3.37</td>\n      <td>2</td>\n    </tr>\n    <tr>\n      <th>15</th>\n      <td>16</td>\n      <td>3.40</td>\n      <td>33</td>\n    </tr>\n    <tr>\n      <th>16</th>\n      <td>17</td>\n      <td>3.25</td>\n      <td>1</td>\n    </tr>\n    <tr>\n      <th>17</th>\n      <td>18</td>\n      <td>3.25</td>\n      <td>12</td>\n    </tr>\n    <tr>\n      <th>18</th>\n      <td>19</td>\n      <td>3.25</td>\n      <td>10</td>\n    </tr>\n    <tr>\n      <th>19</th>\n      <td>20</td>\n      <td>3.29</td>\n      <td>4</td>\n    </tr>\n  </tbody>\n</table>\n</div>"
     },
     "execution_count": 232,
     "metadata": {},
     "output_type": "execute_result"
    }
   ],
   "source": [
    " df = pd.DataFrame({'day': [i for i in range(1, 21)],  # дни с 1 по 20\n",
    "                    'price': [1.81, 1.81, 3.78, 3.78, 3.78, 3.78, 3.78, 3.89, 3.93, 3.28, 3.23, 3.21, 3.35, 3.35, 3.37,\n",
    "                              3.40, 3.25, 3.25, 3.25, 3.29],  # стоимость\n",
    "                    'amount': [28, 21, 3, 0, 27, 14, 10, 2, 2, 8, 15, 10, 17, 9, 2, 33, 1, 12, 10, 4]})  # число продаж\n",
    "\n",
    "#df = pd.DataFrame({'day': [i for i in range(1, 21)],  # дни с 1 по 20\n",
    "#                  'price': [4.1, 4.1, 4.37, 4.37, 4.37, 4.37, 4.37, 4.55, 4.61, 4.39, 4.33, 4.31, 4.49, 4.49, 4.53,\n",
    "#                            4.57, 4.38, 4.38, 4.38, 4.42],  # стоимость\n",
    "#                  'amount': [20, 34, 16, 16, 25, 47, 41, 26, 29, 17, 75, 42, 46, 58, 7, 18, 27, 88, 61,31]})  # число продаж\n",
    "df"
   ],
   "metadata": {
    "collapsed": false,
    "ExecuteTime": {
     "end_time": "2024-02-12T19:57:08.643930600Z",
     "start_time": "2024-02-12T19:57:08.444972Z"
    }
   },
   "id": "d06f80c36a25954d"
  },
  {
   "cell_type": "markdown",
   "source": [
    "### Линейная модель"
   ],
   "metadata": {
    "collapsed": false
   }
  },
  {
   "cell_type": "markdown",
   "source": [
    "Согласно определению функции должно быть однозначное соответствие значений осей абсцисс и ординат. Для\n",
    "этого удалим дублирующие значения количества продаж, оставив повторяющиеся значения цен\n",
    " (также возможно заменить их средними значениями).\n"
   ],
   "metadata": {
    "collapsed": false
   },
   "id": "5f8ae9f19b25daa5"
  },
  {
   "cell_type": "code",
   "execution_count": 233,
   "outputs": [],
   "source": [
    "df_without_day = df.drop(\"day\", axis=1)"
   ],
   "metadata": {
    "collapsed": false,
    "ExecuteTime": {
     "end_time": "2024-02-12T19:57:08.759414100Z",
     "start_time": "2024-02-12T19:57:08.462991100Z"
    }
   },
   "id": "d19c050826730d54"
  },
  {
   "cell_type": "code",
   "execution_count": 234,
   "outputs": [],
   "source": [
    "df_unique_amounts = df_without_day.drop_duplicates(subset=['amount'])"
   ],
   "metadata": {
    "collapsed": false,
    "ExecuteTime": {
     "end_time": "2024-02-12T19:57:08.769416900Z",
     "start_time": "2024-02-12T19:57:08.468041500Z"
    }
   },
   "id": "ab538a0c1b72d378"
  },
  {
   "cell_type": "markdown",
   "source": [
    "Построим линейную модель для зависимости числа продаж от цены\n",
    "    $f(x) = c_1 + c_2*x$\n",
    "В качестве базисных функций необходимо выбрать\n",
    "$f_1(x) = 1$\n",
    "$f_2(x) = x$"
   ],
   "metadata": {
    "collapsed": false
   }
  },
  {
   "cell_type": "markdown",
   "source": [
    "Создадим вспомогательную матрицу A,\n",
    "Где каждому значению A, каждый из которых 1, соответствует объём прожаж"
   ],
   "metadata": {
    "collapsed": false
   }
  },
  {
   "cell_type": "code",
   "execution_count": 235,
   "outputs": [
    {
     "data": {
      "text/plain": "    A  amount\n0   1      28\n1   1      21\n2   1       3\n3   1       0\n4   1      27\n5   1      14\n6   1      10\n7   1       2\n9   1       8\n10  1      15\n12  1      17\n13  1       9\n15  1      33\n16  1       1\n17  1      12\n19  1       4",
      "text/html": "<div>\n<style scoped>\n    .dataframe tbody tr th:only-of-type {\n        vertical-align: middle;\n    }\n\n    .dataframe tbody tr th {\n        vertical-align: top;\n    }\n\n    .dataframe thead th {\n        text-align: right;\n    }\n</style>\n<table border=\"1\" class=\"dataframe\">\n  <thead>\n    <tr style=\"text-align: right;\">\n      <th></th>\n      <th>A</th>\n      <th>amount</th>\n    </tr>\n  </thead>\n  <tbody>\n    <tr>\n      <th>0</th>\n      <td>1</td>\n      <td>28</td>\n    </tr>\n    <tr>\n      <th>1</th>\n      <td>1</td>\n      <td>21</td>\n    </tr>\n    <tr>\n      <th>2</th>\n      <td>1</td>\n      <td>3</td>\n    </tr>\n    <tr>\n      <th>3</th>\n      <td>1</td>\n      <td>0</td>\n    </tr>\n    <tr>\n      <th>4</th>\n      <td>1</td>\n      <td>27</td>\n    </tr>\n    <tr>\n      <th>5</th>\n      <td>1</td>\n      <td>14</td>\n    </tr>\n    <tr>\n      <th>6</th>\n      <td>1</td>\n      <td>10</td>\n    </tr>\n    <tr>\n      <th>7</th>\n      <td>1</td>\n      <td>2</td>\n    </tr>\n    <tr>\n      <th>9</th>\n      <td>1</td>\n      <td>8</td>\n    </tr>\n    <tr>\n      <th>10</th>\n      <td>1</td>\n      <td>15</td>\n    </tr>\n    <tr>\n      <th>12</th>\n      <td>1</td>\n      <td>17</td>\n    </tr>\n    <tr>\n      <th>13</th>\n      <td>1</td>\n      <td>9</td>\n    </tr>\n    <tr>\n      <th>15</th>\n      <td>1</td>\n      <td>33</td>\n    </tr>\n    <tr>\n      <th>16</th>\n      <td>1</td>\n      <td>1</td>\n    </tr>\n    <tr>\n      <th>17</th>\n      <td>1</td>\n      <td>12</td>\n    </tr>\n    <tr>\n      <th>19</th>\n      <td>1</td>\n      <td>4</td>\n    </tr>\n  </tbody>\n</table>\n</div>"
     },
     "execution_count": 235,
     "metadata": {},
     "output_type": "execute_result"
    }
   ],
   "source": [
    "A =  df_unique_amounts.drop(\"price\", axis=1)\n",
    "A[\"A\"] = [1 for i in range(len(A))]\n",
    "temp = A[\"amount\"]\n",
    "A = A.drop(\"amount\", axis=1)\n",
    "A[\"amount\"] = temp\n",
    "A"
   ],
   "metadata": {
    "collapsed": false,
    "ExecuteTime": {
     "end_time": "2024-02-12T19:57:08.771409800Z",
     "start_time": "2024-02-12T19:57:08.483408200Z"
    }
   },
   "id": "e6e4c7d1c1c58c63"
  },
  {
   "cell_type": "markdown",
   "source": [
    "Также создадим вектор цен y, соответствующих уникальным количествам продаж"
   ],
   "metadata": {
    "collapsed": false
   }
  },
  {
   "cell_type": "code",
   "execution_count": 236,
   "outputs": [
    {
     "data": {
      "text/plain": "0     1.81\n1     1.81\n2     3.78\n3     3.78\n4     3.78\n5     3.78\n6     3.78\n7     3.89\n9     3.28\n10    3.23\n12    3.35\n13    3.35\n15    3.40\n16    3.25\n17    3.25\n19    3.29\nName: price, dtype: float64"
     },
     "execution_count": 236,
     "metadata": {},
     "output_type": "execute_result"
    }
   ],
   "source": [
    "y = df_unique_amounts[\"price\"]\n",
    "y"
   ],
   "metadata": {
    "collapsed": false,
    "ExecuteTime": {
     "end_time": "2024-02-12T19:57:08.772386100Z",
     "start_time": "2024-02-12T19:57:08.491398400Z"
    }
   }
  },
  {
   "cell_type": "markdown",
   "source": [
    "Вычисляем значения коэффициентов по формуле\n",
    "$c = ((A^T*A)^{-1}*A^T)*y$"
   ],
   "metadata": {
    "collapsed": false
   }
  },
  {
   "cell_type": "code",
   "execution_count": 237,
   "outputs": [
    {
     "data": {
      "text/plain": "0    3.652346\n1   -0.027586\ndtype: float64"
     },
     "execution_count": 237,
     "metadata": {},
     "output_type": "execute_result"
    }
   ],
   "source": [
    "c = (np.linalg.inv(A.T @ A) @ A.T) @ y\n",
    "c"
   ],
   "metadata": {
    "collapsed": false,
    "ExecuteTime": {
     "end_time": "2024-02-12T19:57:08.773414300Z",
     "start_time": "2024-02-12T19:57:08.502857900Z"
    }
   }
  },
  {
   "cell_type": "markdown",
   "source": [
    "Окончательно запишем искомую функцию"
   ],
   "metadata": {
    "collapsed": false
   }
  },
  {
   "cell_type": "code",
   "execution_count": 238,
   "outputs": [
    {
     "name": "stdout",
     "output_type": "stream",
     "text": [
      "f(x) = -0.027585932527052857*x + 3.652345639719924\n"
     ]
    }
   ],
   "source": [
    "print(f\"f(x) = {c[1]}*x + {c[0]}\")"
   ],
   "metadata": {
    "collapsed": false,
    "ExecuteTime": {
     "end_time": "2024-02-12T19:57:08.782476Z",
     "start_time": "2024-02-12T19:57:08.513355Z"
    }
   }
  },
  {
   "cell_type": "code",
   "execution_count": 239,
   "outputs": [],
   "source": [
    "def linear_regression(x: int) -> float:\n",
    "    return c[1]*x + c[0]"
   ],
   "metadata": {
    "collapsed": false,
    "ExecuteTime": {
     "end_time": "2024-02-12T19:57:08.782476Z",
     "start_time": "2024-02-12T19:57:08.518310700Z"
    }
   }
  },
  {
   "cell_type": "markdown",
   "source": [
    "Модель регрессии позволяет прогнозировать неизвестное значение зависимой\n",
    "переменной f(x) по известному значению независимой переменной x."
   ],
   "metadata": {
    "collapsed": false
   }
  },
  {
   "cell_type": "markdown",
   "source": [
    "Построим диаграммы рассеяния и нанесем линии регрессии."
   ],
   "metadata": {
    "collapsed": false
   }
  },
  {
   "cell_type": "code",
   "execution_count": 240,
   "outputs": [
    {
     "data": {
      "text/plain": "<Figure size 640x480 with 1 Axes>",
      "image/png": "[encoded data removed]"
     },
     "metadata": {},
     "output_type": "display_data"
    }
   ],
   "source": [
    "x_new = np.arange(0, df[\"amount\"].max() + 10, 1)  # Используем максимальное значение из данных для x_new\n",
    "plt.scatter(df[\"amount\"], df[\"price\"], label='цены')\n",
    "plt.plot(x_new, linear_regression(x_new), label='Линия регрессии')\n",
    "plt.ylim(top=df[\"price\"].max()+0.1, bottom=df[\"price\"].min()-0.1)\n",
    "plt.xlabel('Количество продаж')\n",
    "plt.ylabel('Цены')\n",
    "plt.legend()\n",
    "plt.show()\n"
   ],
   "metadata": {
    "collapsed": false,
    "ExecuteTime": {
     "end_time": "2024-02-12T19:57:08.800415100Z",
     "start_time": "2024-02-12T19:57:08.530900200Z"
    }
   }
  },
  {
   "cell_type": "markdown",
   "source": [
    "Также рассмотрим график в меньшем масштабе"
   ],
   "metadata": {
    "collapsed": false
   }
  },
  {
   "cell_type": "code",
   "execution_count": 241,
   "outputs": [
    {
     "data": {
      "text/plain": "<Figure size 640x480 with 1 Axes>",
      "image/png": "[encoded data removed]"
     },
     "metadata": {},
     "output_type": "display_data"
    }
   ],
   "source": [
    "x_new = np.arange(0, df[\"amount\"].max() + 800, 1)  # Используем максимальное значение из данных для x_new\n",
    "plt.scatter(df[\"amount\"], df[\"price\"], label='цены')\n",
    "plt.plot(x_new, linear_regression(x_new), label='Линия регрессии')\n",
    "plt.ylim(top=df[\"price\"].max()+0.1, bottom=df[\"price\"].min()-15)\n",
    "plt.xlabel('Количество продаж')\n",
    "plt.ylabel('Цены')\n",
    "plt.legend()\n",
    "plt.show()"
   ],
   "metadata": {
    "collapsed": false,
    "ExecuteTime": {
     "end_time": "2024-02-12T19:57:08.964186900Z",
     "start_time": "2024-02-12T19:57:08.691388100Z"
    }
   }
  },
  {
   "cell_type": "markdown",
   "source": [
    "Несложно заметить что при уменьшении цены, увеличивается количество продаж\n",
    "Скорее всего так и будет продолжаться до какого либо предела.\n",
    "Также можно сделать вывод, что этот товар - нормальное благо.\n",
    "Коэффициент $c_1$ показывает значение f(x) при x = 0. Как правило это значение не имеет экономического смысла. Из значения этого коэффициента можно сделать вывод, что при цене 3.65 за единицу, согласно модели, будут\n",
    "отсутствовать продажи.\n",
    "Коэффициент $c_2$ показывает, на сколько единиц в среднем изменится f(x), если x изменится на одну единицу. Из\n",
    "рассмотренного примера можно сделать вывод, что уменьшение цены на 0.027586 единицы приводит к\n",
    "увеличению объема продаж на 1 единицу продукции."
   ],
   "metadata": {
    "collapsed": false
   }
  },
  {
   "cell_type": "markdown",
   "source": [
    "### Экспоненциальную модель\n",
    "Теперь построю экспоненциальную модель регрессии для описания зависимости стоимости и объема продаж с использованием МНК\n",
    "Буду искать модель для зависимости числа продаж от цены в виде функции\n",
    "$f(x) = c_1 * e^{c_2*x}$\n",
    "Для этого возьмe логарифм от обоих частей выражения\n",
    "$ln f(x) = ln c_1 + c_2 * x$\n",
    "Сделаю замену переменных $y = ln f(x) c_1^* = ln c_1$ и получу\n",
    "$y = c_1^* + c_2*x$\n",
    "В качестве базисных функций необходимо выбрать\n",
    "$f_1(x) = 1  f_2(x) = x$"
   ],
   "metadata": {
    "collapsed": false
   }
  },
  {
   "cell_type": "markdown",
   "source": [
    "найдём десятичный логарифм от каждой цены"
   ],
   "metadata": {
    "collapsed": false
   }
  },
  {
   "cell_type": "code",
   "execution_count": 242,
   "outputs": [
    {
     "data": {
      "text/plain": "0     0.593327\n1     0.593327\n2     1.329724\n3     1.329724\n4     1.329724\n5     1.329724\n6     1.329724\n7     1.358409\n9     1.187843\n10    1.172482\n12    1.208960\n13    1.208960\n15    1.223775\n16    1.178655\n17    1.178655\n19    1.190888\nName: price, dtype: float64"
     },
     "execution_count": 242,
     "metadata": {},
     "output_type": "execute_result"
    }
   ],
   "source": [
    "y = np.log(y)\n",
    "y"
   ],
   "metadata": {
    "collapsed": false,
    "ExecuteTime": {
     "end_time": "2024-02-12T19:57:08.964186900Z",
     "start_time": "2024-02-12T19:57:08.845301600Z"
    }
   }
  },
  {
   "cell_type": "markdown",
   "source": [
    "Снова вычислим значение коэффициента по формуле\n",
    "$c = ((A^T*A)^{-1}*A^T)*y$"
   ],
   "metadata": {
    "collapsed": false
   }
  },
  {
   "cell_type": "markdown",
   "source": [],
   "metadata": {
    "collapsed": false
   },
   "id": "7449165f1834c7ea"
  },
  {
   "cell_type": "code",
   "execution_count": 243,
   "outputs": [
    {
     "data": {
      "text/plain": "0    1.304563\n1   -0.010437\ndtype: float64"
     },
     "execution_count": 243,
     "metadata": {},
     "output_type": "execute_result"
    }
   ],
   "source": [
    "c = (np.linalg.inv(A.T @ A) @ A.T) @ y\n",
    "c"
   ],
   "metadata": {
    "collapsed": false,
    "ExecuteTime": {
     "end_time": "2024-02-12T19:57:09.014158800Z",
     "start_time": "2024-02-12T19:57:08.851996500Z"
    }
   }
  },
  {
   "cell_type": "markdown",
   "source": [
    "Запишем искомую функцию"
   ],
   "metadata": {
    "collapsed": false
   }
  },
  {
   "cell_type": "code",
   "execution_count": 244,
   "outputs": [
    {
     "name": "stdout",
     "output_type": "stream",
     "text": [
      "y = -0.010436804013249895*x + 1.3045631347145963\n"
     ]
    }
   ],
   "source": [
    "print(f\"y = {c[1]}*x + {c[0]}\")"
   ],
   "metadata": {
    "collapsed": false,
    "ExecuteTime": {
     "end_time": "2024-02-12T19:57:09.014158800Z",
     "start_time": "2024-02-12T19:57:08.861078200Z"
    }
   }
  },
  {
   "cell_type": "markdown",
   "source": [
    "После обратного преобразования получаем"
   ],
   "metadata": {
    "collapsed": false
   }
  },
  {
   "cell_type": "code",
   "execution_count": 245,
   "outputs": [
    {
     "name": "stdout",
     "output_type": "stream",
     "text": [
      "f(x) = 3.6860784222054632*e^(-0.010436804013249895*x)\n"
     ]
    }
   ],
   "source": [
    "print(f\"f(x) = {math.e**c[0]}*e^({c[1]}*x)\")"
   ],
   "metadata": {
    "collapsed": false,
    "ExecuteTime": {
     "end_time": "2024-02-12T19:57:09.014158800Z",
     "start_time": "2024-02-12T19:57:08.866965500Z"
    }
   }
  },
  {
   "cell_type": "code",
   "execution_count": 246,
   "outputs": [],
   "source": [
    "def exp_regression(x: int) -> float:\n",
    "    return math.e**c[0]*math.e**(c[1]*x)"
   ],
   "metadata": {
    "collapsed": false,
    "ExecuteTime": {
     "end_time": "2024-02-12T19:57:09.014158800Z",
     "start_time": "2024-02-12T19:57:08.873231300Z"
    }
   }
  },
  {
   "cell_type": "markdown",
   "source": [
    "Модель регрессии позволяет прогнозировать неизвестное значение зависимой\n",
    "переменной f(x) по известному значению независимой переменной x."
   ],
   "metadata": {
    "collapsed": false
   }
  },
  {
   "cell_type": "markdown",
   "source": [
    "Построим диаграммы рассеяния и нанесем линии регрессии."
   ],
   "metadata": {
    "collapsed": false
   }
  },
  {
   "cell_type": "code",
   "execution_count": 247,
   "outputs": [
    {
     "data": {
      "text/plain": "<Figure size 640x480 with 1 Axes>",
      "image/png": "[encoded data removed]"
     },
     "metadata": {},
     "output_type": "display_data"
    }
   ],
   "source": [
    "x_new = np.arange(0, df[\"amount\"].max() + 10, 1)  # Используем максимальное значение из данных для x_new\n",
    "plt.scatter(df[\"amount\"], df[\"price\"], label='цены')\n",
    "plt.plot(x_new, exp_regression(x_new), label='Линия регрессии')\n",
    "plt.ylim(top=df[\"price\"].max()+0.1, bottom=df[\"price\"].min()-0.1)\n",
    "plt.xlabel('Количество продаж')\n",
    "plt.ylabel('Цены')\n",
    "plt.legend()\n",
    "plt.show()\n"
   ],
   "metadata": {
    "collapsed": false,
    "ExecuteTime": {
     "end_time": "2024-02-12T19:57:09.153160800Z",
     "start_time": "2024-02-12T19:57:08.879162300Z"
    }
   }
  },
  {
   "cell_type": "markdown",
   "source": [
    "При такой регрессии можно сделать те же выводы, что и в предыдущей\n",
    "Только теперь график также показывает, что постепенно влияние цены на количество продаж вырастает\n",
    "(т. е. со временем при приближении к нулю количество продаж уйдет в бесконечность)\n",
    "Разумеется, такого быть не может, и регрессионную модель навряд ли можно применить для\n",
    "значений, сильно отличающихся от выборки\n",
    "Заключил я это из того, что график постепенно стремиться к прямой $y = 0$\n",
    "Это можно лучше увидеть на меньшем масштабе:"
   ],
   "metadata": {
    "collapsed": false
   }
  },
  {
   "cell_type": "code",
   "execution_count": 248,
   "outputs": [
    {
     "data": {
      "text/plain": "<Figure size 640x480 with 1 Axes>",
      "image/png": "[encoded data removed]"
     },
     "metadata": {},
     "output_type": "display_data"
    }
   ],
   "source": [
    "x_new = np.arange(0, df[\"amount\"].max() + 800, 1)  # Используем максимальное значение из данных для x_new\n",
    "plt.scatter(df[\"amount\"], df[\"price\"], label='цены')\n",
    "plt.plot(x_new, exp_regression(x_new), label='Линия регрессии')\n",
    "plt.ylim(top=df[\"price\"].max()+0.1, bottom=df[\"price\"].min()-3)\n",
    "plt.xlabel('Количество продаж')\n",
    "plt.ylabel('Цены')\n",
    "plt.legend()\n",
    "plt.show()\n"
   ],
   "metadata": {
    "collapsed": false,
    "ExecuteTime": {
     "end_time": "2024-02-12T19:57:09.247921800Z",
     "start_time": "2024-02-12T19:57:09.043158400Z"
    }
   }
  }
 ],
 "metadata": {
  "kernelspec": {
   "display_name": "Python 3",
   "language": "python",
   "name": "python3"
  },
  "language_info": {
   "codemirror_mode": {
    "name": "ipython",
    "version": 2
   },
   "file_extension": ".py",
   "mimetype": "text/x-python",
   "name": "python",
   "nbconvert_exporter": "python",
   "pygments_lexer": "ipython2",
   "version": "2.7.6"
  }
 },
 "nbformat": 4,
 "nbformat_minor": 5
}
