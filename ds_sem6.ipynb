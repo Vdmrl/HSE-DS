{
 "cells": [
  {
   "cell_type": "markdown",
   "source": [
    "## Лузина Владимира РИС22-2\n",
    "# Динамические регрессионные модели"
   ],
   "metadata": {
    "collapsed": false
   },
   "id": "8b438210c6cf219a"
  },
  {
   "cell_type": "markdown",
   "source": [
    "Для учета инертности системы во времени используют аппарат передаточных функций или\n",
    "дифференциальных уравнений. В данной работе используя статистические данные необходимо\n",
    "оценить изменение объема продаж при изменении цены с помощью звеньев запаздывания первого\n",
    "порядка и звена запаздывания второго порядка.\n",
    "Такое предположение будет означать, что изменение цены происходит как реакция на изменение объема\n",
    "продаж по некоторому алгоритму\n",
    "\n",
    "Дополнительно необходимо рассмотреть автокорреляцию выборки с разными вариантами смещения\n",
    "у всех лагов по сравнению с базовой выборкой\n",
    "необходимо рассмотреть корреляцию, детерминацию и проверить по критерию фишера\n",
    "После чего необходимо построить регрессионную модель значимого по критерию фишера ряда\n",
    "и определить его параметр детерминации."
   ],
   "metadata": {
    "collapsed": false
   },
   "id": "8e9bef38c453470"
  },
  {
   "cell_type": "markdown",
   "source": [
    "Я не стал удалять выбросы, так как это не связано с текущей задачей и этого не было на семинаре,\n",
    "но почти наверняка их нужно будет что-то сделать с ними в реальной задаче (не обязательно удалить)"
   ],
   "metadata": {
    "collapsed": false
   },
   "id": "1a1172817ec61e7d"
  },
  {
   "cell_type": "code",
   "execution_count": 241,
   "outputs": [],
   "source": [
    "import pandas as pd\n",
    "import numpy as np\n",
    "import matplotlib.pyplot as plt\n",
    "from sklearn.metrics import r2_score\n",
    "import scipy"
   ],
   "metadata": {
    "collapsed": false,
    "ExecuteTime": {
     "end_time": "2024-02-21T11:25:54.531682700Z",
     "start_time": "2024-02-21T11:25:54.224129800Z"
    }
   },
   "id": "6a554d4f774558d9"
  },
  {
   "cell_type": "markdown",
   "source": [
    "Исходные данные взяты также из варианта 25"
   ],
   "metadata": {
    "collapsed": false
   },
   "id": "183099147bcafc38"
  },
  {
   "cell_type": "code",
   "execution_count": 242,
   "outputs": [
    {
     "data": {
      "text/plain": "    day  price  amount\n0     1   4.10      20\n1     2   4.10      34\n2     3   4.37      16\n3     4   4.37      16\n4     5   4.37      25\n5     6   4.37      47\n6     7   4.37      41\n7     8   4.55      26\n8     9   4.61      29\n9    10   4.39      17\n10   11   4.33      75\n11   12   4.31      42\n12   13   4.49      46\n13   14   4.49      58\n14   15   4.53       7\n15   16   4.57      18\n16   17   4.38      27\n17   18   4.38      88\n18   19   4.38      61\n19   20   4.42      31",
      "text/html": "<div>\n<style scoped>\n    .dataframe tbody tr th:only-of-type {\n        vertical-align: middle;\n    }\n\n    .dataframe tbody tr th {\n        vertical-align: top;\n    }\n\n    .dataframe thead th {\n        text-align: right;\n    }\n</style>\n<table border=\"1\" class=\"dataframe\">\n  <thead>\n    <tr style=\"text-align: right;\">\n      <th></th>\n      <th>day</th>\n      <th>price</th>\n      <th>amount</th>\n    </tr>\n  </thead>\n  <tbody>\n    <tr>\n      <th>0</th>\n      <td>1</td>\n      <td>4.10</td>\n      <td>20</td>\n    </tr>\n    <tr>\n      <th>1</th>\n      <td>2</td>\n      <td>4.10</td>\n      <td>34</td>\n    </tr>\n    <tr>\n      <th>2</th>\n      <td>3</td>\n      <td>4.37</td>\n      <td>16</td>\n    </tr>\n    <tr>\n      <th>3</th>\n      <td>4</td>\n      <td>4.37</td>\n      <td>16</td>\n    </tr>\n    <tr>\n      <th>4</th>\n      <td>5</td>\n      <td>4.37</td>\n      <td>25</td>\n    </tr>\n    <tr>\n      <th>5</th>\n      <td>6</td>\n      <td>4.37</td>\n      <td>47</td>\n    </tr>\n    <tr>\n      <th>6</th>\n      <td>7</td>\n      <td>4.37</td>\n      <td>41</td>\n    </tr>\n    <tr>\n      <th>7</th>\n      <td>8</td>\n      <td>4.55</td>\n      <td>26</td>\n    </tr>\n    <tr>\n      <th>8</th>\n      <td>9</td>\n      <td>4.61</td>\n      <td>29</td>\n    </tr>\n    <tr>\n      <th>9</th>\n      <td>10</td>\n      <td>4.39</td>\n      <td>17</td>\n    </tr>\n    <tr>\n      <th>10</th>\n      <td>11</td>\n      <td>4.33</td>\n      <td>75</td>\n    </tr>\n    <tr>\n      <th>11</th>\n      <td>12</td>\n      <td>4.31</td>\n      <td>42</td>\n    </tr>\n    <tr>\n      <th>12</th>\n      <td>13</td>\n      <td>4.49</td>\n      <td>46</td>\n    </tr>\n    <tr>\n      <th>13</th>\n      <td>14</td>\n      <td>4.49</td>\n      <td>58</td>\n    </tr>\n    <tr>\n      <th>14</th>\n      <td>15</td>\n      <td>4.53</td>\n      <td>7</td>\n    </tr>\n    <tr>\n      <th>15</th>\n      <td>16</td>\n      <td>4.57</td>\n      <td>18</td>\n    </tr>\n    <tr>\n      <th>16</th>\n      <td>17</td>\n      <td>4.38</td>\n      <td>27</td>\n    </tr>\n    <tr>\n      <th>17</th>\n      <td>18</td>\n      <td>4.38</td>\n      <td>88</td>\n    </tr>\n    <tr>\n      <th>18</th>\n      <td>19</td>\n      <td>4.38</td>\n      <td>61</td>\n    </tr>\n    <tr>\n      <th>19</th>\n      <td>20</td>\n      <td>4.42</td>\n      <td>31</td>\n    </tr>\n  </tbody>\n</table>\n</div>"
     },
     "execution_count": 242,
     "metadata": {},
     "output_type": "execute_result"
    }
   ],
   "source": [
    "#df = pd.DataFrame({'day': [i for i in range(1, 21)],  # дни с 1 по 20\n",
    "#                   'price': [1.81, 1.81, 3.78, 3.78, 3.78, 3.78, 3.78, 3.89, 3.93, 3.28, 3.23, 3.21, 3.35, 3.35, 3.37,\n",
    "#                             3.40, 3.25, 3.25, 3.25, 3.29],  # стоимость\n",
    "#                   'amount': [28, 21, 3, 0, 27, 14, 10, 2, 2, 8, 15, 10, 17, 9, 2, 33, 1, 12, 10, 4]})  # число продаж\n",
    "\n",
    "df = pd.DataFrame({'day': [i for i in range(1, 21)],  # дни с 1 по 20\n",
    "                  'price': [4.1, 4.1, 4.37, 4.37, 4.37, 4.37, 4.37, 4.55, 4.61, 4.39, 4.33, 4.31, 4.49, 4.49, 4.53,\n",
    "                            4.57, 4.38, 4.38, 4.38, 4.42],  # стоимость\n",
    "                  'amount': [20, 34, 16, 16, 25, 47, 41, 26, 29, 17, 75, 42, 46, 58, 7, 18, 27, 88, 61,31]})  # число продаж\n",
    "df"
   ],
   "metadata": {
    "collapsed": false,
    "ExecuteTime": {
     "end_time": "2024-02-21T11:25:54.705684Z",
     "start_time": "2024-02-21T11:25:54.238641900Z"
    }
   },
   "id": "5ecd668b006d11a4"
  },
  {
   "cell_type": "markdown",
   "source": [
    "### Линейная многопараметрическая модель"
   ],
   "metadata": {
    "collapsed": false
   },
   "id": "dad3a537eca2f2ed"
  },
  {
   "cell_type": "markdown",
   "source": [
    "Для учета инертности системы во времени используют аппарат передаточных функций или дифференциальных уравнений. В данной работе используя статистические данные необходимо оценить изменение объема продаж при изменении цены с помощью звеньев запаздывания первого порядка\n",
    "Объём продаж зависит от накопленной цены "
   ],
   "metadata": {
    "collapsed": false
   },
   "id": "b37882e8149dbc0b"
  },
  {
   "cell_type": "markdown",
   "source": [
    "Построим матрицу A, включив в неё накопленные суммы\n",
    "S(x) - накопленный объём цен\n",
    "S(y) - накопленное количество продаж"
   ],
   "metadata": {
    "collapsed": false
   },
   "id": "131fdc37dd885151"
  },
  {
   "cell_type": "code",
   "execution_count": 243,
   "outputs": [
    {
     "data": {
      "text/plain": "     S(x)  S(y)\n0    4.10    20\n1    8.20    54\n2   12.57    70\n3   16.94    86\n4   21.31   111\n5   25.68   158\n6   30.05   199\n7   34.60   225\n8   39.21   254\n9   43.60   271\n10  47.93   346\n11  52.24   388\n12  56.73   434\n13  61.22   492\n14  65.75   499\n15  70.32   517\n16  74.70   544\n17  79.08   632\n18  83.46   693\n19  87.88   724",
      "text/html": "<div>\n<style scoped>\n    .dataframe tbody tr th:only-of-type {\n        vertical-align: middle;\n    }\n\n    .dataframe tbody tr th {\n        vertical-align: top;\n    }\n\n    .dataframe thead th {\n        text-align: right;\n    }\n</style>\n<table border=\"1\" class=\"dataframe\">\n  <thead>\n    <tr style=\"text-align: right;\">\n      <th></th>\n      <th>S(x)</th>\n      <th>S(y)</th>\n    </tr>\n  </thead>\n  <tbody>\n    <tr>\n      <th>0</th>\n      <td>4.10</td>\n      <td>20</td>\n    </tr>\n    <tr>\n      <th>1</th>\n      <td>8.20</td>\n      <td>54</td>\n    </tr>\n    <tr>\n      <th>2</th>\n      <td>12.57</td>\n      <td>70</td>\n    </tr>\n    <tr>\n      <th>3</th>\n      <td>16.94</td>\n      <td>86</td>\n    </tr>\n    <tr>\n      <th>4</th>\n      <td>21.31</td>\n      <td>111</td>\n    </tr>\n    <tr>\n      <th>5</th>\n      <td>25.68</td>\n      <td>158</td>\n    </tr>\n    <tr>\n      <th>6</th>\n      <td>30.05</td>\n      <td>199</td>\n    </tr>\n    <tr>\n      <th>7</th>\n      <td>34.60</td>\n      <td>225</td>\n    </tr>\n    <tr>\n      <th>8</th>\n      <td>39.21</td>\n      <td>254</td>\n    </tr>\n    <tr>\n      <th>9</th>\n      <td>43.60</td>\n      <td>271</td>\n    </tr>\n    <tr>\n      <th>10</th>\n      <td>47.93</td>\n      <td>346</td>\n    </tr>\n    <tr>\n      <th>11</th>\n      <td>52.24</td>\n      <td>388</td>\n    </tr>\n    <tr>\n      <th>12</th>\n      <td>56.73</td>\n      <td>434</td>\n    </tr>\n    <tr>\n      <th>13</th>\n      <td>61.22</td>\n      <td>492</td>\n    </tr>\n    <tr>\n      <th>14</th>\n      <td>65.75</td>\n      <td>499</td>\n    </tr>\n    <tr>\n      <th>15</th>\n      <td>70.32</td>\n      <td>517</td>\n    </tr>\n    <tr>\n      <th>16</th>\n      <td>74.70</td>\n      <td>544</td>\n    </tr>\n    <tr>\n      <th>17</th>\n      <td>79.08</td>\n      <td>632</td>\n    </tr>\n    <tr>\n      <th>18</th>\n      <td>83.46</td>\n      <td>693</td>\n    </tr>\n    <tr>\n      <th>19</th>\n      <td>87.88</td>\n      <td>724</td>\n    </tr>\n  </tbody>\n</table>\n</div>"
     },
     "execution_count": 243,
     "metadata": {},
     "output_type": "execute_result"
    }
   ],
   "source": [
    "sm = 0\n",
    "ls_pr = []\n",
    "for i in range(len(df)):\n",
    "    sm += df[\"price\"][i]\n",
    "    ls_pr.append(round(sm,2))\n",
    "\n",
    "sm = 0\n",
    "ls_am = []\n",
    "for i in range(len(df)):\n",
    "    sm += df[\"amount\"][i]\n",
    "    ls_am.append(round(sm,2))\n",
    "A = pd.DataFrame({\"S(x)\": ls_pr, \"S(y)\": ls_am})\n",
    "\n",
    "A"
   ],
   "metadata": {
    "collapsed": false,
    "ExecuteTime": {
     "end_time": "2024-02-21T11:25:54.724027700Z",
     "start_time": "2024-02-21T11:25:54.273475700Z"
    }
   },
   "id": "ce70540273156197"
  },
  {
   "cell_type": "code",
   "execution_count": 244,
   "outputs": [],
   "source": [
    "y = df[\"amount\"]"
   ],
   "metadata": {
    "collapsed": false,
    "ExecuteTime": {
     "end_time": "2024-02-21T11:25:54.726049100Z",
     "start_time": "2024-02-21T11:25:54.283044Z"
    }
   },
   "id": "e6ae71a180e6cf55"
  },
  {
   "cell_type": "markdown",
   "source": [
    "Теперь воспользуемся формулой для расчёта коэффициентов регрессионной модели"
   ],
   "metadata": {
    "collapsed": false
   },
   "id": "6abbe0fc8bd03aba"
  },
  {
   "cell_type": "code",
   "execution_count": 245,
   "outputs": [
    {
     "data": {
      "text/plain": "0    1.320302\n1   -0.085044\ndtype: float64"
     },
     "execution_count": 245,
     "metadata": {},
     "output_type": "execute_result"
    }
   ],
   "source": [
    "C = (np.linalg.inv(A.T @ A) @ A.T) @ y\n",
    "C"
   ],
   "metadata": {
    "collapsed": false,
    "ExecuteTime": {
     "end_time": "2024-02-21T11:25:54.726049100Z",
     "start_time": "2024-02-21T11:25:54.287043100Z"
    }
   },
   "id": "6c4ebc91b877fd36"
  },
  {
   "cell_type": "markdown",
   "source": [
    "Каждая единица накопленной цены увеличивает объём продаж на 1.32\n",
    "Каждая единица накопленной объёма продаж уменьшает объём продаж на 0.09"
   ],
   "metadata": {
    "collapsed": false
   },
   "id": "66a2999cc711b305"
  },
  {
   "cell_type": "code",
   "execution_count": 246,
   "outputs": [],
   "source": [
    "def pred_first(s_x: float, s_y: float) -> float:\n",
    "    return C[0]*s_x + C[1]*s_y"
   ],
   "metadata": {
    "collapsed": false,
    "ExecuteTime": {
     "end_time": "2024-02-21T11:25:54.738941600Z",
     "start_time": "2024-02-21T11:25:54.300116Z"
    }
   },
   "id": "8d8a0cfc7bd0cc2f"
  },
  {
   "cell_type": "markdown",
   "source": [
    "Построим диаграмму рассеяния и линии регрессии, полученной с\n",
    "использованием передаточного звена первого порядка"
   ],
   "metadata": {
    "collapsed": false
   }
  },
  {
   "cell_type": "code",
   "execution_count": 247,
   "outputs": [
    {
     "data": {
      "text/plain": "<Figure size 640x480 with 1 Axes>",
      "image/png": "[encoded data removed]"
     },
     "metadata": {},
     "output_type": "display_data"
    }
   ],
   "source": [
    "plt.scatter(df[\"day\"], df[\"amount\"], label='количество продаж')\n",
    "plt.plot(df[\"day\"], pred_first(A[\"S(x)\"], A[\"S(y)\"]), label='Линия регрессии')\n",
    "plt.xlabel('день')\n",
    "plt.ylabel('количество продаж')\n",
    "plt.legend()\n",
    "plt.show()"
   ],
   "metadata": {
    "collapsed": false,
    "ExecuteTime": {
     "end_time": "2024-02-21T11:25:54.778716900Z",
     "start_time": "2024-02-21T11:25:54.313123200Z"
    }
   }
  },
  {
   "cell_type": "markdown",
   "source": [
    "### Сумма накопленных сум"
   ],
   "metadata": {
    "collapsed": false
   },
   "id": "94e1159fc4cf5cb8"
  },
  {
   "cell_type": "markdown",
   "source": [
    "Построим матрицу A, включив в неё накопленные суммы\n",
    "S(S(x)) - накопленная сумма сум цен\n",
    "S(S(y)) - накопленная сумма сум объёма продаж (двойное суммирование)"
   ],
   "metadata": {
    "collapsed": false
   },
   "id": "bf28918aeeefc1b5"
  },
  {
   "cell_type": "code",
   "execution_count": 248,
   "outputs": [
    {
     "data": {
      "text/plain": "    S(S(x))  S(y)  S(S(y))\n0      4.10    20       20\n1     12.30    54       74\n2     24.87    70      144\n3     41.81    86      230\n4     63.12   111      341\n5     88.80   158      499\n6    118.85   199      698\n7    153.45   225      923\n8    192.66   254     1177\n9    236.26   271     1448\n10   284.19   346     1794\n11   336.43   388     2182\n12   393.16   434     2616\n13   454.38   492     3108\n14   520.13   499     3607\n15   590.45   517     4124\n16   665.15   544     4668\n17   744.23   632     5300\n18   827.69   693     5993\n19   915.57   724     6717",
      "text/html": "<div>\n<style scoped>\n    .dataframe tbody tr th:only-of-type {\n        vertical-align: middle;\n    }\n\n    .dataframe tbody tr th {\n        vertical-align: top;\n    }\n\n    .dataframe thead th {\n        text-align: right;\n    }\n</style>\n<table border=\"1\" class=\"dataframe\">\n  <thead>\n    <tr style=\"text-align: right;\">\n      <th></th>\n      <th>S(S(x))</th>\n      <th>S(y)</th>\n      <th>S(S(y))</th>\n    </tr>\n  </thead>\n  <tbody>\n    <tr>\n      <th>0</th>\n      <td>4.10</td>\n      <td>20</td>\n      <td>20</td>\n    </tr>\n    <tr>\n      <th>1</th>\n      <td>12.30</td>\n      <td>54</td>\n      <td>74</td>\n    </tr>\n    <tr>\n      <th>2</th>\n      <td>24.87</td>\n      <td>70</td>\n      <td>144</td>\n    </tr>\n    <tr>\n      <th>3</th>\n      <td>41.81</td>\n      <td>86</td>\n      <td>230</td>\n    </tr>\n    <tr>\n      <th>4</th>\n      <td>63.12</td>\n      <td>111</td>\n      <td>341</td>\n    </tr>\n    <tr>\n      <th>5</th>\n      <td>88.80</td>\n      <td>158</td>\n      <td>499</td>\n    </tr>\n    <tr>\n      <th>6</th>\n      <td>118.85</td>\n      <td>199</td>\n      <td>698</td>\n    </tr>\n    <tr>\n      <th>7</th>\n      <td>153.45</td>\n      <td>225</td>\n      <td>923</td>\n    </tr>\n    <tr>\n      <th>8</th>\n      <td>192.66</td>\n      <td>254</td>\n      <td>1177</td>\n    </tr>\n    <tr>\n      <th>9</th>\n      <td>236.26</td>\n      <td>271</td>\n      <td>1448</td>\n    </tr>\n    <tr>\n      <th>10</th>\n      <td>284.19</td>\n      <td>346</td>\n      <td>1794</td>\n    </tr>\n    <tr>\n      <th>11</th>\n      <td>336.43</td>\n      <td>388</td>\n      <td>2182</td>\n    </tr>\n    <tr>\n      <th>12</th>\n      <td>393.16</td>\n      <td>434</td>\n      <td>2616</td>\n    </tr>\n    <tr>\n      <th>13</th>\n      <td>454.38</td>\n      <td>492</td>\n      <td>3108</td>\n    </tr>\n    <tr>\n      <th>14</th>\n      <td>520.13</td>\n      <td>499</td>\n      <td>3607</td>\n    </tr>\n    <tr>\n      <th>15</th>\n      <td>590.45</td>\n      <td>517</td>\n      <td>4124</td>\n    </tr>\n    <tr>\n      <th>16</th>\n      <td>665.15</td>\n      <td>544</td>\n      <td>4668</td>\n    </tr>\n    <tr>\n      <th>17</th>\n      <td>744.23</td>\n      <td>632</td>\n      <td>5300</td>\n    </tr>\n    <tr>\n      <th>18</th>\n      <td>827.69</td>\n      <td>693</td>\n      <td>5993</td>\n    </tr>\n    <tr>\n      <th>19</th>\n      <td>915.57</td>\n      <td>724</td>\n      <td>6717</td>\n    </tr>\n  </tbody>\n</table>\n</div>"
     },
     "execution_count": 248,
     "metadata": {},
     "output_type": "execute_result"
    }
   ],
   "source": [
    "sm = 0\n",
    "ls_pr_pr = []\n",
    "for i in ls_pr:\n",
    "    sm += i\n",
    "    ls_pr_pr.append(round(sm,2))\n",
    "\n",
    "sm = 0\n",
    "ls_am_am = []\n",
    "for i in ls_am:\n",
    "    sm += i\n",
    "    ls_am_am.append(round(sm,2))\n",
    "    \n",
    "A = pd.DataFrame({\"S(S(x))\": ls_pr_pr, \"S(y)\": ls_am,\"S(S(y))\": ls_am_am})\n",
    "\n",
    "A"
   ],
   "metadata": {
    "collapsed": false,
    "ExecuteTime": {
     "end_time": "2024-02-21T11:25:54.787742300Z",
     "start_time": "2024-02-21T11:25:54.496223700Z"
    }
   },
   "id": "32390c86ef3de643"
  },
  {
   "cell_type": "code",
   "execution_count": 249,
   "outputs": [],
   "source": [
    "y = df[\"amount\"]"
   ],
   "metadata": {
    "collapsed": false,
    "ExecuteTime": {
     "end_time": "2024-02-21T11:25:54.787742300Z",
     "start_time": "2024-02-21T11:25:54.505221700Z"
    }
   },
   "id": "4a9a41ade047e449"
  },
  {
   "cell_type": "markdown",
   "source": [
    "Теперь воспользуемся формулой для расчёта коэффициентов регрессионной модели"
   ],
   "metadata": {
    "collapsed": false
   },
   "id": "30edbd94398c2b44"
  },
  {
   "cell_type": "code",
   "execution_count": 250,
   "outputs": [
    {
     "data": {
      "text/plain": "0   -0.978584\n1    0.458133\n2    0.090870\ndtype: float64"
     },
     "execution_count": 250,
     "metadata": {},
     "output_type": "execute_result"
    }
   ],
   "source": [
    "C = (np.linalg.inv(A.T @ A) @ A.T) @ y\n",
    "C"
   ],
   "metadata": {
    "collapsed": false,
    "ExecuteTime": {
     "end_time": "2024-02-21T11:25:54.787742300Z",
     "start_time": "2024-02-21T11:25:54.510303600Z"
    }
   },
   "id": "ab5e102f64ebc4bc"
  },
  {
   "cell_type": "markdown",
   "source": [
    "Единица накопленного прироста цены приводит к уменьшению объёма продаж на единицу\n",
    "Накопленная величина объёма продаж приводит к увеличению объёма продаж на 0.46 \n",
    "Накопленный прирост объёма продаж увеличивает объём продаж на 0.09"
   ],
   "metadata": {
    "collapsed": false
   },
   "id": "6f43e9010a2f4981"
  },
  {
   "cell_type": "code",
   "execution_count": 251,
   "outputs": [],
   "source": [
    "def pred_second(s_s_x: float, s_y: float, s_s_y: float) -> float:\n",
    "    return C[0]*s_s_x + C[1]*s_y + C[2] * s_s_y"
   ],
   "metadata": {
    "collapsed": false,
    "ExecuteTime": {
     "end_time": "2024-02-21T11:25:54.788745400Z",
     "start_time": "2024-02-21T11:25:54.516866800Z"
    }
   },
   "id": "9859428e75ff6ac6"
  },
  {
   "cell_type": "markdown",
   "source": [
    "Диаграмма рассеяния и линии регрессии, полученной с\n",
    "использованием передаточного звена второго порядка"
   ],
   "metadata": {
    "collapsed": false
   },
   "id": "880d3b8c1bea6a5a"
  },
  {
   "cell_type": "code",
   "execution_count": 252,
   "outputs": [
    {
     "data": {
      "text/plain": "<Figure size 640x480 with 1 Axes>",
      "image/png": "[encoded data removed]"
     },
     "metadata": {},
     "output_type": "display_data"
    }
   ],
   "source": [
    "plt.scatter(df[\"day\"], df[\"amount\"], label='количество продаж')\n",
    "plt.plot(df[\"day\"], pred_second(A[\"S(S(x))\"], A[\"S(y)\"], A[\"S(S(y))\"]), label='Линия регрессии')\n",
    "plt.xlabel('день')\n",
    "plt.ylabel('количество продаж')\n",
    "plt.legend()\n",
    "plt.show()"
   ],
   "metadata": {
    "collapsed": false,
    "ExecuteTime": {
     "end_time": "2024-02-21T11:25:54.790718600Z",
     "start_time": "2024-02-21T11:25:54.531682700Z"
    }
   }
  },
  {
   "cell_type": "markdown",
   "source": [
    "### Автокорреляция\n",
    "Для этого нужно рассмотреть разные варианты смещения\n",
    "(от 1 до выбранного значения) временной лаг\n",
    "чем больше выбранное значение, тем меньше вариантность найти корреляцию\n",
    "Корреляция вычисляется между разными уровнями временного ряда\n",
    "Сначала необходимо найти корреляция, затем детерминация и критерии фишера\n",
    "\n",
    "\n",
    "Дано количество потребляемой энергии за 2 года (24 месяца) на производстве\n",
    "в данные заложена информация, что каждые 5 месяцев производство расширяется\n",
    "(корреляция между 0 и 5 лагом)"
   ],
   "metadata": {
    "collapsed": false
   },
   "id": "53422a47afd1734d"
  },
  {
   "cell_type": "code",
   "execution_count": 253,
   "outputs": [],
   "source": [
    "#df = pd.Series([6,8,9,2,10,14,14,8,14,17,16,12,19,23,22,14,24,28,24,17,28,33,30])\n",
    "df = pd.Series([8,6,9,7,8,14,13,15,12,13,19,19,20,19,18,24,25,25,26,26,31,30,29,30])"
   ],
   "metadata": {
    "collapsed": false,
    "ExecuteTime": {
     "end_time": "2024-02-21T11:25:54.790718600Z",
     "start_time": "2024-02-21T11:25:54.717026700Z"
    }
   },
   "id": "f2ffeb4441e4bbfa"
  },
  {
   "cell_type": "markdown",
   "source": [
    "Рассмотрим смещения от 1 до 6 и добавим в датафрейм их корреляции и детерминации\n",
    "Также по критерию фишера найдём значимые корреляции\n",
    "a - уровень значимости, возьмём за 0.05"
   ],
   "metadata": {
    "collapsed": false
   },
   "id": "8a01064bc520dd93"
  },
  {
   "cell_type": "markdown",
   "source": [],
   "metadata": {
    "collapsed": false
   },
   "id": "fafc6086ab17674c"
  },
  {
   "cell_type": "code",
   "execution_count": 254,
   "outputs": [
    {
     "data": {
      "text/plain": "       corr    determ          op        crit  meaning\n0  0.944175  0.891466  172.487418  248.825572    False\n1  0.916790  0.840504  105.394610  248.579059    False\n2  0.909785  0.827708   91.277924  248.309371    False\n3  0.915950  0.838964   93.776500  248.013082    False\n4  0.985601  0.971410  577.614760  247.686054     True\n5  0.908223  0.824869   75.360417  247.323244    False",
      "text/html": "<div>\n<style scoped>\n    .dataframe tbody tr th:only-of-type {\n        vertical-align: middle;\n    }\n\n    .dataframe tbody tr th {\n        vertical-align: top;\n    }\n\n    .dataframe thead th {\n        text-align: right;\n    }\n</style>\n<table border=\"1\" class=\"dataframe\">\n  <thead>\n    <tr style=\"text-align: right;\">\n      <th></th>\n      <th>corr</th>\n      <th>determ</th>\n      <th>op</th>\n      <th>crit</th>\n      <th>meaning</th>\n    </tr>\n  </thead>\n  <tbody>\n    <tr>\n      <th>0</th>\n      <td>0.944175</td>\n      <td>0.891466</td>\n      <td>172.487418</td>\n      <td>248.825572</td>\n      <td>False</td>\n    </tr>\n    <tr>\n      <th>1</th>\n      <td>0.916790</td>\n      <td>0.840504</td>\n      <td>105.394610</td>\n      <td>248.579059</td>\n      <td>False</td>\n    </tr>\n    <tr>\n      <th>2</th>\n      <td>0.909785</td>\n      <td>0.827708</td>\n      <td>91.277924</td>\n      <td>248.309371</td>\n      <td>False</td>\n    </tr>\n    <tr>\n      <th>3</th>\n      <td>0.915950</td>\n      <td>0.838964</td>\n      <td>93.776500</td>\n      <td>248.013082</td>\n      <td>False</td>\n    </tr>\n    <tr>\n      <th>4</th>\n      <td>0.985601</td>\n      <td>0.971410</td>\n      <td>577.614760</td>\n      <td>247.686054</td>\n      <td>True</td>\n    </tr>\n    <tr>\n      <th>5</th>\n      <td>0.908223</td>\n      <td>0.824869</td>\n      <td>75.360417</td>\n      <td>247.323244</td>\n      <td>False</td>\n    </tr>\n  </tbody>\n</table>\n</div>"
     },
     "execution_count": 254,
     "metadata": {},
     "output_type": "execute_result"
    }
   ],
   "source": [
    "a = 0.05\n",
    "# автокорреляция с лагом от 1 до 6 включительно\n",
    "correlations = []\n",
    "for i in range(1,6+1):\n",
    "    correlations.append(df.autocorr(lag=i))\n",
    "\n",
    "# детерминации с лагом от 1 до 6 включительно\n",
    "determinations = []\n",
    "for i in correlations:\n",
    "    determinations.append(i**2)\n",
    "\n",
    "atr = pd.DataFrame({\"corr\": correlations, \"determ\": determinations})\n",
    "\n",
    "# Критерий фишера\n",
    "# оп\n",
    "atr = atr.copy()\n",
    "op = []\n",
    "for i in range(6):\n",
    "    d = atr[\"determ\"][i]\n",
    "    n = len(df) - i - 1\n",
    "    m = 1\n",
    "    op.append(d/(1-d) * ((n - m - 1) / m))\n",
    "\n",
    "# критическое\n",
    "crit = []\n",
    "for i in range(6):\n",
    "    n = len(df) - i - 1\n",
    "    m = 1\n",
    "    crit.append(scipy.stats.f.ppf(q=1-a, dfn = n, dfd = m))\n",
    "atr[\"op\"] = op\n",
    "atr[\"crit\"] = crit\n",
    "\n",
    "bool_meaning = [] # True - значима, False - нет\n",
    "for i in range(len(atr)):\n",
    "    bool_meaning.append(bool(atr[\"op\"][i] > atr[\"crit\"][i]))\n",
    "atr[\"meaning\"] = bool_meaning\n",
    "atr"
   ],
   "metadata": {
    "collapsed": false,
    "ExecuteTime": {
     "end_time": "2024-02-21T11:25:54.790718600Z",
     "start_time": "2024-02-21T11:25:54.724027700Z"
    }
   },
   "id": "dec2f19a3f6a4c62"
  },
  {
   "cell_type": "markdown",
   "source": [
    "Итого, можно сделать вывод, что смещение (lag) на 5 значения значимо относительно начальных данных\n",
    "То есть через каждые 5 месяцев происходит скачок в потреблении электроэнергии"
   ],
   "metadata": {
    "collapsed": false
   },
   "id": "7c97b00f659ea289"
  },
  {
   "cell_type": "markdown",
   "source": [
    "Найдём коэффициенты этой зависимости\n",
    "$X_{I+5} = c_1 + c_2 * x_i$"
   ],
   "metadata": {
    "collapsed": false
   },
   "id": "5dc9ce1e54da47b6"
  },
  {
   "cell_type": "code",
   "execution_count": 255,
   "outputs": [],
   "source": [
    "A = pd.DataFrame({\"A\": [1 for i in range(len(df)-5)], \"val\": [i for i in df[:len(df)-5]]})\n",
    "y = pd.DataFrame({\"y\": df[5:]}).reset_index().drop(columns=[\"index\"])"
   ],
   "metadata": {
    "collapsed": false,
    "ExecuteTime": {
     "end_time": "2024-02-21T11:25:54.971780100Z",
     "start_time": "2024-02-21T11:25:54.738941600Z"
    }
   },
   "id": "f271704a25459820"
  },
  {
   "cell_type": "code",
   "execution_count": 256,
   "outputs": [
    {
     "data": {
      "text/plain": "          y\n0  6.325989\n1  0.959354",
      "text/html": "<div>\n<style scoped>\n    .dataframe tbody tr th:only-of-type {\n        vertical-align: middle;\n    }\n\n    .dataframe tbody tr th {\n        vertical-align: top;\n    }\n\n    .dataframe thead th {\n        text-align: right;\n    }\n</style>\n<table border=\"1\" class=\"dataframe\">\n  <thead>\n    <tr style=\"text-align: right;\">\n      <th></th>\n      <th>y</th>\n    </tr>\n  </thead>\n  <tbody>\n    <tr>\n      <th>0</th>\n      <td>6.325989</td>\n    </tr>\n    <tr>\n      <th>1</th>\n      <td>0.959354</td>\n    </tr>\n  </tbody>\n</table>\n</div>"
     },
     "execution_count": 256,
     "metadata": {},
     "output_type": "execute_result"
    }
   ],
   "source": [
    "C = (np.linalg.inv(A.T @ A) @ A.T) @ y\n",
    "C"
   ],
   "metadata": {
    "collapsed": false,
    "ExecuteTime": {
     "end_time": "2024-02-21T11:25:54.991673900Z",
     "start_time": "2024-02-21T11:25:54.746119300Z"
    }
   },
   "id": "579bc3ccea30c45c"
  },
  {
   "cell_type": "markdown",
   "source": [
    "По этим параметрам модели можно сделать вывод, что\n",
    "модель прогнозирует каждые 5 месяцев увеличение среднего\n",
    "потребления электроэнергии на 6.3 условных единиц\n",
    "а потребление на нулевом пятимесячном сроке будет 0.96"
   ],
   "metadata": {
    "collapsed": false
   },
   "id": "792c8f5a9298352"
  },
  {
   "cell_type": "code",
   "execution_count": 260,
   "outputs": [],
   "source": [
    "def regression(day: float) -> float:\n",
    "    return C[\"y\"][0]*(day//6) + C[\"y\"][1]"
   ],
   "metadata": {
    "collapsed": false,
    "ExecuteTime": {
     "end_time": "2024-02-21T11:26:15.651509900Z",
     "start_time": "2024-02-21T11:26:15.639389200Z"
    }
   }
  },
  {
   "cell_type": "code",
   "execution_count": 261,
   "outputs": [
    {
     "data": {
      "text/plain": "<Figure size 640x480 with 1 Axes>",
      "image/png": "[encoded data removed]"
     },
     "metadata": {},
     "output_type": "display_data"
    }
   ],
   "source": [
    "plt.scatter(df.index, df, label='количество продаж')\n",
    "plt.plot(df.index, regression(df), label='Линия регрессии')\n",
    "plt.xlabel('месяц')\n",
    "plt.ylabel('потребление электроэнергии')\n",
    "plt.legend()\n",
    "plt.show()"
   ],
   "metadata": {
    "collapsed": false,
    "ExecuteTime": {
     "end_time": "2024-02-21T11:26:16.340594100Z",
     "start_time": "2024-02-21T11:26:16.185102400Z"
    }
   }
  },
  {
   "cell_type": "markdown",
   "source": [
    "### коэффициент детерминации"
   ],
   "metadata": {
    "collapsed": false
   },
   "id": "f8aab7dd3a516d3f"
  },
  {
   "cell_type": "code",
   "execution_count": 262,
   "outputs": [
    {
     "data": {
      "text/plain": "0.9663333125173584"
     },
     "execution_count": 262,
     "metadata": {},
     "output_type": "execute_result"
    }
   ],
   "source": [
    "coef_determ = r2_score(A[\"val\"], pd.Series([regression(i) for i in A[\"val\"]]))\n",
    "coef_determ"
   ],
   "metadata": {
    "collapsed": false,
    "ExecuteTime": {
     "end_time": "2024-02-21T11:26:19.350701100Z",
     "start_time": "2024-02-21T11:26:19.324000700Z"
    }
   }
  },
  {
   "cell_type": "markdown",
   "source": [
    "Чем ближе значение модели к 1 тем она точнее\n",
    "В нашем же случае прогнозирование очень точное\n",
    "в 97 случаях из 100 будет верное предсказание\n",
    "(квадрат корреляции)"
   ],
   "metadata": {
    "collapsed": false
   }
  }
 ],
 "metadata": {
  "kernelspec": {
   "display_name": "Python 3",
   "language": "python",
   "name": "python3"
  },
  "language_info": {
   "codemirror_mode": {
    "name": "ipython",
    "version": 2
   },
   "file_extension": ".py",
   "mimetype": "text/x-python",
   "name": "python",
   "nbconvert_exporter": "python",
   "pygments_lexer": "ipython2",
   "version": "2.7.6"
  }
 },
 "nbformat": 4,
 "nbformat_minor": 5
}
