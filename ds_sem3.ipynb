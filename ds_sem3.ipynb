{
 "cells": [
  {
   "cell_type": "markdown",
   "source": [
    "## Лузина Владимира РИС22-2\n",
    "# Интерполяция. Заполнение пропущенных значений\n"
   ],
   "metadata": {
    "collapsed": false
   },
   "id": "22f3c798cf903814"
  },
  {
   "cell_type": "code",
   "execution_count": 812,
   "outputs": [],
   "source": [
    "import pandas as pd\n",
    "import numpy as np\n",
    "import matplotlib.pyplot as plt\n",
    "import seaborn as sns\n",
    "from scipy.interpolate import lagrange\n",
    "from numpy.polynomial.polynomial import Polynomial"
   ],
   "metadata": {
    "collapsed": false,
    "ExecuteTime": {
     "end_time": "2024-02-01T18:55:16.502539300Z",
     "start_time": "2024-02-01T18:55:15.600312600Z"
    }
   },
   "id": "92b110a106df01be"
  },
  {
   "cell_type": "markdown",
   "source": [
    "Исходные данные взяты также из варианта 25"
   ],
   "metadata": {
    "collapsed": false
   },
   "id": "f2d80ae2c0a3c159"
  },
  {
   "cell_type": "code",
   "execution_count": 813,
   "outputs": [
    {
     "data": {
      "text/plain": "    day  price  amount\n0     1   1.81      28\n1     2   1.81      21\n2     3   3.78       3\n3     4   3.78       0\n4     5   3.78      27\n5     6   3.78      14\n6     7   3.78      10\n7     8   3.89       2\n8     9   3.93       2\n9    10   3.28       8\n10   11   3.23      15\n11   12   3.21      10\n12   13   3.35      17\n13   14   3.35       9\n14   15   3.37       2\n15   16   3.40      33\n16   17   3.25       1\n17   18   3.25      12\n18   19   3.25      10\n19   20   3.29       4",
      "text/html": "<div>\n<style scoped>\n    .dataframe tbody tr th:only-of-type {\n        vertical-align: middle;\n    }\n\n    .dataframe tbody tr th {\n        vertical-align: top;\n    }\n\n    .dataframe thead th {\n        text-align: right;\n    }\n</style>\n<table border=\"1\" class=\"dataframe\">\n  <thead>\n    <tr style=\"text-align: right;\">\n      <th></th>\n      <th>day</th>\n      <th>price</th>\n      <th>amount</th>\n    </tr>\n  </thead>\n  <tbody>\n    <tr>\n      <th>0</th>\n      <td>1</td>\n      <td>1.81</td>\n      <td>28</td>\n    </tr>\n    <tr>\n      <th>1</th>\n      <td>2</td>\n      <td>1.81</td>\n      <td>21</td>\n    </tr>\n    <tr>\n      <th>2</th>\n      <td>3</td>\n      <td>3.78</td>\n      <td>3</td>\n    </tr>\n    <tr>\n      <th>3</th>\n      <td>4</td>\n      <td>3.78</td>\n      <td>0</td>\n    </tr>\n    <tr>\n      <th>4</th>\n      <td>5</td>\n      <td>3.78</td>\n      <td>27</td>\n    </tr>\n    <tr>\n      <th>5</th>\n      <td>6</td>\n      <td>3.78</td>\n      <td>14</td>\n    </tr>\n    <tr>\n      <th>6</th>\n      <td>7</td>\n      <td>3.78</td>\n      <td>10</td>\n    </tr>\n    <tr>\n      <th>7</th>\n      <td>8</td>\n      <td>3.89</td>\n      <td>2</td>\n    </tr>\n    <tr>\n      <th>8</th>\n      <td>9</td>\n      <td>3.93</td>\n      <td>2</td>\n    </tr>\n    <tr>\n      <th>9</th>\n      <td>10</td>\n      <td>3.28</td>\n      <td>8</td>\n    </tr>\n    <tr>\n      <th>10</th>\n      <td>11</td>\n      <td>3.23</td>\n      <td>15</td>\n    </tr>\n    <tr>\n      <th>11</th>\n      <td>12</td>\n      <td>3.21</td>\n      <td>10</td>\n    </tr>\n    <tr>\n      <th>12</th>\n      <td>13</td>\n      <td>3.35</td>\n      <td>17</td>\n    </tr>\n    <tr>\n      <th>13</th>\n      <td>14</td>\n      <td>3.35</td>\n      <td>9</td>\n    </tr>\n    <tr>\n      <th>14</th>\n      <td>15</td>\n      <td>3.37</td>\n      <td>2</td>\n    </tr>\n    <tr>\n      <th>15</th>\n      <td>16</td>\n      <td>3.40</td>\n      <td>33</td>\n    </tr>\n    <tr>\n      <th>16</th>\n      <td>17</td>\n      <td>3.25</td>\n      <td>1</td>\n    </tr>\n    <tr>\n      <th>17</th>\n      <td>18</td>\n      <td>3.25</td>\n      <td>12</td>\n    </tr>\n    <tr>\n      <th>18</th>\n      <td>19</td>\n      <td>3.25</td>\n      <td>10</td>\n    </tr>\n    <tr>\n      <th>19</th>\n      <td>20</td>\n      <td>3.29</td>\n      <td>4</td>\n    </tr>\n  </tbody>\n</table>\n</div>"
     },
     "execution_count": 813,
     "metadata": {},
     "output_type": "execute_result"
    }
   ],
   "source": [
    "df = pd.DataFrame({'day': [i for i in range(1, 21)],  # дни с 1 по 20\n",
    "                   'price': [1.81, 1.81, 3.78, 3.78, 3.78, 3.78, 3.78, 3.89, 3.93, 3.28, 3.23, 3.21, 3.35, 3.35, 3.37,\n",
    "                             3.40, 3.25, 3.25, 3.25, 3.29],  # стоимость\n",
    "                   'amount': [28, 21, 3, 0, 27, 14, 10, 2, 2, 8, 15, 10, 17, 9, 2, 33, 1, 12, 10, 4]})  # число продаж\n",
    "\n",
    "#df = pd.DataFrame({'day': [i for i in range(1, 21)],  # дни с 1 по 20\n",
    "#                   'price': [4.1, 4.1, 4.37, 4.37, 4.37, 4.37, 4.37, 4.55, 4.61, 4.39, 4.33, 4.31, 4.49, 4.49, 4.53,\n",
    "#                             4.57, 4.38, 4.38, 4.38, 4.42],  # стоимость\n",
    "#                   'amount': [20, 34, 16, 16, 25, 47, 41, 26, 29, 17, 75, 42, 46, 58, 7, 18, 27, 88, 61,\n",
    "#                              31]})  # число продаж\n",
    "df"
   ],
   "metadata": {
    "collapsed": false,
    "ExecuteTime": {
     "end_time": "2024-02-01T18:55:16.990805800Z",
     "start_time": "2024-02-01T18:55:15.622984700Z"
    }
   },
   "id": "6025fd69dfc217cf"
  },
  {
   "cell_type": "markdown",
   "source": [
    "Определение значений внутри исследуемого диапазона значений"
   ],
   "metadata": {
    "collapsed": false
   },
   "id": "98f741e472f02ac"
  },
  {
   "cell_type": "markdown",
   "source": [
    "### 1) постройте интерполяционный многочлен Лагранжа\n",
    "Интерполяционный многочлен Лагранжа - первый метод решения задач интерполяции\n",
    "Определим дни 8 10 и 12 в качестве Экспериментальных\n",
    "(отмечать не буду, так как в ноутбуке нет удобных возможностей для этого, как и особого смысла)\n",
    "\n",
    "Теперь сформируем интерполяционный полином Лагранжа для 3 точек для цен.\n",
    "Коэффициенты для интерполяционного полинома вычислим с помощью соответствующей функции\n",
    "из библиотеки для научных вычислений scipy.interpolate\n",
    "x - день\n",
    "y - цена\n",
    "\n"
   ],
   "metadata": {
    "collapsed": false
   },
   "id": "b296313e4515a70f"
  },
  {
   "cell_type": "code",
   "execution_count": 814,
   "id": "initial_id",
   "metadata": {
    "collapsed": true,
    "ExecuteTime": {
     "end_time": "2024-02-01T18:55:17.086828700Z",
     "start_time": "2024-02-01T18:55:15.660602500Z"
    }
   },
   "outputs": [
    {
     "data": {
      "text/plain": "7      8\n9     10\n11    12\nName: day, dtype: int64"
     },
     "execution_count": 814,
     "metadata": {},
     "output_type": "execute_result"
    }
   ],
   "source": [
    "days = df['day'].iloc[[7, 9, 11]]\n",
    "days"
   ]
  },
  {
   "cell_type": "code",
   "execution_count": 815,
   "outputs": [
    {
     "data": {
      "text/plain": "7     3.89\n9     3.28\n11    3.21\nName: price, dtype: float64"
     },
     "execution_count": 815,
     "metadata": {},
     "output_type": "execute_result"
    }
   ],
   "source": [
    "prices = df['price'].iloc[[7, 9, 11]]\n",
    "prices"
   ],
   "metadata": {
    "collapsed": false,
    "ExecuteTime": {
     "end_time": "2024-02-01T18:55:17.087772300Z",
     "start_time": "2024-02-01T18:55:15.665049400Z"
    }
   }
  },
  {
   "cell_type": "code",
   "execution_count": 816,
   "outputs": [
    {
     "data": {
      "text/plain": "7      2\n9      8\n11    10\nName: amount, dtype: int64"
     },
     "execution_count": 816,
     "metadata": {},
     "output_type": "execute_result"
    }
   ],
   "source": [
    "amounts = df['amount'].iloc[[7, 9, 11]]\n",
    "amounts"
   ],
   "metadata": {
    "collapsed": false,
    "ExecuteTime": {
     "end_time": "2024-02-01T18:55:17.089775Z",
     "start_time": "2024-02-01T18:55:15.672465600Z"
    }
   }
  },
  {
   "cell_type": "code",
   "execution_count": 817,
   "outputs": [
    {
     "data": {
      "text/plain": "poly1d([ 0.0675, -1.52  , 11.73  ])"
     },
     "execution_count": 817,
     "metadata": {},
     "output_type": "execute_result"
    }
   ],
   "source": [
    "polynom_price3 = lagrange(days.array, prices.array)\n",
    "polynom_price3"
   ],
   "metadata": {
    "collapsed": false,
    "ExecuteTime": {
     "end_time": "2024-02-01T18:55:17.090774300Z",
     "start_time": "2024-02-01T18:55:15.679925500Z"
    }
   }
  },
  {
   "cell_type": "markdown",
   "source": [
    "В результате получаем формулу"
   ],
   "metadata": {
    "collapsed": false
   }
  },
  {
   "cell_type": "code",
   "execution_count": 818,
   "outputs": [
    {
     "name": "stdout",
     "output_type": "stream",
     "text": [
      "0.07*x^2 + -1.52*x + 11.73\n"
     ]
    }
   ],
   "source": [
    "print(f\"{round(polynom_price3[2], 2)}*x^2 + {round(polynom_price3[1], 2)}*x + {round(polynom_price3[0], 2)}\")"
   ],
   "metadata": {
    "collapsed": false,
    "ExecuteTime": {
     "end_time": "2024-02-01T18:55:17.090774300Z",
     "start_time": "2024-02-01T18:55:15.686146300Z"
    }
   }
  },
  {
   "cell_type": "markdown",
   "source": [
    "Итоговая формула\n",
    "$L_p = 0.01*x^2 - 0.26*x + 5.99$"
   ],
   "metadata": {
    "collapsed": false
   }
  },
  {
   "cell_type": "markdown",
   "source": [
    "Аналогично для количества продаж"
   ],
   "metadata": {
    "collapsed": false
   }
  },
  {
   "cell_type": "code",
   "execution_count": 819,
   "outputs": [
    {
     "data": {
      "text/plain": "poly1d([ -0.5,  12. , -62. ])"
     },
     "execution_count": 819,
     "metadata": {},
     "output_type": "execute_result"
    }
   ],
   "source": [
    "polynom_amount3 = lagrange(days.array, amounts.array)\n",
    "polynom_amount3"
   ],
   "metadata": {
    "collapsed": false,
    "ExecuteTime": {
     "end_time": "2024-02-01T18:55:17.108800300Z",
     "start_time": "2024-02-01T18:55:15.711267500Z"
    }
   }
  },
  {
   "cell_type": "markdown",
   "source": [
    "И в результате также получаем формулу"
   ],
   "metadata": {
    "collapsed": false
   }
  },
  {
   "cell_type": "code",
   "execution_count": 820,
   "outputs": [
    {
     "name": "stdout",
     "output_type": "stream",
     "text": [
      "-0.5*x^2 + 12.0*x + -62.0\n"
     ]
    }
   ],
   "source": [
    "print(f\"{round(polynom_amount3[2], 2)}*x^2 + {round(polynom_amount3[1], 2)}*x + {round(polynom_amount3[0], 2)}\")"
   ],
   "metadata": {
    "collapsed": false,
    "ExecuteTime": {
     "end_time": "2024-02-01T18:55:17.110773300Z",
     "start_time": "2024-02-01T18:55:15.730502200Z"
    }
   }
  },
  {
   "cell_type": "markdown",
   "source": [
    "Итоговая формула\n",
    "$L_p = 4.25*x^2 - 81*x + 402$"
   ],
   "metadata": {
    "collapsed": false
   }
  },
  {
   "cell_type": "markdown",
   "source": [
    "Теперь с помощью этих формул можно получить моделируемое полиномами значение цены и количества продаж на каждый день\n",
    "Добавим эти данные в dataframe"
   ],
   "metadata": {
    "collapsed": false
   }
  },
  {
   "cell_type": "code",
   "execution_count": 821,
   "outputs": [
    {
     "data": {
      "text/plain": "    day  price  amount  lagrange3_price  lagrange3_amount\n0     1   1.81      28          10.2775               -50\n1     2   1.81      21           8.9600               -40\n2     3   3.78       3           7.7775               -30\n3     4   3.78       0           6.7300               -22\n4     5   3.78      27           5.8175               -14\n5     6   3.78      14           5.0400                -8\n6     7   3.78      10           4.3975                -2\n7     8   3.89       2           3.8900                 2\n8     9   3.93       2           3.5175                 6\n9    10   3.28       8           3.2800                 8\n10   11   3.23      15           3.1775                10\n11   12   3.21      10           3.2100                10\n12   13   3.35      17           3.3775                10\n13   14   3.35       9           3.6800                 8\n14   15   3.37       2           4.1175                 6\n15   16   3.40      33           4.6900                 2\n16   17   3.25       1           5.3975                -2\n17   18   3.25      12           6.2400                -8\n18   19   3.25      10           7.2175               -14\n19   20   3.29       4           8.3300               -22",
      "text/html": "<div>\n<style scoped>\n    .dataframe tbody tr th:only-of-type {\n        vertical-align: middle;\n    }\n\n    .dataframe tbody tr th {\n        vertical-align: top;\n    }\n\n    .dataframe thead th {\n        text-align: right;\n    }\n</style>\n<table border=\"1\" class=\"dataframe\">\n  <thead>\n    <tr style=\"text-align: right;\">\n      <th></th>\n      <th>day</th>\n      <th>price</th>\n      <th>amount</th>\n      <th>lagrange3_price</th>\n      <th>lagrange3_amount</th>\n    </tr>\n  </thead>\n  <tbody>\n    <tr>\n      <th>0</th>\n      <td>1</td>\n      <td>1.81</td>\n      <td>28</td>\n      <td>10.2775</td>\n      <td>-50</td>\n    </tr>\n    <tr>\n      <th>1</th>\n      <td>2</td>\n      <td>1.81</td>\n      <td>21</td>\n      <td>8.9600</td>\n      <td>-40</td>\n    </tr>\n    <tr>\n      <th>2</th>\n      <td>3</td>\n      <td>3.78</td>\n      <td>3</td>\n      <td>7.7775</td>\n      <td>-30</td>\n    </tr>\n    <tr>\n      <th>3</th>\n      <td>4</td>\n      <td>3.78</td>\n      <td>0</td>\n      <td>6.7300</td>\n      <td>-22</td>\n    </tr>\n    <tr>\n      <th>4</th>\n      <td>5</td>\n      <td>3.78</td>\n      <td>27</td>\n      <td>5.8175</td>\n      <td>-14</td>\n    </tr>\n    <tr>\n      <th>5</th>\n      <td>6</td>\n      <td>3.78</td>\n      <td>14</td>\n      <td>5.0400</td>\n      <td>-8</td>\n    </tr>\n    <tr>\n      <th>6</th>\n      <td>7</td>\n      <td>3.78</td>\n      <td>10</td>\n      <td>4.3975</td>\n      <td>-2</td>\n    </tr>\n    <tr>\n      <th>7</th>\n      <td>8</td>\n      <td>3.89</td>\n      <td>2</td>\n      <td>3.8900</td>\n      <td>2</td>\n    </tr>\n    <tr>\n      <th>8</th>\n      <td>9</td>\n      <td>3.93</td>\n      <td>2</td>\n      <td>3.5175</td>\n      <td>6</td>\n    </tr>\n    <tr>\n      <th>9</th>\n      <td>10</td>\n      <td>3.28</td>\n      <td>8</td>\n      <td>3.2800</td>\n      <td>8</td>\n    </tr>\n    <tr>\n      <th>10</th>\n      <td>11</td>\n      <td>3.23</td>\n      <td>15</td>\n      <td>3.1775</td>\n      <td>10</td>\n    </tr>\n    <tr>\n      <th>11</th>\n      <td>12</td>\n      <td>3.21</td>\n      <td>10</td>\n      <td>3.2100</td>\n      <td>10</td>\n    </tr>\n    <tr>\n      <th>12</th>\n      <td>13</td>\n      <td>3.35</td>\n      <td>17</td>\n      <td>3.3775</td>\n      <td>10</td>\n    </tr>\n    <tr>\n      <th>13</th>\n      <td>14</td>\n      <td>3.35</td>\n      <td>9</td>\n      <td>3.6800</td>\n      <td>8</td>\n    </tr>\n    <tr>\n      <th>14</th>\n      <td>15</td>\n      <td>3.37</td>\n      <td>2</td>\n      <td>4.1175</td>\n      <td>6</td>\n    </tr>\n    <tr>\n      <th>15</th>\n      <td>16</td>\n      <td>3.40</td>\n      <td>33</td>\n      <td>4.6900</td>\n      <td>2</td>\n    </tr>\n    <tr>\n      <th>16</th>\n      <td>17</td>\n      <td>3.25</td>\n      <td>1</td>\n      <td>5.3975</td>\n      <td>-2</td>\n    </tr>\n    <tr>\n      <th>17</th>\n      <td>18</td>\n      <td>3.25</td>\n      <td>12</td>\n      <td>6.2400</td>\n      <td>-8</td>\n    </tr>\n    <tr>\n      <th>18</th>\n      <td>19</td>\n      <td>3.25</td>\n      <td>10</td>\n      <td>7.2175</td>\n      <td>-14</td>\n    </tr>\n    <tr>\n      <th>19</th>\n      <td>20</td>\n      <td>3.29</td>\n      <td>4</td>\n      <td>8.3300</td>\n      <td>-22</td>\n    </tr>\n  </tbody>\n</table>\n</div>"
     },
     "execution_count": 821,
     "metadata": {},
     "output_type": "execute_result"
    }
   ],
   "source": [
    "df_lagrange = df.copy()\n",
    "df_lagrange[\"lagrange3_price\"] = [polynom_price3[2] * (i + 1) ** 2 + polynom_price3[1] * (i + 1) + polynom_price3[0] for\n",
    "                                  i in range(len(df))]\n",
    "df_lagrange[\"lagrange3_amount\"] = [\n",
    "    int(round(polynom_amount3[2] * (i + 1) ** 2 + polynom_amount3[1] * (i + 1) + polynom_amount3[0])) for i in\n",
    "    range(len(df))]\n",
    "df_lagrange"
   ],
   "metadata": {
    "collapsed": false,
    "ExecuteTime": {
     "end_time": "2024-02-01T18:55:17.112791900Z",
     "start_time": "2024-02-01T18:55:15.770166300Z"
    }
   }
  },
  {
   "cell_type": "markdown",
   "source": [
    "Необходимо оценить качество и если оно низкое взять большую выборку.\n",
    "При примерной оценке работы модели можно увидеть, что цена получилось относительно точной (скорее всего из-за маленьких разницы между величинами)\n",
    "А количество продаж получилось относительно неточным (Скорее всего уже из-за большой разницы между величинами)\n",
    "Попробую увеличить выборку на 2 дня и посмотреть результат (6,8,10,12,14)"
   ],
   "metadata": {
    "collapsed": false
   }
  },
  {
   "cell_type": "code",
   "execution_count": 822,
   "outputs": [
    {
     "data": {
      "text/plain": "5      6\n7      8\n9     10\n11    12\n13    14\nName: day, dtype: int64"
     },
     "execution_count": 822,
     "metadata": {},
     "output_type": "execute_result"
    }
   ],
   "source": [
    "days = df['day'].iloc[[5, 7, 9, 11, 13]]\n",
    "days"
   ],
   "metadata": {
    "collapsed": false,
    "ExecuteTime": {
     "end_time": "2024-02-01T18:55:17.150797300Z",
     "start_time": "2024-02-01T18:55:15.784687500Z"
    }
   }
  },
  {
   "cell_type": "code",
   "execution_count": 823,
   "outputs": [
    {
     "data": {
      "text/plain": "5     3.78\n7     3.89\n9     3.28\n11    3.21\n13    3.35\nName: price, dtype: float64"
     },
     "execution_count": 823,
     "metadata": {},
     "output_type": "execute_result"
    }
   ],
   "source": [
    "prices = df['price'].iloc[[5, 7, 9, 11, 13]]\n",
    "prices"
   ],
   "metadata": {
    "collapsed": false,
    "ExecuteTime": {
     "end_time": "2024-02-01T18:55:17.150797300Z",
     "start_time": "2024-02-01T18:55:15.787887100Z"
    }
   }
  },
  {
   "cell_type": "code",
   "execution_count": 824,
   "outputs": [
    {
     "data": {
      "text/plain": "6     10\n8      2\n10    15\n12    17\n14     2\nName: amount, dtype: int64"
     },
     "execution_count": 824,
     "metadata": {},
     "output_type": "execute_result"
    }
   ],
   "source": [
    "amounts = df['amount'].iloc[[6, 8, 10, 12, 14]]\n",
    "amounts"
   ],
   "metadata": {
    "collapsed": false,
    "ExecuteTime": {
     "end_time": "2024-02-01T18:55:17.150797300Z",
     "start_time": "2024-02-01T18:55:15.795700800Z"
    }
   }
  },
  {
   "cell_type": "code",
   "execution_count": 825,
   "outputs": [
    {
     "data": {
      "text/plain": "poly1d([-4.1406250e-03,  1.7531250e-01, -2.6909375e+00,  1.7578750e+01,\n       -3.7320000e+01])"
     },
     "execution_count": 825,
     "metadata": {},
     "output_type": "execute_result"
    }
   ],
   "source": [
    "polynom_price5 = lagrange(days.array, prices.array)\n",
    "polynom_price5"
   ],
   "metadata": {
    "collapsed": false,
    "ExecuteTime": {
     "end_time": "2024-02-01T18:55:17.150797300Z",
     "start_time": "2024-02-01T18:55:15.801590Z"
    }
   }
  },
  {
   "cell_type": "code",
   "execution_count": 826,
   "outputs": [
    {
     "name": "stdout",
     "output_type": "stream",
     "text": [
      "-0.0041*x^4 +0.1753*x^3 +-2.69*x^2 + 17.58*x + -37.32\n"
     ]
    }
   ],
   "source": [
    "print(\n",
    "    f\"{round(polynom_price5[4], 4)}*x^4 +{round(polynom_price5[3], 4)}*x^3 +{round(polynom_price5[2], 2)}*x^2 + {round(polynom_price5[1], 2)}*x + {round(polynom_price5[0], 2)}\")"
   ],
   "metadata": {
    "collapsed": false,
    "ExecuteTime": {
     "end_time": "2024-02-01T18:55:17.153792400Z",
     "start_time": "2024-02-01T18:55:15.807405100Z"
    }
   }
  },
  {
   "cell_type": "markdown",
   "source": [
    "Итоговая формула для цены\n",
    "$L_p = -0.004*x^4 +0.1783*x^3 +-2.94*x^2 + 20.98*x + -50.09$"
   ],
   "metadata": {
    "collapsed": false
   }
  },
  {
   "cell_type": "markdown",
   "source": [
    "Аналогичным образом вычислим для количества продаж"
   ],
   "metadata": {
    "collapsed": false
   }
  },
  {
   "cell_type": "code",
   "execution_count": 827,
   "outputs": [
    {
     "data": {
      "text/plain": "poly1d([ 6.77083333e-02, -3.10416667e+00,  5.08541667e+01, -3.51333333e+02,\n        8.70000000e+02])"
     },
     "execution_count": 827,
     "metadata": {},
     "output_type": "execute_result"
    }
   ],
   "source": [
    "polynom_amount5 = lagrange(days.array, amounts.array)\n",
    "polynom_amount5"
   ],
   "metadata": {
    "collapsed": false,
    "ExecuteTime": {
     "end_time": "2024-02-01T18:55:17.156796700Z",
     "start_time": "2024-02-01T18:55:15.815703600Z"
    }
   }
  },
  {
   "cell_type": "code",
   "execution_count": 828,
   "outputs": [
    {
     "name": "stdout",
     "output_type": "stream",
     "text": [
      "0.0677*x^4 +-3.1042*x^3 +50.85*x^2 + -351.33*x + 870.0\n"
     ]
    }
   ],
   "source": [
    "print(\n",
    "    f\"{round(polynom_amount5[4], 4)}*x^4 +{round(polynom_amount5[3], 4)}*x^3 +{round(polynom_amount5[2], 2)}*x^2 + {round(polynom_amount5[1], 2)}*x + {round(polynom_amount5[0], 2)}\")"
   ],
   "metadata": {
    "collapsed": false,
    "ExecuteTime": {
     "end_time": "2024-02-01T18:55:17.156796700Z",
     "start_time": "2024-02-01T18:55:15.823738400Z"
    }
   }
  },
  {
   "cell_type": "markdown",
   "source": [
    "Итоговая формула для количества продаж\n",
    "$L_p = 0.5156*x^4 +-23.3958*x^3 +386.28*x^2 + -2743.6*x + 7105.2$"
   ],
   "metadata": {
    "collapsed": false
   }
  },
  {
   "cell_type": "markdown",
   "source": [
    "Теперь с помощью этих формул можно снова получить моделируемое полиномами значение цены и количества продаж на каждый день и сравнить с меньшей выборкой\n",
    "Добавим эти данные в dataframe"
   ],
   "metadata": {
    "collapsed": false
   }
  },
  {
   "cell_type": "code",
   "execution_count": 829,
   "outputs": [
    {
     "data": {
      "text/plain": "    day  price  amount  lagrange3_price  lagrange3_amount  lagrange5_price  \\\n0     1   1.81      28          10.2775               -50           -22.26   \n1     2   1.81      21           8.9600               -40           -11.59   \n2     3   3.78       3           7.7775               -30            -4.40   \n3     4   3.78       0           6.7300               -22             0.10   \n4     5   3.78      27           5.8175               -14             2.63   \n5     6   3.78      14           5.0400                -8             3.78   \n6     7   3.78      10           4.3975                -2             4.07   \n7     8   3.89       2           3.8900                 2             3.89   \n8     9   3.93       2           3.5175                 6             3.56   \n9    10   3.28       8           3.2800                 8             3.28   \n10   11   3.23      15           3.1775                10             3.16   \n11   12   3.21      10           3.2100                10             3.21   \n12   13   3.35      17           3.3775                10             3.34   \n13   14   3.35       9           3.6800                 8             3.35   \n14   15   3.37       2           4.1175                 6             2.96   \n15   16   3.40      33           4.6900                 2             1.78   \n16   17   3.25       1           5.3975                -2            -0.68   \n17   18   3.25      12           6.2400                -8            -5.01   \n18   19   3.25      10           7.2175               -14           -11.89   \n19   20   3.29       4           8.3300               -22           -22.12   \n\n    lagrange5_amount  \n0                566  \n1                347  \n2                195  \n3                 97  \n4                 39  \n5                 10  \n6                  0  \n7                  2  \n8                  8  \n9                 15  \n10                18  \n11                17  \n12                11  \n13                 2  \n14                -7  \n15               -10  \n16                -2  \n17                27  \n18                85  \n19               185  ",
      "text/html": "<div>\n<style scoped>\n    .dataframe tbody tr th:only-of-type {\n        vertical-align: middle;\n    }\n\n    .dataframe tbody tr th {\n        vertical-align: top;\n    }\n\n    .dataframe thead th {\n        text-align: right;\n    }\n</style>\n<table border=\"1\" class=\"dataframe\">\n  <thead>\n    <tr style=\"text-align: right;\">\n      <th></th>\n      <th>day</th>\n      <th>price</th>\n      <th>amount</th>\n      <th>lagrange3_price</th>\n      <th>lagrange3_amount</th>\n      <th>lagrange5_price</th>\n      <th>lagrange5_amount</th>\n    </tr>\n  </thead>\n  <tbody>\n    <tr>\n      <th>0</th>\n      <td>1</td>\n      <td>1.81</td>\n      <td>28</td>\n      <td>10.2775</td>\n      <td>-50</td>\n      <td>-22.26</td>\n      <td>566</td>\n    </tr>\n    <tr>\n      <th>1</th>\n      <td>2</td>\n      <td>1.81</td>\n      <td>21</td>\n      <td>8.9600</td>\n      <td>-40</td>\n      <td>-11.59</td>\n      <td>347</td>\n    </tr>\n    <tr>\n      <th>2</th>\n      <td>3</td>\n      <td>3.78</td>\n      <td>3</td>\n      <td>7.7775</td>\n      <td>-30</td>\n      <td>-4.40</td>\n      <td>195</td>\n    </tr>\n    <tr>\n      <th>3</th>\n      <td>4</td>\n      <td>3.78</td>\n      <td>0</td>\n      <td>6.7300</td>\n      <td>-22</td>\n      <td>0.10</td>\n      <td>97</td>\n    </tr>\n    <tr>\n      <th>4</th>\n      <td>5</td>\n      <td>3.78</td>\n      <td>27</td>\n      <td>5.8175</td>\n      <td>-14</td>\n      <td>2.63</td>\n      <td>39</td>\n    </tr>\n    <tr>\n      <th>5</th>\n      <td>6</td>\n      <td>3.78</td>\n      <td>14</td>\n      <td>5.0400</td>\n      <td>-8</td>\n      <td>3.78</td>\n      <td>10</td>\n    </tr>\n    <tr>\n      <th>6</th>\n      <td>7</td>\n      <td>3.78</td>\n      <td>10</td>\n      <td>4.3975</td>\n      <td>-2</td>\n      <td>4.07</td>\n      <td>0</td>\n    </tr>\n    <tr>\n      <th>7</th>\n      <td>8</td>\n      <td>3.89</td>\n      <td>2</td>\n      <td>3.8900</td>\n      <td>2</td>\n      <td>3.89</td>\n      <td>2</td>\n    </tr>\n    <tr>\n      <th>8</th>\n      <td>9</td>\n      <td>3.93</td>\n      <td>2</td>\n      <td>3.5175</td>\n      <td>6</td>\n      <td>3.56</td>\n      <td>8</td>\n    </tr>\n    <tr>\n      <th>9</th>\n      <td>10</td>\n      <td>3.28</td>\n      <td>8</td>\n      <td>3.2800</td>\n      <td>8</td>\n      <td>3.28</td>\n      <td>15</td>\n    </tr>\n    <tr>\n      <th>10</th>\n      <td>11</td>\n      <td>3.23</td>\n      <td>15</td>\n      <td>3.1775</td>\n      <td>10</td>\n      <td>3.16</td>\n      <td>18</td>\n    </tr>\n    <tr>\n      <th>11</th>\n      <td>12</td>\n      <td>3.21</td>\n      <td>10</td>\n      <td>3.2100</td>\n      <td>10</td>\n      <td>3.21</td>\n      <td>17</td>\n    </tr>\n    <tr>\n      <th>12</th>\n      <td>13</td>\n      <td>3.35</td>\n      <td>17</td>\n      <td>3.3775</td>\n      <td>10</td>\n      <td>3.34</td>\n      <td>11</td>\n    </tr>\n    <tr>\n      <th>13</th>\n      <td>14</td>\n      <td>3.35</td>\n      <td>9</td>\n      <td>3.6800</td>\n      <td>8</td>\n      <td>3.35</td>\n      <td>2</td>\n    </tr>\n    <tr>\n      <th>14</th>\n      <td>15</td>\n      <td>3.37</td>\n      <td>2</td>\n      <td>4.1175</td>\n      <td>6</td>\n      <td>2.96</td>\n      <td>-7</td>\n    </tr>\n    <tr>\n      <th>15</th>\n      <td>16</td>\n      <td>3.40</td>\n      <td>33</td>\n      <td>4.6900</td>\n      <td>2</td>\n      <td>1.78</td>\n      <td>-10</td>\n    </tr>\n    <tr>\n      <th>16</th>\n      <td>17</td>\n      <td>3.25</td>\n      <td>1</td>\n      <td>5.3975</td>\n      <td>-2</td>\n      <td>-0.68</td>\n      <td>-2</td>\n    </tr>\n    <tr>\n      <th>17</th>\n      <td>18</td>\n      <td>3.25</td>\n      <td>12</td>\n      <td>6.2400</td>\n      <td>-8</td>\n      <td>-5.01</td>\n      <td>27</td>\n    </tr>\n    <tr>\n      <th>18</th>\n      <td>19</td>\n      <td>3.25</td>\n      <td>10</td>\n      <td>7.2175</td>\n      <td>-14</td>\n      <td>-11.89</td>\n      <td>85</td>\n    </tr>\n    <tr>\n      <th>19</th>\n      <td>20</td>\n      <td>3.29</td>\n      <td>4</td>\n      <td>8.3300</td>\n      <td>-22</td>\n      <td>-22.12</td>\n      <td>185</td>\n    </tr>\n  </tbody>\n</table>\n</div>"
     },
     "execution_count": 829,
     "metadata": {},
     "output_type": "execute_result"
    }
   ],
   "source": [
    "df_lagrange[\"lagrange5_price\"] = [round(\n",
    "    polynom_price5[4] * (i + 1) ** 4 + polynom_price5[3] * (i + 1) ** 3 + polynom_price5[2] * (i + 1) ** 2 +\n",
    "    polynom_price5[1] * (i + 1) + polynom_price5[0], 2) for i in range(len(df))]\n",
    "df_lagrange[\"lagrange5_amount\"] = [int(round(\n",
    "    polynom_amount5[4] * (i + 1) ** 4 + polynom_amount5[3] * (i + 1) ** 3 + polynom_amount5[2] * (i + 1) ** 2 +\n",
    "    polynom_amount5[1] * (i + 1) + polynom_amount5[0], 0)) for i in range(len(df))]\n",
    "df_lagrange"
   ],
   "metadata": {
    "collapsed": false,
    "ExecuteTime": {
     "end_time": "2024-02-01T18:55:17.158794700Z",
     "start_time": "2024-02-01T18:55:15.859069400Z"
    }
   }
  },
  {
   "cell_type": "markdown",
   "source": [
    "Не используя функцию ошибок, можно заметить, что при большей выборке на тех же значениях внутри диапазона метод стал предсказывать также или даже хуже.\n",
    "Но внутри расширенного диапазона, не входящего в предыдущий, предсказания стали точнее\n",
    "По выборке из 20 случайных значений нельзя делать вывод, но я попробую:\n",
    "При большей выборке при использовании многочлена Лагранжа модель не становится точнее внутри диапазона выбранных значений\n",
    "но становится лишь шире, предсказывая значения в большем диапазоне точнее.\n",
    "\n",
    "Также стоит заметить, что при слишком большом количестве данных в выборке может возникнуть переобучение (в этих данных этого не наблюдается)"
   ],
   "metadata": {
    "collapsed": false
   }
  },
  {
   "cell_type": "markdown",
   "source": [
    "### 2) Построим графики\n",
    "теперь необходимо построить графики полученных функций и заданных значений,\n",
    "сравнить полученные результаты и сделать выводы"
   ],
   "metadata": {
    "collapsed": false
   },
   "id": "be6c8fe35ac8facc"
  },
  {
   "cell_type": "markdown",
   "source": [
    "График для цен при выборке из 3 дней"
   ],
   "metadata": {
    "collapsed": false
   }
  },
  {
   "cell_type": "code",
   "execution_count": 830,
   "outputs": [
    {
     "data": {
      "text/plain": "<Figure size 640x480 with 1 Axes>",
      "image/png": "[encoded data removed]"
     },
     "metadata": {},
     "output_type": "display_data"
    }
   ],
   "source": [
    "x_new = np.arange(0, 21, 1)\n",
    "plt.scatter(df[\"day\"], df[\"price\"], label='цены')\n",
    "plt.plot(x_new, Polynomial(polynom_price3.coef[::-1])(x_new), label='Полином')\n",
    "plt.ylim(top=df[\"price\"].max() * 2, bottom=-5)\n",
    "plt.legend()\n",
    "plt.show()"
   ],
   "metadata": {
    "collapsed": false,
    "ExecuteTime": {
     "end_time": "2024-02-01T18:55:17.199797200Z",
     "start_time": "2024-02-01T18:55:15.899582600Z"
    }
   },
   "id": "3651cc2185468ff7"
  },
  {
   "cell_type": "markdown",
   "source": [
    "График для количества продаж при выборке из 3 дней"
   ],
   "metadata": {
    "collapsed": false
   }
  },
  {
   "cell_type": "code",
   "execution_count": 831,
   "outputs": [
    {
     "data": {
      "text/plain": "<Figure size 640x480 with 1 Axes>",
      "image/png": "[encoded data removed]"
     },
     "metadata": {},
     "output_type": "display_data"
    }
   ],
   "source": [
    "x_new = np.arange(0, 21, 1)\n",
    "plt.scatter(df[\"day\"], df[\"amount\"], label='количество продаж')\n",
    "plt.plot(x_new, Polynomial(polynom_amount3.coef[::-1])(x_new), label='Полином')\n",
    "plt.ylim(top=df[\"amount\"].max() * 1.5, bottom=-20)\n",
    "plt.legend()\n",
    "plt.show()"
   ],
   "metadata": {
    "collapsed": false,
    "ExecuteTime": {
     "end_time": "2024-02-01T18:55:17.242773100Z",
     "start_time": "2024-02-01T18:55:16.083343100Z"
    }
   }
  },
  {
   "cell_type": "markdown",
   "source": [
    "График для цен при выборке из 5 дней"
   ],
   "metadata": {
    "collapsed": false
   }
  },
  {
   "cell_type": "code",
   "execution_count": 832,
   "outputs": [
    {
     "data": {
      "text/plain": "<Figure size 640x480 with 1 Axes>",
      "image/png": "[encoded data removed]"
     },
     "metadata": {},
     "output_type": "display_data"
    }
   ],
   "source": [
    "x_new = np.arange(0, 21, 1)\n",
    "plt.scatter(df[\"day\"], df[\"price\"], label='цены')\n",
    "plt.plot(x_new, Polynomial(polynom_price5.coef[::-1])(x_new), label='Полином')\n",
    "plt.ylim(top=df[\"price\"].max() * 2, bottom=-5)\n",
    "plt.legend()\n",
    "plt.show()"
   ],
   "metadata": {
    "collapsed": false,
    "ExecuteTime": {
     "end_time": "2024-02-01T18:55:17.265774400Z",
     "start_time": "2024-02-01T18:55:16.277484200Z"
    }
   }
  },
  {
   "cell_type": "markdown",
   "source": [
    "График для количества продаж при выборке из 5 дней"
   ],
   "metadata": {
    "collapsed": false
   }
  },
  {
   "cell_type": "code",
   "execution_count": 833,
   "outputs": [
    {
     "data": {
      "text/plain": "<Figure size 640x480 with 1 Axes>",
      "image/png": "[encoded data removed]"
     },
     "metadata": {},
     "output_type": "display_data"
    }
   ],
   "source": [
    "x_new = np.arange(0, 21, 1)\n",
    "plt.scatter(df[\"day\"], df[\"amount\"], label='количество продаж')\n",
    "plt.plot(x_new, Polynomial(polynom_amount5.coef[::-1])(x_new), label='Полином')\n",
    "plt.ylim(top=df[\"amount\"].max() * 2, bottom=-20)\n",
    "plt.legend()\n",
    "plt.show()"
   ],
   "metadata": {
    "collapsed": false,
    "ExecuteTime": {
     "end_time": "2024-02-01T18:55:17.283802700Z",
     "start_time": "2024-02-01T18:55:16.458513200Z"
    }
   }
  },
  {
   "cell_type": "markdown",
   "source": [
    "### Интерполяционный многочлен Ньютона для неравноотстоящих узлов\n",
    "Предположим, что значение числа продаж и цены для 5-го и 15-го дней пропущены.\n",
    "Необходимо определить его значение с использованием многочлена Ньютона для не равноотстоящих\n",
    "узлов. Используйте для этого два предыдущих и одно последующее значение (то есть значения 3,4,6 и 13,14,16) для цен количества продаж\n",
    "\n",
    "##### пример для трёх точек\n",
    "$L = y_0 + [x_0. x_1](x-x_0)+[x_0. x_1. x_1](x-x_0)(x-x_1)$"
   ],
   "metadata": {
    "collapsed": false
   },
   "id": "d27c5f68f4cd4666"
  },
  {
   "cell_type": "markdown",
   "source": [
    "Построим таблицу разделённых разностей"
   ],
   "metadata": {
    "collapsed": false
   },
   "id": "c91dd8c31d5a34e9"
  },
  {
   "cell_type": "markdown",
   "source": [
    "Необходимо построить 4 таблицы разделённых разностей.\n",
    "Каждая таблица для трёх точек. Первые две таблицы для цены и количества продаж 3,4 и 6 дней,\n",
    "а две другие для цены и количества продаж 13, 14 и 16 дней\n",
    "Затем для каждой таблицы необходимо найти полином, подставить в него искомый день (точку) и вычислить\n",
    "x - дни\n",
    "y - цена/количество продаж"
   ],
   "metadata": {
    "collapsed": false
   },
   "id": "51ed12ae27ef82b"
  },
  {
   "cell_type": "markdown",
   "source": [
    "Таблица цены на 3,4 и 6 дни"
   ],
   "metadata": {
    "collapsed": false
   }
  },
  {
   "cell_type": "code",
   "execution_count": 834,
   "outputs": [
    {
     "data": {
      "text/plain": "   x     y  first  second\n0  3  3.78    0.0     0.0\n1  4  3.78    0.0     NaN\n2  6  3.78    NaN     NaN",
      "text/html": "<div>\n<style scoped>\n    .dataframe tbody tr th:only-of-type {\n        vertical-align: middle;\n    }\n\n    .dataframe tbody tr th {\n        vertical-align: top;\n    }\n\n    .dataframe thead th {\n        text-align: right;\n    }\n</style>\n<table border=\"1\" class=\"dataframe\">\n  <thead>\n    <tr style=\"text-align: right;\">\n      <th></th>\n      <th>x</th>\n      <th>y</th>\n      <th>first</th>\n      <th>second</th>\n    </tr>\n  </thead>\n  <tbody>\n    <tr>\n      <th>0</th>\n      <td>3</td>\n      <td>3.78</td>\n      <td>0.0</td>\n      <td>0.0</td>\n    </tr>\n    <tr>\n      <th>1</th>\n      <td>4</td>\n      <td>3.78</td>\n      <td>0.0</td>\n      <td>NaN</td>\n    </tr>\n    <tr>\n      <th>2</th>\n      <td>6</td>\n      <td>3.78</td>\n      <td>NaN</td>\n      <td>NaN</td>\n    </tr>\n  </tbody>\n</table>\n</div>"
     },
     "execution_count": 834,
     "metadata": {},
     "output_type": "execute_result"
    }
   ],
   "source": [
    "name = \"price\"\n",
    "sep_dif_price5 = pd.DataFrame({\"x\": [3, 4, 6],\n",
    "                               \"y\": [df[name][2], df[name][3], df[name][5]]})\n",
    "sep_dif_price5[\"first\"] = [\n",
    "    (sep_dif_price5[\"y\"][1] - sep_dif_price5[\"y\"][0]) / (sep_dif_price5[\"x\"][1] - sep_dif_price5[\"x\"][0]),\n",
    "    (sep_dif_price5[\"y\"][2] - sep_dif_price5[\"y\"][1]) / (sep_dif_price5[\"x\"][2] - sep_dif_price5[\"x\"][1]),\n",
    "    None]\n",
    "sep_dif_price5[\"second\"] = [\n",
    "    (sep_dif_price5[\"first\"][1] - sep_dif_price5[\"first\"][0]) / (sep_dif_price5[\"x\"][2] - sep_dif_price5[\"x\"][0]),\n",
    "    None,\n",
    "    None]\n",
    "sep_dif_price5"
   ],
   "metadata": {
    "collapsed": false,
    "ExecuteTime": {
     "end_time": "2024-02-01T18:55:17.283802700Z",
     "start_time": "2024-02-01T18:55:16.657380100Z"
    }
   },
   "id": "3d8c8cce6513ae39"
  },
  {
   "cell_type": "markdown",
   "source": [
    "Найдём полином"
   ],
   "metadata": {
    "collapsed": false
   }
  },
  {
   "cell_type": "code",
   "execution_count": 835,
   "outputs": [
    {
     "name": "stdout",
     "output_type": "stream",
     "text": [
      "P_3 = 3.78+0.0*(x-3) + 0.0*(x-3)*(x-4)\n"
     ]
    }
   ],
   "source": [
    "print(\n",
    "    f\"P_3 = {sep_dif_price5['y'][0]}+{sep_dif_price5['first'][0]}*(x-{sep_dif_price5['x'][0]}) + {sep_dif_price5['second'][0]}*(x-{sep_dif_price5['x'][0]})*(x-{sep_dif_price5['x'][1]})\")"
   ],
   "metadata": {
    "collapsed": false,
    "ExecuteTime": {
     "end_time": "2024-02-01T18:55:17.283802700Z",
     "start_time": "2024-02-01T18:55:16.667110900Z"
    }
   }
  },
  {
   "cell_type": "markdown",
   "source": [
    "Подставим значения нужного дня"
   ],
   "metadata": {
    "collapsed": false
   }
  },
  {
   "cell_type": "code",
   "execution_count": 836,
   "outputs": [
    {
     "name": "stdout",
     "output_type": "stream",
     "text": [
      "P_3 = 3.78+0.0*(5-3) + 0.0*(5-3)*(5-4)\n"
     ]
    }
   ],
   "source": [
    "day = 5\n",
    "print(\n",
    "    f\"P_3 = {sep_dif_price5['y'][0]}+{sep_dif_price5['first'][0]}*({day}-{sep_dif_price5['x'][0]}) + {sep_dif_price5['second'][0]}*({day}-{sep_dif_price5['x'][0]})*({day}-{sep_dif_price5['x'][1]})\")"
   ],
   "metadata": {
    "collapsed": false,
    "ExecuteTime": {
     "end_time": "2024-02-01T18:55:17.283802700Z",
     "start_time": "2024-02-01T18:55:16.673865800Z"
    }
   }
  },
  {
   "cell_type": "markdown",
   "source": [
    "И вычислим"
   ],
   "metadata": {
    "collapsed": false
   }
  },
  {
   "cell_type": "code",
   "execution_count": 837,
   "outputs": [
    {
     "data": {
      "text/plain": "3.78"
     },
     "execution_count": 837,
     "metadata": {},
     "output_type": "execute_result"
    }
   ],
   "source": [
    "day = 5\n",
    "newton_price_5 = sep_dif_price5[\"y\"][0] + sep_dif_price5[\"first\"][0] * (day - sep_dif_price5[\"x\"][0]) + \\\n",
    "                 sep_dif_price5[\"second\"][\n",
    "                     0] * (day - sep_dif_price5[\"x\"][0]) * (day - sep_dif_price5[\"x\"][1])\n",
    "newton_price_5"
   ],
   "metadata": {
    "collapsed": false,
    "ExecuteTime": {
     "end_time": "2024-02-01T18:55:17.283802700Z",
     "start_time": "2024-02-01T18:55:16.677904400Z"
    }
   }
  },
  {
   "cell_type": "markdown",
   "source": [
    "Cравним с реальными данными"
   ],
   "metadata": {
    "collapsed": false
   }
  },
  {
   "cell_type": "code",
   "execution_count": 838,
   "outputs": [
    {
     "data": {
      "text/plain": "3.78"
     },
     "execution_count": 838,
     "metadata": {},
     "output_type": "execute_result"
    }
   ],
   "source": [
    "df[\"price\"][4]"
   ],
   "metadata": {
    "collapsed": false,
    "ExecuteTime": {
     "end_time": "2024-02-01T18:55:17.283802700Z",
     "start_time": "2024-02-01T18:55:16.685325400Z"
    }
   }
  },
  {
   "cell_type": "markdown",
   "source": [
    "В данном случае полностью совпала, но это совпадение, так как все 4 значения цен одинаковые"
   ],
   "metadata": {
    "collapsed": false
   }
  },
  {
   "cell_type": "markdown",
   "source": [
    "Таблица количества продаж на 3,4 и 6 дни"
   ],
   "metadata": {
    "collapsed": false
   }
  },
  {
   "cell_type": "code",
   "execution_count": 839,
   "outputs": [
    {
     "data": {
      "text/plain": "   x   y  first    second\n0  3   3   -3.0  3.333333\n1  4   0    7.0       NaN\n2  6  14    NaN       NaN",
      "text/html": "<div>\n<style scoped>\n    .dataframe tbody tr th:only-of-type {\n        vertical-align: middle;\n    }\n\n    .dataframe tbody tr th {\n        vertical-align: top;\n    }\n\n    .dataframe thead th {\n        text-align: right;\n    }\n</style>\n<table border=\"1\" class=\"dataframe\">\n  <thead>\n    <tr style=\"text-align: right;\">\n      <th></th>\n      <th>x</th>\n      <th>y</th>\n      <th>first</th>\n      <th>second</th>\n    </tr>\n  </thead>\n  <tbody>\n    <tr>\n      <th>0</th>\n      <td>3</td>\n      <td>3</td>\n      <td>-3.0</td>\n      <td>3.333333</td>\n    </tr>\n    <tr>\n      <th>1</th>\n      <td>4</td>\n      <td>0</td>\n      <td>7.0</td>\n      <td>NaN</td>\n    </tr>\n    <tr>\n      <th>2</th>\n      <td>6</td>\n      <td>14</td>\n      <td>NaN</td>\n      <td>NaN</td>\n    </tr>\n  </tbody>\n</table>\n</div>"
     },
     "execution_count": 839,
     "metadata": {},
     "output_type": "execute_result"
    }
   ],
   "source": [
    "name = \"amount\"\n",
    "sep_dif_amount5 = pd.DataFrame({\"x\": [3, 4, 6],\n",
    "                                \"y\": [df[name][2], df[name][3], df[name][5]]})\n",
    "sep_dif_amount5[\"first\"] = [\n",
    "    (sep_dif_amount5[\"y\"][1] - sep_dif_amount5[\"y\"][0]) / (sep_dif_amount5[\"x\"][1] - sep_dif_amount5[\"x\"][0]),\n",
    "    (sep_dif_amount5[\"y\"][2] - sep_dif_amount5[\"y\"][1]) / (sep_dif_amount5[\"x\"][2] - sep_dif_amount5[\"x\"][1]),\n",
    "    None]\n",
    "sep_dif_amount5[\"second\"] = [\n",
    "    (sep_dif_amount5[\"first\"][1] - sep_dif_amount5[\"first\"][0]) / (sep_dif_amount5[\"x\"][2] - sep_dif_amount5[\"x\"][0]),\n",
    "    None,\n",
    "    None]\n",
    "sep_dif_amount5"
   ],
   "metadata": {
    "collapsed": false,
    "ExecuteTime": {
     "end_time": "2024-02-01T18:55:17.284774200Z",
     "start_time": "2024-02-01T18:55:16.692628100Z"
    }
   }
  },
  {
   "cell_type": "markdown",
   "source": [
    "Найдём полином"
   ],
   "metadata": {
    "collapsed": false
   }
  },
  {
   "cell_type": "code",
   "execution_count": 840,
   "outputs": [
    {
     "name": "stdout",
     "output_type": "stream",
     "text": [
      "P_3 = 3+-3.0*(x-3) + 3.3333333333333335*(x-3)*(x-4)\n"
     ]
    }
   ],
   "source": [
    "print(\n",
    "    f\"P_3 = {sep_dif_amount5['y'][0]}+{sep_dif_amount5['first'][0]}*(x-{sep_dif_amount5['x'][0]}) + {sep_dif_amount5['second'][0]}*(x-{sep_dif_amount5['x'][0]})*(x-{sep_dif_amount5['x'][1]})\")"
   ],
   "metadata": {
    "collapsed": false,
    "ExecuteTime": {
     "end_time": "2024-02-01T18:55:17.284774200Z",
     "start_time": "2024-02-01T18:55:16.703188Z"
    }
   }
  },
  {
   "cell_type": "markdown",
   "source": [
    "Подставим значения нужного дня"
   ],
   "metadata": {
    "collapsed": false
   }
  },
  {
   "cell_type": "code",
   "execution_count": 841,
   "outputs": [
    {
     "name": "stdout",
     "output_type": "stream",
     "text": [
      "P_3 = 3+-3.0*(5-3) + 3.3333333333333335*(5-3)*(5-4)\n"
     ]
    }
   ],
   "source": [
    "day = 5\n",
    "print(\n",
    "    f\"P_3 = {sep_dif_amount5['y'][0]}+{sep_dif_amount5['first'][0]}*({day}-{sep_dif_amount5['x'][0]}) + {sep_dif_amount5['second'][0]}*({day}-{sep_dif_amount5['x'][0]})*({day}-{sep_dif_amount5['x'][1]})\")"
   ],
   "metadata": {
    "collapsed": false,
    "ExecuteTime": {
     "end_time": "2024-02-01T18:55:17.284774200Z",
     "start_time": "2024-02-01T18:55:16.709570Z"
    }
   }
  },
  {
   "cell_type": "markdown",
   "source": [
    "И вычислим"
   ],
   "metadata": {
    "collapsed": false
   }
  },
  {
   "cell_type": "code",
   "execution_count": 842,
   "outputs": [
    {
     "data": {
      "text/plain": "3.666666666666667"
     },
     "execution_count": 842,
     "metadata": {},
     "output_type": "execute_result"
    }
   ],
   "source": [
    "day = 5\n",
    "newton_amount_5 = sep_dif_amount5[\"y\"][0] + sep_dif_amount5[\"first\"][0] * (day - sep_dif_amount5[\"x\"][0]) + \\\n",
    "                  sep_dif_amount5[\"second\"][0] * (day - sep_dif_amount5[\"x\"][0]) * (day - sep_dif_amount5[\"x\"][1])\n",
    "newton_amount_5"
   ],
   "metadata": {
    "collapsed": false,
    "ExecuteTime": {
     "end_time": "2024-02-01T18:55:17.284774200Z",
     "start_time": "2024-02-01T18:55:16.715085300Z"
    }
   }
  },
  {
   "cell_type": "markdown",
   "source": [
    "Cравним с реальными данными"
   ],
   "metadata": {
    "collapsed": false
   }
  },
  {
   "cell_type": "code",
   "execution_count": 843,
   "outputs": [
    {
     "data": {
      "text/plain": "27"
     },
     "execution_count": 843,
     "metadata": {},
     "output_type": "execute_result"
    }
   ],
   "source": [
    "df[\"amount\"][4]"
   ],
   "metadata": {
    "collapsed": false,
    "ExecuteTime": {
     "end_time": "2024-02-01T18:55:17.284774200Z",
     "start_time": "2024-02-01T18:55:16.720208700Z"
    }
   }
  },
  {
   "cell_type": "markdown",
   "source": [
    "В данном случае значения значительно значительнол отличаются. Скорее всего, опять же, из-за большей разницы между значениями обучающей выборки"
   ],
   "metadata": {
    "collapsed": false
   }
  },
  {
   "cell_type": "markdown",
   "source": [
    "Таблица цен на 13,14 и 16 дни"
   ],
   "metadata": {
    "collapsed": false
   }
  },
  {
   "cell_type": "code",
   "execution_count": 844,
   "outputs": [
    {
     "data": {
      "text/plain": "    x     y  first    second\n0  13  3.35  0.000  0.008333\n1  14  3.35  0.025       NaN\n2  16  3.40    NaN       NaN",
      "text/html": "<div>\n<style scoped>\n    .dataframe tbody tr th:only-of-type {\n        vertical-align: middle;\n    }\n\n    .dataframe tbody tr th {\n        vertical-align: top;\n    }\n\n    .dataframe thead th {\n        text-align: right;\n    }\n</style>\n<table border=\"1\" class=\"dataframe\">\n  <thead>\n    <tr style=\"text-align: right;\">\n      <th></th>\n      <th>x</th>\n      <th>y</th>\n      <th>first</th>\n      <th>second</th>\n    </tr>\n  </thead>\n  <tbody>\n    <tr>\n      <th>0</th>\n      <td>13</td>\n      <td>3.35</td>\n      <td>0.000</td>\n      <td>0.008333</td>\n    </tr>\n    <tr>\n      <th>1</th>\n      <td>14</td>\n      <td>3.35</td>\n      <td>0.025</td>\n      <td>NaN</td>\n    </tr>\n    <tr>\n      <th>2</th>\n      <td>16</td>\n      <td>3.40</td>\n      <td>NaN</td>\n      <td>NaN</td>\n    </tr>\n  </tbody>\n</table>\n</div>"
     },
     "execution_count": 844,
     "metadata": {},
     "output_type": "execute_result"
    }
   ],
   "source": [
    "name = \"price\"\n",
    "sep_dif_price15 = pd.DataFrame({\"x\": [13, 14, 16],\n",
    "                                \"y\": [df[name][12], df[name][13], df[name][15]]})\n",
    "sep_dif_price15[\"first\"] = [\n",
    "    (sep_dif_price15[\"y\"][1] - sep_dif_price15[\"y\"][0]) / (sep_dif_price15[\"x\"][1] - sep_dif_price15[\"x\"][0]),\n",
    "    (sep_dif_price15[\"y\"][2] - sep_dif_price15[\"y\"][1]) / (sep_dif_price15[\"x\"][2] - sep_dif_price15[\"x\"][1]),\n",
    "    None]\n",
    "sep_dif_price15[\"second\"] = [\n",
    "    (sep_dif_price15[\"first\"][1] - sep_dif_price15[\"first\"][0]) / (sep_dif_price15[\"x\"][2] - sep_dif_price15[\"x\"][0]),\n",
    "    None,\n",
    "    None]\n",
    "sep_dif_price15"
   ],
   "metadata": {
    "collapsed": false,
    "ExecuteTime": {
     "end_time": "2024-02-01T18:55:17.284774200Z",
     "start_time": "2024-02-01T18:55:16.725209300Z"
    }
   }
  },
  {
   "cell_type": "code",
   "execution_count": 845,
   "outputs": [
    {
     "name": "stdout",
     "output_type": "stream",
     "text": [
      "P_3 = 3.35+0.0*(x-13) + 0.008333333333333304*(x-13)*(x-14)\n"
     ]
    }
   ],
   "source": [
    "print(\n",
    "    f\"P_3 = {sep_dif_price15['y'][0]}+{sep_dif_price15['first'][0]}*(x-{sep_dif_price15['x'][0]}) + {sep_dif_price15['second'][0]}*(x-{sep_dif_price15['x'][0]})*(x-{sep_dif_price15['x'][1]})\")"
   ],
   "metadata": {
    "collapsed": false,
    "ExecuteTime": {
     "end_time": "2024-02-01T18:55:17.284774200Z",
     "start_time": "2024-02-01T18:55:16.735116700Z"
    }
   }
  },
  {
   "cell_type": "markdown",
   "source": [
    "Подставим значения нужного дня"
   ],
   "metadata": {
    "collapsed": false
   }
  },
  {
   "cell_type": "code",
   "execution_count": 846,
   "outputs": [
    {
     "name": "stdout",
     "output_type": "stream",
     "text": [
      "P_3 = 3.35+0.0*(15-13) + 0.008333333333333304*(15-13)*(15-14)\n"
     ]
    }
   ],
   "source": [
    "day = 15\n",
    "print(\n",
    "    f\"P_3 = {sep_dif_price15['y'][0]}+{sep_dif_price15['first'][0]}*({day}-{sep_dif_price15['x'][0]}) + {sep_dif_price15['second'][0]}*({day}-{sep_dif_price15['x'][0]})*({day}-{sep_dif_price15['x'][1]})\")"
   ],
   "metadata": {
    "collapsed": false,
    "ExecuteTime": {
     "end_time": "2024-02-01T18:55:17.284774200Z",
     "start_time": "2024-02-01T18:55:16.738900400Z"
    }
   }
  },
  {
   "cell_type": "markdown",
   "source": [
    "И вычислим"
   ],
   "metadata": {
    "collapsed": false
   }
  },
  {
   "cell_type": "code",
   "execution_count": 847,
   "outputs": [
    {
     "data": {
      "text/plain": "3.3666666666666667"
     },
     "execution_count": 847,
     "metadata": {},
     "output_type": "execute_result"
    }
   ],
   "source": [
    "day = 15\n",
    "newton_price_15 = sep_dif_price15[\"y\"][0] + sep_dif_price15[\"first\"][0] * (day - sep_dif_price15[\"x\"][0]) + \\\n",
    "                  sep_dif_price15[\"second\"][0] * (day - sep_dif_price15[\"x\"][0]) * (day - sep_dif_price15[\"x\"][1])\n",
    "newton_price_15"
   ],
   "metadata": {
    "collapsed": false,
    "ExecuteTime": {
     "end_time": "2024-02-01T18:55:17.284774200Z",
     "start_time": "2024-02-01T18:55:16.745965Z"
    }
   }
  },
  {
   "cell_type": "markdown",
   "source": [
    "Cравним с реальными данными"
   ],
   "metadata": {
    "collapsed": false
   }
  },
  {
   "cell_type": "code",
   "execution_count": 848,
   "outputs": [
    {
     "data": {
      "text/plain": "3.37"
     },
     "execution_count": 848,
     "metadata": {},
     "output_type": "execute_result"
    }
   ],
   "source": [
    "df[\"price\"][14]"
   ],
   "metadata": {
    "collapsed": false,
    "ExecuteTime": {
     "end_time": "2024-02-01T18:55:17.284774200Z",
     "start_time": "2024-02-01T18:55:16.750864500Z"
    }
   }
  },
  {
   "cell_type": "markdown",
   "source": [
    "В данном значения опять очень похожи, но скорее всего это опять вызвано маленьким различием между всеми ценами"
   ],
   "metadata": {
    "collapsed": false
   }
  },
  {
   "cell_type": "markdown",
   "source": [
    "Таблица количества продаж на 13,14 и 16 дни"
   ],
   "metadata": {
    "collapsed": false
   }
  },
  {
   "cell_type": "code",
   "execution_count": 849,
   "outputs": [
    {
     "data": {
      "text/plain": "    x   y  first    second\n0  13  17   -8.0  6.666667\n1  14   9   12.0       NaN\n2  16  33    NaN       NaN",
      "text/html": "<div>\n<style scoped>\n    .dataframe tbody tr th:only-of-type {\n        vertical-align: middle;\n    }\n\n    .dataframe tbody tr th {\n        vertical-align: top;\n    }\n\n    .dataframe thead th {\n        text-align: right;\n    }\n</style>\n<table border=\"1\" class=\"dataframe\">\n  <thead>\n    <tr style=\"text-align: right;\">\n      <th></th>\n      <th>x</th>\n      <th>y</th>\n      <th>first</th>\n      <th>second</th>\n    </tr>\n  </thead>\n  <tbody>\n    <tr>\n      <th>0</th>\n      <td>13</td>\n      <td>17</td>\n      <td>-8.0</td>\n      <td>6.666667</td>\n    </tr>\n    <tr>\n      <th>1</th>\n      <td>14</td>\n      <td>9</td>\n      <td>12.0</td>\n      <td>NaN</td>\n    </tr>\n    <tr>\n      <th>2</th>\n      <td>16</td>\n      <td>33</td>\n      <td>NaN</td>\n      <td>NaN</td>\n    </tr>\n  </tbody>\n</table>\n</div>"
     },
     "execution_count": 849,
     "metadata": {},
     "output_type": "execute_result"
    }
   ],
   "source": [
    "name = \"amount\"\n",
    "sep_dif_amount15 = pd.DataFrame({\"x\": [13, 14, 16],\n",
    "                                 \"y\": [df[name][12], df[name][13], df[name][15]]})\n",
    "sep_dif_amount15[\"first\"] = [\n",
    "    (sep_dif_amount15[\"y\"][1] - sep_dif_amount15[\"y\"][0]) / (sep_dif_amount15[\"x\"][1] - sep_dif_amount15[\"x\"][0]),\n",
    "    (sep_dif_amount15[\"y\"][2] - sep_dif_amount15[\"y\"][1]) / (sep_dif_amount15[\"x\"][2] - sep_dif_amount15[\"x\"][1]),\n",
    "    None]\n",
    "sep_dif_amount15[\"second\"] = [\n",
    "    (sep_dif_amount15[\"first\"][1] - sep_dif_amount15[\"first\"][0]) / (\n",
    "            sep_dif_amount15[\"x\"][2] - sep_dif_amount15[\"x\"][0]),\n",
    "    None,\n",
    "    None]\n",
    "sep_dif_amount15"
   ],
   "metadata": {
    "collapsed": false,
    "ExecuteTime": {
     "end_time": "2024-02-01T18:55:17.285774800Z",
     "start_time": "2024-02-01T18:55:16.757341200Z"
    }
   }
  },
  {
   "cell_type": "code",
   "execution_count": 850,
   "outputs": [
    {
     "name": "stdout",
     "output_type": "stream",
     "text": [
      "P_3 = 17+-8.0*(x-13) + 6.666666666666667*(x-13)*(x-14)\n"
     ]
    }
   ],
   "source": [
    "print(\n",
    "    f\"P_3 = {sep_dif_amount15['y'][0]}+{sep_dif_amount15['first'][0]}*(x-{sep_dif_amount15['x'][0]}) + {sep_dif_amount15['second'][0]}*(x-{sep_dif_amount15['x'][0]})*(x-{sep_dif_price15['x'][1]})\")"
   ],
   "metadata": {
    "collapsed": false,
    "ExecuteTime": {
     "end_time": "2024-02-01T18:55:17.285774800Z",
     "start_time": "2024-02-01T18:55:16.767787300Z"
    }
   }
  },
  {
   "cell_type": "markdown",
   "source": [
    "Подставим значения нужного дня"
   ],
   "metadata": {
    "collapsed": false
   }
  },
  {
   "cell_type": "code",
   "execution_count": 851,
   "outputs": [
    {
     "name": "stdout",
     "output_type": "stream",
     "text": [
      "P_3 = 17+-8.0*(15-13) + 6.666666666666667*(15-13)*(15-14)\n"
     ]
    }
   ],
   "source": [
    "day = 15\n",
    "print(\n",
    "    f\"P_3 = {sep_dif_amount15['y'][0]}+{sep_dif_amount15['first'][0]}*({day}-{sep_dif_amount15['x'][0]}) + {sep_dif_amount15['second'][0]}*({day}-{sep_dif_amount15['x'][0]})*({day}-{sep_dif_amount15['x'][1]})\")"
   ],
   "metadata": {
    "collapsed": false,
    "ExecuteTime": {
     "end_time": "2024-02-01T18:55:17.285774800Z",
     "start_time": "2024-02-01T18:55:16.770303900Z"
    }
   }
  },
  {
   "cell_type": "markdown",
   "source": [
    "И вычислим"
   ],
   "metadata": {
    "collapsed": false
   }
  },
  {
   "cell_type": "code",
   "execution_count": 852,
   "outputs": [
    {
     "data": {
      "text/plain": "14.333333333333334"
     },
     "execution_count": 852,
     "metadata": {},
     "output_type": "execute_result"
    }
   ],
   "source": [
    "day = 15\n",
    "newton_amount_15 = sep_dif_amount15[\"y\"][0] + sep_dif_amount15[\"first\"][0] * (day - sep_dif_amount15[\"x\"][0]) + \\\n",
    "                   sep_dif_amount15[\"second\"][0] * (day - sep_dif_amount15[\"x\"][0]) * (day - sep_dif_amount15[\"x\"][1])\n",
    "newton_amount_15"
   ],
   "metadata": {
    "collapsed": false,
    "ExecuteTime": {
     "end_time": "2024-02-01T18:55:17.285774800Z",
     "start_time": "2024-02-01T18:55:16.778305300Z"
    }
   }
  },
  {
   "cell_type": "markdown",
   "source": [
    "Cравним с реальными данными"
   ],
   "metadata": {
    "collapsed": false
   }
  },
  {
   "cell_type": "code",
   "execution_count": 853,
   "outputs": [
    {
     "data": {
      "text/plain": "2"
     },
     "execution_count": 853,
     "metadata": {},
     "output_type": "execute_result"
    }
   ],
   "source": [
    "df[\"amount\"][14]"
   ],
   "metadata": {
    "collapsed": false,
    "ExecuteTime": {
     "end_time": "2024-02-01T18:55:17.285774800Z",
     "start_time": "2024-02-01T18:55:16.782505700Z"
    }
   }
  },
  {
   "cell_type": "markdown",
   "source": [
    "В данном значения опять сильно различаются, Скорее всего причина всё также в большей разнице между значениями обучающей выборки"
   ],
   "metadata": {
    "collapsed": false
   }
  },
  {
   "cell_type": "markdown",
   "source": [
    "### 4) выводы о возможности заполнения пропущенных значений\n",
    "На основе значения суммарной ошибки сделайте выводы о возможности заполнения пропущенных значений\n",
    "средним (математическое ожидание), значением медианы, моды (любой одной если их несколько), средним\n",
    "значением на основе предыдущего и последующих значений и значением, полученным по интерполяционной формуле\n",
    "Ньютона для не равноотстоящих узлов. Для выполнения этой операции предположите, что значения, соответствующие\n",
    "дням 5 и 15 в ваших данных пропущены."
   ],
   "metadata": {
    "collapsed": false
   }
  },
  {
   "cell_type": "markdown",
   "source": [
    "Для начала вычислим всё это для цен"
   ],
   "metadata": {
    "collapsed": false
   }
  },
  {
   "cell_type": "code",
   "execution_count": 854,
   "outputs": [
    {
     "data": {
      "text/plain": "           day  price    mean  median  mode  mean_next_prev    newton\n0          5.0   3.78  3.3285    3.35  3.78           3.780  3.780000\n1         15.0   3.37  3.3285    3.35  3.78           3.375  3.366667\n2  total error   0.00  0.4930    0.45  0.41           0.005  0.003333",
      "text/html": "<div>\n<style scoped>\n    .dataframe tbody tr th:only-of-type {\n        vertical-align: middle;\n    }\n\n    .dataframe tbody tr th {\n        vertical-align: top;\n    }\n\n    .dataframe thead th {\n        text-align: right;\n    }\n</style>\n<table border=\"1\" class=\"dataframe\">\n  <thead>\n    <tr style=\"text-align: right;\">\n      <th></th>\n      <th>day</th>\n      <th>price</th>\n      <th>mean</th>\n      <th>median</th>\n      <th>mode</th>\n      <th>mean_next_prev</th>\n      <th>newton</th>\n    </tr>\n  </thead>\n  <tbody>\n    <tr>\n      <th>0</th>\n      <td>5.0</td>\n      <td>3.78</td>\n      <td>3.3285</td>\n      <td>3.35</td>\n      <td>3.78</td>\n      <td>3.780</td>\n      <td>3.780000</td>\n    </tr>\n    <tr>\n      <th>1</th>\n      <td>15.0</td>\n      <td>3.37</td>\n      <td>3.3285</td>\n      <td>3.35</td>\n      <td>3.78</td>\n      <td>3.375</td>\n      <td>3.366667</td>\n    </tr>\n    <tr>\n      <th>2</th>\n      <td>total error</td>\n      <td>0.00</td>\n      <td>0.4930</td>\n      <td>0.45</td>\n      <td>0.41</td>\n      <td>0.005</td>\n      <td>0.003333</td>\n    </tr>\n  </tbody>\n</table>\n</div>"
     },
     "execution_count": 854,
     "metadata": {},
     "output_type": "execute_result"
    }
   ],
   "source": [
    "result_price = pd.DataFrame(\n",
    "    {\"day\": [5], \"price\": [df['price'][4]], \"mean\": [df['price'].mean()], \"median\": [df[\"price\"].median()],\n",
    "     \"mode\": [df['price'].mode()[0]], \"mean_next_prev\": [(df['price'].iloc[3] + df['price'].iloc[5]) / 2],\n",
    "     \"newton\": [newton_price_5]})\n",
    "result_price.loc[len(result_price.index)] = [15, df['price'][14], df['price'].mean(), df[\"price\"].median(),\n",
    "                                             df['price'].mode()[0], (df['price'].iloc[13] + df['price'].iloc[15]) / 2,\n",
    "                                             newton_price_15]\n",
    "result_price.loc[len(result_price.index)] = [\"total error\",\n",
    "                                             abs(result_price[\"price\"][0] - result_price[\"price\"][0]) + abs(\n",
    "                                                 result_price[\"price\"][1] - result_price[\"price\"][1]),\n",
    "                                             abs(result_price[\"price\"][0] - result_price[\"mean\"][0]) + abs(\n",
    "                                                 result_price[\"price\"][1] - result_price[\"mean\"][1]),\n",
    "                                             abs(result_price[\"price\"][0] - result_price[\"median\"][0]) + abs(\n",
    "                                                 result_price[\"price\"][1] - result_price[\"median\"][1]),\n",
    "                                             abs(result_price[\"price\"][0] - result_price[\"mode\"][0]) + abs(\n",
    "                                                 result_price[\"price\"][1] - result_price[\"mode\"][1]),\n",
    "                                             abs(result_price[\"price\"][0] - result_price[\"mean_next_prev\"][0]) + abs(\n",
    "                                                 result_price[\"price\"][1] - result_price[\"mean_next_prev\"][1]),\n",
    "                                             abs(result_price[\"price\"][0] - result_price[\"newton\"][0]) + abs(\n",
    "                                                 result_price[\"price\"][1] - result_price[\"newton\"][1])]\n",
    "result_price"
   ],
   "metadata": {
    "collapsed": false,
    "ExecuteTime": {
     "end_time": "2024-02-01T18:55:17.285774800Z",
     "start_time": "2024-02-01T18:55:16.788036900Z"
    }
   }
  },
  {
   "cell_type": "markdown",
   "source": [
    "#### Вывод по датафрейму цен.\n",
    "Если ориентироваться на значение суммарной ошибки, то наилучшим для заполнения пропущенных значений следует признать вариант\n",
    "с интерполяционным многочленом ньютона и среднему значению вычисляемому на основе предыдущего и последующих значений.\n",
    "Худшим же вариантом в данном случае будет среднее (математическое ожидание).\n"
   ],
   "metadata": {
    "collapsed": false
   }
  },
  {
   "cell_type": "markdown",
   "source": [
    "Теперь то же самое вычислим для количества продаж"
   ],
   "metadata": {
    "collapsed": false
   }
  },
  {
   "cell_type": "code",
   "execution_count": 855,
   "outputs": [
    {
     "data": {
      "text/plain": "           day  amount  mean  median  mode  mean_next_prev     newton\n0          5.0    27.0  11.4    10.0   2.0             7.0   3.666667\n1         15.0     2.0  11.4    10.0   2.0            21.0  14.333333\n2  total error     0.0  25.0    25.0  25.0            39.0  35.666667",
      "text/html": "<div>\n<style scoped>\n    .dataframe tbody tr th:only-of-type {\n        vertical-align: middle;\n    }\n\n    .dataframe tbody tr th {\n        vertical-align: top;\n    }\n\n    .dataframe thead th {\n        text-align: right;\n    }\n</style>\n<table border=\"1\" class=\"dataframe\">\n  <thead>\n    <tr style=\"text-align: right;\">\n      <th></th>\n      <th>day</th>\n      <th>amount</th>\n      <th>mean</th>\n      <th>median</th>\n      <th>mode</th>\n      <th>mean_next_prev</th>\n      <th>newton</th>\n    </tr>\n  </thead>\n  <tbody>\n    <tr>\n      <th>0</th>\n      <td>5.0</td>\n      <td>27.0</td>\n      <td>11.4</td>\n      <td>10.0</td>\n      <td>2.0</td>\n      <td>7.0</td>\n      <td>3.666667</td>\n    </tr>\n    <tr>\n      <th>1</th>\n      <td>15.0</td>\n      <td>2.0</td>\n      <td>11.4</td>\n      <td>10.0</td>\n      <td>2.0</td>\n      <td>21.0</td>\n      <td>14.333333</td>\n    </tr>\n    <tr>\n      <th>2</th>\n      <td>total error</td>\n      <td>0.0</td>\n      <td>25.0</td>\n      <td>25.0</td>\n      <td>25.0</td>\n      <td>39.0</td>\n      <td>35.666667</td>\n    </tr>\n  </tbody>\n</table>\n</div>"
     },
     "execution_count": 855,
     "metadata": {},
     "output_type": "execute_result"
    }
   ],
   "source": [
    "result_amount = pd.DataFrame(\n",
    "    {\"day\": [5], \"amount\": [df['amount'][4]], \"mean\": [df['amount'].mean()], \"median\": [df[\"amount\"].median()],\n",
    "     \"mode\": [df['amount'].mode()[0]], \"mean_next_prev\": [(df['amount'].iloc[3] + df['amount'].iloc[5]) / 2],\n",
    "     \"newton\": [newton_amount_5]})\n",
    "result_amount.loc[len(result_amount.index)] = [15, df['amount'][14], df['amount'].mean(), df[\"amount\"].median(),\n",
    "                                               df['amount'].mode()[0],\n",
    "                                               (df['amount'].iloc[13] + df['amount'].iloc[15]) / 2, newton_amount_15]\n",
    "result_amount.loc[len(result_amount.index)] = [\"total error\",\n",
    "                                               abs(result_amount[\"amount\"][0] - result_amount[\"amount\"][0]) + abs(\n",
    "                                                   result_amount[\"amount\"][1] - result_amount[\"amount\"][1]),\n",
    "                                               abs(result_amount[\"amount\"][0] - result_amount[\"mean\"][0]) + abs(\n",
    "                                                   result_amount[\"amount\"][1] - result_amount[\"mean\"][1]),\n",
    "                                               abs(result_amount[\"amount\"][0] - result_amount[\"median\"][0]) + abs(\n",
    "                                                   result_amount[\"amount\"][1] - result_amount[\"median\"][1]),\n",
    "                                               abs(result_amount[\"amount\"][0] - result_amount[\"mode\"][0]) + abs(\n",
    "                                                   result_amount[\"amount\"][1] - result_amount[\"mode\"][1]),\n",
    "                                               abs(result_amount[\"amount\"][0] - result_amount[\"mean_next_prev\"][\n",
    "                                                   0]) + abs(\n",
    "                                                   result_amount[\"amount\"][1] - result_amount[\"mean_next_prev\"][1]),\n",
    "                                               abs(result_amount[\"amount\"][0] - result_amount[\"newton\"][0]) + abs(\n",
    "                                                   result_amount[\"amount\"][1] - result_amount[\"newton\"][1])]\n",
    "result_amount"
   ],
   "metadata": {
    "collapsed": false,
    "ExecuteTime": {
     "end_time": "2024-02-01T18:55:17.285774800Z",
     "start_time": "2024-02-01T18:55:16.809671300Z"
    }
   }
  },
  {
   "cell_type": "markdown",
   "source": [
    "#### Вывод по датафрейму количества продаж.\n",
    "Если ориентироваться на значение суммарной ошибки, то в данном случае, наоборот, наилучшим для заполнения пропущенных значений следует признать среднее, медиану и моду,\n",
    "Тогда как худшими оказались интерполяционный многочлен ньютона и среднее значению, вычисляемое на основе предыдущего и последующих значений.\n",
    "\n",
    "В результате можно сделать обобщающий вывод, что ни один из способов не гарантирует точного предсказания значений\n",
    "и на некоторых данных даже \"простое\" среднее может оказаться точнее \"сложного\" интерполяционного многочлена Ньютона"
   ],
   "metadata": {
    "collapsed": false
   }
  }
 ],
 "metadata": {
  "kernelspec": {
   "display_name": "Python 3",
   "language": "python",
   "name": "python3"
  },
  "language_info": {
   "codemirror_mode": {
    "name": "ipython",
    "version": 2
   },
   "file_extension": ".py",
   "mimetype": "text/x-python",
   "name": "python",
   "nbconvert_exporter": "python",
   "pygments_lexer": "ipython2",
   "version": "2.7.6"
  }
 },
 "nbformat": 4,
 "nbformat_minor": 5
}
