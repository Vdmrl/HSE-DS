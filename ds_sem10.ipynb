{
 "cells": [
  {
   "cell_type": "markdown",
   "source": [
    "## Лузина Владимира РИС22-2\n",
    "# Семинар 10. Дерево решений"
   ],
   "metadata": {
    "collapsed": false
   },
   "id": "a0cbe918deb997f"
  },
  {
   "cell_type": "markdown",
   "source": [
    "Используя имеющиеся статистические данные выполнить следующие шаги:\n",
    "1) Присвоить данным 1 или 0 класс в зависимости от критерием, описанных ниже\n",
    "2) Классифицировать по этим классам с помощью дерева решений\n",
    "3) Разметить тестовую выборку с использованием полученного дерева и сравнить полученные данные с\n",
    "реальными значениями классов. Сделать выводы о числе верно и неверно определенных значений\n",
    "классов (посчитать accuracy)"
   ],
   "metadata": {
    "collapsed": false
   },
   "id": "2e07a95b6ad0a22a"
  },
  {
   "cell_type": "markdown",
   "source": [
    "Я не стал удалять выбросы, так как это не связано с текущей задачей"
   ],
   "metadata": {
    "collapsed": false
   },
   "id": "443b5bbe684d4c00"
  },
  {
   "cell_type": "code",
   "execution_count": 105,
   "outputs": [],
   "source": [
    "import pandas as pd\n",
    "import warnings\n",
    "\n",
    "warnings.filterwarnings(\"ignore\", category=FutureWarning)\n"
   ],
   "metadata": {
    "collapsed": false,
    "ExecuteTime": {
     "end_time": "2024-03-18T07:23:30.939251Z",
     "start_time": "2024-03-18T07:23:30.935936Z"
    }
   },
   "id": "4a15690ce970d1f3"
  },
  {
   "cell_type": "code",
   "execution_count": 106,
   "outputs": [],
   "source": [
    " df = pd.DataFrame({'day': [i for i in range(1, 21)],  # дни с 1 по 20\n",
    "                    'price': [1.81, 4.37, 3.78, 3.78, 3.78, 3.78, 3.78, 3.89, 3.13, 3.28, 3.23, 3.21, 3.35, 3.35, 3.37,\n",
    "                              3.40, 3.25, 3.25, 3.25, 3.29],  # стоимость\n",
    "                    'amount': [28, 21, 21, 0, 27, 14, 10, 2, 3, 8, 15, 10, 17, 9, 2, 33, 1, 12, 10, 4]})  # число продаж\n",
    "\n",
    "# df = pd.DataFrame({'day': [i for i in range(1, 21)],  # дни с 1 по 20\n",
    "#                    'price': [4.1, 4.1, 4.37, 4.37, 4.37, 4.37, 4.37, 4.55, 4.61, 4.39, 4.33, 4.31, 4.49, 4.49, 4.53,\n",
    "#                              4.57, 4.38, 4.38, 4.38, 4.42],  # стоимость\n",
    "#                    'amount': [20, 34, 16, 16, 25, 47, 41, 26, 29, 17, 75, 42, 46, 58, 7, 18, 27, 88, 61,\n",
    "#                               31]})  # число продаж"
   ],
   "metadata": {
    "collapsed": false,
    "ExecuteTime": {
     "end_time": "2024-03-18T07:23:30.963750Z",
     "start_time": "2024-03-18T07:23:30.958252Z"
    }
   },
   "id": "91804877d3bd68c4"
  },
  {
   "cell_type": "markdown",
   "source": [
    "Для выявления в разнородных совокупностях однородные подмножества и в дальнейшем работать уже с ними\n",
    "Признак - класс 1 присваиваем дню, для которого:\n",
    "  - Цены относительно предыдущего дня уменьшились или не изменлись\n",
    "  - И объём продаж увеличились или не изменился\n",
    "В противном случае присваиваем класс 0"
   ],
   "metadata": {
    "collapsed": false
   },
   "id": "84277ea51c82f90e"
  },
  {
   "cell_type": "code",
   "execution_count": 107,
   "outputs": [
    {
     "data": {
      "text/plain": "    day  price  amount  class\n0     1   1.81      28      0\n1     2   4.37      21      0\n2     3   3.78      21      1\n3     4   3.78       0      0\n4     5   3.78      27      1\n5     6   3.78      14      0\n6     7   3.78      10      0\n7     8   3.89       2      0\n8     9   3.13       3      1\n9    10   3.28       8      0\n10   11   3.23      15      1\n11   12   3.21      10      0\n12   13   3.35      17      0\n13   14   3.35       9      0\n14   15   3.37       2      0\n15   16   3.40      33      0\n16   17   3.25       1      0\n17   18   3.25      12      1\n18   19   3.25      10      0\n19   20   3.29       4      0",
      "text/html": "<div>\n<style scoped>\n    .dataframe tbody tr th:only-of-type {\n        vertical-align: middle;\n    }\n\n    .dataframe tbody tr th {\n        vertical-align: top;\n    }\n\n    .dataframe thead th {\n        text-align: right;\n    }\n</style>\n<table border=\"1\" class=\"dataframe\">\n  <thead>\n    <tr style=\"text-align: right;\">\n      <th></th>\n      <th>day</th>\n      <th>price</th>\n      <th>amount</th>\n      <th>class</th>\n    </tr>\n  </thead>\n  <tbody>\n    <tr>\n      <th>0</th>\n      <td>1</td>\n      <td>1.81</td>\n      <td>28</td>\n      <td>0</td>\n    </tr>\n    <tr>\n      <th>1</th>\n      <td>2</td>\n      <td>4.37</td>\n      <td>21</td>\n      <td>0</td>\n    </tr>\n    <tr>\n      <th>2</th>\n      <td>3</td>\n      <td>3.78</td>\n      <td>21</td>\n      <td>1</td>\n    </tr>\n    <tr>\n      <th>3</th>\n      <td>4</td>\n      <td>3.78</td>\n      <td>0</td>\n      <td>0</td>\n    </tr>\n    <tr>\n      <th>4</th>\n      <td>5</td>\n      <td>3.78</td>\n      <td>27</td>\n      <td>1</td>\n    </tr>\n    <tr>\n      <th>5</th>\n      <td>6</td>\n      <td>3.78</td>\n      <td>14</td>\n      <td>0</td>\n    </tr>\n    <tr>\n      <th>6</th>\n      <td>7</td>\n      <td>3.78</td>\n      <td>10</td>\n      <td>0</td>\n    </tr>\n    <tr>\n      <th>7</th>\n      <td>8</td>\n      <td>3.89</td>\n      <td>2</td>\n      <td>0</td>\n    </tr>\n    <tr>\n      <th>8</th>\n      <td>9</td>\n      <td>3.13</td>\n      <td>3</td>\n      <td>1</td>\n    </tr>\n    <tr>\n      <th>9</th>\n      <td>10</td>\n      <td>3.28</td>\n      <td>8</td>\n      <td>0</td>\n    </tr>\n    <tr>\n      <th>10</th>\n      <td>11</td>\n      <td>3.23</td>\n      <td>15</td>\n      <td>1</td>\n    </tr>\n    <tr>\n      <th>11</th>\n      <td>12</td>\n      <td>3.21</td>\n      <td>10</td>\n      <td>0</td>\n    </tr>\n    <tr>\n      <th>12</th>\n      <td>13</td>\n      <td>3.35</td>\n      <td>17</td>\n      <td>0</td>\n    </tr>\n    <tr>\n      <th>13</th>\n      <td>14</td>\n      <td>3.35</td>\n      <td>9</td>\n      <td>0</td>\n    </tr>\n    <tr>\n      <th>14</th>\n      <td>15</td>\n      <td>3.37</td>\n      <td>2</td>\n      <td>0</td>\n    </tr>\n    <tr>\n      <th>15</th>\n      <td>16</td>\n      <td>3.40</td>\n      <td>33</td>\n      <td>0</td>\n    </tr>\n    <tr>\n      <th>16</th>\n      <td>17</td>\n      <td>3.25</td>\n      <td>1</td>\n      <td>0</td>\n    </tr>\n    <tr>\n      <th>17</th>\n      <td>18</td>\n      <td>3.25</td>\n      <td>12</td>\n      <td>1</td>\n    </tr>\n    <tr>\n      <th>18</th>\n      <td>19</td>\n      <td>3.25</td>\n      <td>10</td>\n      <td>0</td>\n    </tr>\n    <tr>\n      <th>19</th>\n      <td>20</td>\n      <td>3.29</td>\n      <td>4</td>\n      <td>0</td>\n    </tr>\n  </tbody>\n</table>\n</div>"
     },
     "execution_count": 107,
     "metadata": {},
     "output_type": "execute_result"
    }
   ],
   "source": [
    "df[\"class\"] = [0] + [1 if df[\"price\"][i] <= df[\"price\"][i - 1] and df[\"amount\"][i] >= df[\"amount\"][i - 1] else 0 for\n",
    "                     i in range(1, 20)]\n",
    "df"
   ],
   "metadata": {
    "collapsed": false,
    "ExecuteTime": {
     "end_time": "2024-03-18T07:23:30.976759Z",
     "start_time": "2024-03-18T07:23:30.965748Z"
    }
   },
   "id": "f4c637170c3c1f3c"
  },
  {
   "cell_type": "markdown",
   "source": [
    "тестовая выборка эти дни кратные 3. Остальные данные это обучающая выборка\n",
    "разделим на обучающую и тестовую выборки."
   ],
   "metadata": {
    "collapsed": false
   },
   "id": "7a5624defe6e086b"
  },
  {
   "cell_type": "code",
   "execution_count": 108,
   "outputs": [
    {
     "name": "stdout",
     "output_type": "stream",
     "text": [
      "test:\n"
     ]
    },
    {
     "data": {
      "text/plain": "    price  amount\n2    3.78      21\n5    3.78      14\n8    3.13       3\n11   3.21      10\n14   3.37       2\n17   3.25      12",
      "text/html": "<div>\n<style scoped>\n    .dataframe tbody tr th:only-of-type {\n        vertical-align: middle;\n    }\n\n    .dataframe tbody tr th {\n        vertical-align: top;\n    }\n\n    .dataframe thead th {\n        text-align: right;\n    }\n</style>\n<table border=\"1\" class=\"dataframe\">\n  <thead>\n    <tr style=\"text-align: right;\">\n      <th></th>\n      <th>price</th>\n      <th>amount</th>\n    </tr>\n  </thead>\n  <tbody>\n    <tr>\n      <th>2</th>\n      <td>3.78</td>\n      <td>21</td>\n    </tr>\n    <tr>\n      <th>5</th>\n      <td>3.78</td>\n      <td>14</td>\n    </tr>\n    <tr>\n      <th>8</th>\n      <td>3.13</td>\n      <td>3</td>\n    </tr>\n    <tr>\n      <th>11</th>\n      <td>3.21</td>\n      <td>10</td>\n    </tr>\n    <tr>\n      <th>14</th>\n      <td>3.37</td>\n      <td>2</td>\n    </tr>\n    <tr>\n      <th>17</th>\n      <td>3.25</td>\n      <td>12</td>\n    </tr>\n  </tbody>\n</table>\n</div>"
     },
     "metadata": {},
     "output_type": "display_data"
    },
    {
     "data": {
      "text/plain": "    class\n2       1\n5       0\n8       1\n11      0\n14      0\n17      1",
      "text/html": "<div>\n<style scoped>\n    .dataframe tbody tr th:only-of-type {\n        vertical-align: middle;\n    }\n\n    .dataframe tbody tr th {\n        vertical-align: top;\n    }\n\n    .dataframe thead th {\n        text-align: right;\n    }\n</style>\n<table border=\"1\" class=\"dataframe\">\n  <thead>\n    <tr style=\"text-align: right;\">\n      <th></th>\n      <th>class</th>\n    </tr>\n  </thead>\n  <tbody>\n    <tr>\n      <th>2</th>\n      <td>1</td>\n    </tr>\n    <tr>\n      <th>5</th>\n      <td>0</td>\n    </tr>\n    <tr>\n      <th>8</th>\n      <td>1</td>\n    </tr>\n    <tr>\n      <th>11</th>\n      <td>0</td>\n    </tr>\n    <tr>\n      <th>14</th>\n      <td>0</td>\n    </tr>\n    <tr>\n      <th>17</th>\n      <td>1</td>\n    </tr>\n  </tbody>\n</table>\n</div>"
     },
     "metadata": {},
     "output_type": "display_data"
    }
   ],
   "source": [
    "train = df[~(df[\"day\"] % 3 == 0)]\n",
    "test = df[df[\"day\"] % 3 == 0]\n",
    "X_train, X_test, y_train, y_test = train[[\"price\", \"amount\"]], test[[\"price\", \"amount\"]], train[[\"class\"]], test[\n",
    "    [\"class\"]]\n",
    "print(\"test:\")\n",
    "display(X_test)\n",
    "display(y_test)"
   ],
   "metadata": {
    "collapsed": false,
    "ExecuteTime": {
     "end_time": "2024-03-18T07:23:30.992226Z",
     "start_time": "2024-03-18T07:23:30.978761Z"
    }
   },
   "id": "5545e64a63da7e0f"
  },
  {
   "cell_type": "markdown",
   "source": [
    "Воспользуюсь DecisionTreeClassifier из библиотеки sklearn\n",
    "Буду использовать Энтропия, а не Коэффициент Джини, так как он более чувствителен к неоднородности данных, хоть и более ресурсозатратный.\n",
    "Также за максимальную глубину возьму 3, чтобы дерево не переобучилось на таком маленьком количестве данных и всего с двумя параметрами.\n",
    "Конечно, этот параметр стоило бы подобрать на валидационной выборке, но данных неприлично мало"
   ],
   "metadata": {
    "collapsed": false
   },
   "id": "78fe949b3210560a"
  },
  {
   "cell_type": "code",
   "execution_count": 109,
   "outputs": [
    {
     "name": "stdout",
     "output_type": "stream",
     "text": [
      "предсказание на тесте:\n"
     ]
    },
    {
     "data": {
      "text/plain": "array([0, 1, 0, 0, 0, 0], dtype=int64)"
     },
     "execution_count": 109,
     "metadata": {},
     "output_type": "execute_result"
    }
   ],
   "source": [
    "from sklearn.tree import DecisionTreeClassifier\n",
    "\n",
    "clf = DecisionTreeClassifier(criterion=\"entropy\", max_depth=3)  # объект классификатора\n",
    "clf = clf.fit(X_train, y_train)  # обучаю классификатор на трейне\n",
    "y_pred_train = clf.predict(X_train)  # делаю предикт на трейне (чтобы заметить переобучение)\n",
    "y_pred = clf.predict(X_test)  # делаю предикт на тесте\n",
    "print(\"предсказание на тесте:\")\n",
    "y_pred"
   ],
   "metadata": {
    "collapsed": false,
    "ExecuteTime": {
     "end_time": "2024-03-18T07:23:31.008220Z",
     "start_time": "2024-03-18T07:23:30.994226Z"
    }
   },
   "id": "930f8f921cba1829"
  },
  {
   "cell_type": "markdown",
   "source": [
    "Посчитаем долю правильных ответов"
   ],
   "metadata": {
    "collapsed": false
   },
   "id": "bd5d1eb88f0246de"
  },
  {
   "cell_type": "code",
   "execution_count": 110,
   "outputs": [
    {
     "name": "stdout",
     "output_type": "stream",
     "text": [
      "Доля правильных ответов обучающей выборки: 0.9285714285714286\n",
      "Доля правильных ответов теста: 0.3333333333333333\n"
     ]
    }
   ],
   "source": [
    "from sklearn import metrics\n",
    "\n",
    "print(\"Доля правильных ответов обучающей выборки:\", metrics.accuracy_score(y_train, y_pred_train))\n",
    "print(\"Доля правильных ответов теста:\", metrics.accuracy_score(y_test, y_pred))"
   ],
   "metadata": {
    "collapsed": false,
    "ExecuteTime": {
     "end_time": "2024-03-18T07:23:31.019433Z",
     "start_time": "2024-03-18T07:23:31.009246Z"
    }
   },
   "id": "6306507d0d50cd7e"
  },
  {
   "cell_type": "markdown",
   "source": [
    "В силу того, что данные взяты случайно и их очень мало, предсказание получилось ужасным.\n",
    "При этом предскзание на обучающей выборка получилось очень точным, что может свидетельствовать о переобучении"
   ],
   "metadata": {
    "collapsed": false
   },
   "id": "5694b3713ad345bb"
  },
  {
   "cell_type": "markdown",
   "source": [
    "Визуализируем дерево решений"
   ],
   "metadata": {
    "collapsed": false
   },
   "id": "6b018d17930825ef"
  },
  {
   "cell_type": "code",
   "execution_count": 111,
   "outputs": [
    {
     "data": {
      "image/png": "[encoded data removed]",
      "text/plain": "<IPython.core.display.Image object>"
     },
     "execution_count": 111,
     "metadata": {},
     "output_type": "execute_result"
    }
   ],
   "source": [
    "from sklearn.tree import export_graphviz\n",
    "from six import StringIO\n",
    "from IPython.display import Image\n",
    "import pydotplus\n",
    "\n",
    "dot_data = StringIO()\n",
    "export_graphviz(clf, out_file=dot_data,\n",
    "                rounded=True, \n",
    "                special_characters=True, feature_names=[\"price\", \"sales amount\"], class_names=['0', '1'])\n",
    "graph = pydotplus.graph_from_dot_data(dot_data.getvalue())\n",
    "Image(graph.create_png())"
   ],
   "metadata": {
    "collapsed": false,
    "ExecuteTime": {
     "end_time": "2024-03-18T07:23:31.134819Z",
     "start_time": "2024-03-18T07:23:31.020433Z"
    }
   },
   "id": "5b28023a1d3e37c6"
  },
  {
   "cell_type": "markdown",
   "source": [
    "Из дерева видно, что всё идёт по одной ветви, что может являться следствием того, что модель переобучена или неустойчива. Причина этого скорее лежит в неправильных данных с очень маленьким количеством параметров и выборкой."
   ],
   "metadata": {
    "collapsed": false
   },
   "id": "2458121fd759a2e4"
  }
 ],
 "metadata": {
  "kernelspec": {
   "display_name": "Python 3",
   "language": "python",
   "name": "python3"
  },
  "language_info": {
   "codemirror_mode": {
    "name": "ipython",
    "version": 2
   },
   "file_extension": ".py",
   "mimetype": "text/x-python",
   "name": "python",
   "nbconvert_exporter": "python",
   "pygments_lexer": "ipython2",
   "version": "2.7.6"
  }
 },
 "nbformat": 4,
 "nbformat_minor": 5
}
