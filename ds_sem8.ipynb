{
 "cells": [
  {
   "cell_type": "markdown",
   "source": [
    "## Лузина Владимира РИС22-2\n",
    "# Семинар 8. Использование регрессионных моделей в задачи прогнозирования"
   ],
   "metadata": {
    "collapsed": false
   },
   "id": "a0cbe918deb997f"
  },
  {
   "cell_type": "markdown",
   "source": [
    "Используя имеющиеся статистические данные выполнить следующие шаги:\n",
    "1) Разбить набор данных на обучающую (15 значений) и тестовую выборки (5 оставшихся\n",
    "значений). Построить, используя данные из обучающей выборки, регрессионную модель\n",
    "методом МНК. Провести проверку на адекватность полученной модели на тестовой выборке по\n",
    "критериям Стьюдента (гипотеза о равенстве математических ожиданий) и Фишера (проверка\n",
    "однородности дисперсий).\n",
    "2) Построить мультипликативную модель разложения временного ряда. Для чего выделить\n",
    "составляющую, полученную на первом шаге выполнения работы, а для оставшейся составляющей\n",
    "выбрать вид функции на основе графика построенных значений и найти коэффициенты с\n",
    "помощью МНК. Проверить качество мультипликативной модели по критериям Фишера и\n",
    "Стьюдента, сравнить полученные результаты с полученными на первом шаге выполнения\n",
    "задания"
   ],
   "metadata": {
    "collapsed": false
   },
   "id": "2e07a95b6ad0a22a"
  },
  {
   "cell_type": "code",
   "execution_count": 196,
   "outputs": [],
   "source": [
    "import math\n",
    "import pandas as pd\n",
    "import numpy as np\n",
    "import scipy\n",
    "import warnings\n",
    "\n",
    "warnings.filterwarnings(\"ignore\", category=FutureWarning)\n"
   ],
   "metadata": {
    "collapsed": false,
    "ExecuteTime": {
     "end_time": "2024-03-08T15:09:26.804369Z",
     "start_time": "2024-03-08T15:09:26.799717Z"
    }
   },
   "id": "4a15690ce970d1f3"
  },
  {
   "cell_type": "markdown",
   "source": [
    "Исходные данные взяты так, чтобы параболическая модель была самой точной"
   ],
   "metadata": {
    "collapsed": false
   },
   "id": "274ef4b64630d8a4"
  },
  {
   "cell_type": "code",
   "execution_count": 197,
   "outputs": [
    {
     "data": {
      "text/plain": "    day  price  amount\n0     1   2.61    46.0\n1     2   5.45    55.0\n2     3   2.88    53.0\n3     4   4.28    43.0\n4     5   2.47    61.0\n5     6   4.57    48.0\n6     7   0.15   198.0\n7     8   0.38   151.0\n8     9   1.10   115.0\n9    10   2.43    43.0\n10   11   1.23   137.0\n11   12   5.93    89.0\n12   13   1.44   134.0\n13   14   1.28    97.0\n14   15   1.43    90.0\n15   16   1.90   133.0\n16   17   1.96    97.0\n17   18   2.08    67.0\n18   19   3.88    60.0\n19   20   4.41    55.0",
      "text/html": "<div>\n<style scoped>\n    .dataframe tbody tr th:only-of-type {\n        vertical-align: middle;\n    }\n\n    .dataframe tbody tr th {\n        vertical-align: top;\n    }\n\n    .dataframe thead th {\n        text-align: right;\n    }\n</style>\n<table border=\"1\" class=\"dataframe\">\n  <thead>\n    <tr style=\"text-align: right;\">\n      <th></th>\n      <th>day</th>\n      <th>price</th>\n      <th>amount</th>\n    </tr>\n  </thead>\n  <tbody>\n    <tr>\n      <th>0</th>\n      <td>1</td>\n      <td>2.61</td>\n      <td>46.0</td>\n    </tr>\n    <tr>\n      <th>1</th>\n      <td>2</td>\n      <td>5.45</td>\n      <td>55.0</td>\n    </tr>\n    <tr>\n      <th>2</th>\n      <td>3</td>\n      <td>2.88</td>\n      <td>53.0</td>\n    </tr>\n    <tr>\n      <th>3</th>\n      <td>4</td>\n      <td>4.28</td>\n      <td>43.0</td>\n    </tr>\n    <tr>\n      <th>4</th>\n      <td>5</td>\n      <td>2.47</td>\n      <td>61.0</td>\n    </tr>\n    <tr>\n      <th>5</th>\n      <td>6</td>\n      <td>4.57</td>\n      <td>48.0</td>\n    </tr>\n    <tr>\n      <th>6</th>\n      <td>7</td>\n      <td>0.15</td>\n      <td>198.0</td>\n    </tr>\n    <tr>\n      <th>7</th>\n      <td>8</td>\n      <td>0.38</td>\n      <td>151.0</td>\n    </tr>\n    <tr>\n      <th>8</th>\n      <td>9</td>\n      <td>1.10</td>\n      <td>115.0</td>\n    </tr>\n    <tr>\n      <th>9</th>\n      <td>10</td>\n      <td>2.43</td>\n      <td>43.0</td>\n    </tr>\n    <tr>\n      <th>10</th>\n      <td>11</td>\n      <td>1.23</td>\n      <td>137.0</td>\n    </tr>\n    <tr>\n      <th>11</th>\n      <td>12</td>\n      <td>5.93</td>\n      <td>89.0</td>\n    </tr>\n    <tr>\n      <th>12</th>\n      <td>13</td>\n      <td>1.44</td>\n      <td>134.0</td>\n    </tr>\n    <tr>\n      <th>13</th>\n      <td>14</td>\n      <td>1.28</td>\n      <td>97.0</td>\n    </tr>\n    <tr>\n      <th>14</th>\n      <td>15</td>\n      <td>1.43</td>\n      <td>90.0</td>\n    </tr>\n    <tr>\n      <th>15</th>\n      <td>16</td>\n      <td>1.90</td>\n      <td>133.0</td>\n    </tr>\n    <tr>\n      <th>16</th>\n      <td>17</td>\n      <td>1.96</td>\n      <td>97.0</td>\n    </tr>\n    <tr>\n      <th>17</th>\n      <td>18</td>\n      <td>2.08</td>\n      <td>67.0</td>\n    </tr>\n    <tr>\n      <th>18</th>\n      <td>19</td>\n      <td>3.88</td>\n      <td>60.0</td>\n    </tr>\n    <tr>\n      <th>19</th>\n      <td>20</td>\n      <td>4.41</td>\n      <td>55.0</td>\n    </tr>\n  </tbody>\n</table>\n</div>"
     },
     "execution_count": 197,
     "metadata": {},
     "output_type": "execute_result"
    }
   ],
   "source": [
    "df = pd.DataFrame({'day': [i for i in range(1, 21)],  # дни с 1 по 20\n",
    "                   'price': [2.61, 5.45, 2.88, 4.28, 2.47, 4.57, 0.15, 0.38, 1.10, 2.43, 1.23, 5.93, 1.44, 1.28, 1.43,\n",
    "                             1.90, 1.96, 2.08, 3.88, 4.41],  # стоимость\n",
    "                   'amount': [46, 55, 53, 43, 61, 48, 198, 151, 115, 43, 137, 89, 134, 97, 90, 133, 97., 67, 60,\n",
    "                              55]})  # число продаж\n",
    "\n",
    "#df = pd.DataFrame({'day': [i for i in range(1, 21)],  # дни с 1 по 20\n",
    "#                   'price': [3.55, 4.48, 3.27, 4.32, 2.71, 4.49, 0.13, 0.5, 1.16, 3.24, 1.11, 4.98, 1.23, 1.82, 1.35,\n",
    "#                             1.79, 2.01, 2.18, 3.26, 3.94],  # стоимость\n",
    "#                   'amount': [50, 55, 59, 45, 60, 50, 210, 160, 140, 50, 143, 100, 130, 92, 114, 112, 97, 83, 66,\n",
    "#                              60]})  # число продаж\n",
    "\n",
    "df"
   ],
   "metadata": {
    "collapsed": false,
    "ExecuteTime": {
     "end_time": "2024-03-08T15:09:27.124308Z",
     "start_time": "2024-03-08T15:09:27.112959Z"
    }
   },
   "id": "c4476db466c484c7"
  },
  {
   "cell_type": "markdown",
   "source": [
    "Разделим данные на тест и трейн, на параметры и целевую переменную"
   ],
   "metadata": {
    "collapsed": false
   },
   "id": "623a6f6293e3588b"
  },
  {
   "cell_type": "code",
   "execution_count": 198,
   "outputs": [],
   "source": [
    "X = df[[\"day\", \"price\"]]\n",
    "Y = df[[\"amount\"]]\n",
    "x_train, x_test, y_train, y_test = X.loc[:14, :], X.loc[15:], Y.loc[:14, :], Y.loc[15:, :]"
   ],
   "metadata": {
    "collapsed": false,
    "ExecuteTime": {
     "end_time": "2024-03-08T15:09:27.138078Z",
     "start_time": "2024-03-08T15:09:27.133309Z"
    }
   },
   "id": "2ba95abe428f0cac"
  },
  {
   "cell_type": "markdown",
   "source": [
    "Добавим аддитивную составляющую для трейна"
   ],
   "metadata": {
    "collapsed": false
   },
   "id": "26d1f1751a7a9b02"
  },
  {
   "cell_type": "code",
   "execution_count": 199,
   "outputs": [
    {
     "data": {
      "text/plain": "    A  day   day_log  price  price_log\n0   1    1  0.000000   2.61   1.384050\n1   1    2  1.000000   5.45   2.446256\n2   1    3  1.584963   2.88   1.526069\n3   1    4  2.000000   4.28   2.097611\n4   1    5  2.321928   2.47   1.304511\n5   1    6  2.584963   4.57   2.192194\n6   1    7  2.807355   0.15  -2.736966\n7   1    8  3.000000   0.38  -1.395929\n8   1    9  3.169925   1.10   0.137504\n9   1   10  3.321928   2.43   1.280956\n10  1   11  3.459432   1.23   0.298658\n11  1   12  3.584963   5.93   2.568032\n12  1   13  3.700440   1.44   0.526069\n13  1   14  3.807355   1.28   0.356144\n14  1   15  3.906891   1.43   0.516015",
      "text/html": "<div>\n<style scoped>\n    .dataframe tbody tr th:only-of-type {\n        vertical-align: middle;\n    }\n\n    .dataframe tbody tr th {\n        vertical-align: top;\n    }\n\n    .dataframe thead th {\n        text-align: right;\n    }\n</style>\n<table border=\"1\" class=\"dataframe\">\n  <thead>\n    <tr style=\"text-align: right;\">\n      <th></th>\n      <th>A</th>\n      <th>day</th>\n      <th>day_log</th>\n      <th>price</th>\n      <th>price_log</th>\n    </tr>\n  </thead>\n  <tbody>\n    <tr>\n      <th>0</th>\n      <td>1</td>\n      <td>1</td>\n      <td>0.000000</td>\n      <td>2.61</td>\n      <td>1.384050</td>\n    </tr>\n    <tr>\n      <th>1</th>\n      <td>1</td>\n      <td>2</td>\n      <td>1.000000</td>\n      <td>5.45</td>\n      <td>2.446256</td>\n    </tr>\n    <tr>\n      <th>2</th>\n      <td>1</td>\n      <td>3</td>\n      <td>1.584963</td>\n      <td>2.88</td>\n      <td>1.526069</td>\n    </tr>\n    <tr>\n      <th>3</th>\n      <td>1</td>\n      <td>4</td>\n      <td>2.000000</td>\n      <td>4.28</td>\n      <td>2.097611</td>\n    </tr>\n    <tr>\n      <th>4</th>\n      <td>1</td>\n      <td>5</td>\n      <td>2.321928</td>\n      <td>2.47</td>\n      <td>1.304511</td>\n    </tr>\n    <tr>\n      <th>5</th>\n      <td>1</td>\n      <td>6</td>\n      <td>2.584963</td>\n      <td>4.57</td>\n      <td>2.192194</td>\n    </tr>\n    <tr>\n      <th>6</th>\n      <td>1</td>\n      <td>7</td>\n      <td>2.807355</td>\n      <td>0.15</td>\n      <td>-2.736966</td>\n    </tr>\n    <tr>\n      <th>7</th>\n      <td>1</td>\n      <td>8</td>\n      <td>3.000000</td>\n      <td>0.38</td>\n      <td>-1.395929</td>\n    </tr>\n    <tr>\n      <th>8</th>\n      <td>1</td>\n      <td>9</td>\n      <td>3.169925</td>\n      <td>1.10</td>\n      <td>0.137504</td>\n    </tr>\n    <tr>\n      <th>9</th>\n      <td>1</td>\n      <td>10</td>\n      <td>3.321928</td>\n      <td>2.43</td>\n      <td>1.280956</td>\n    </tr>\n    <tr>\n      <th>10</th>\n      <td>1</td>\n      <td>11</td>\n      <td>3.459432</td>\n      <td>1.23</td>\n      <td>0.298658</td>\n    </tr>\n    <tr>\n      <th>11</th>\n      <td>1</td>\n      <td>12</td>\n      <td>3.584963</td>\n      <td>5.93</td>\n      <td>2.568032</td>\n    </tr>\n    <tr>\n      <th>12</th>\n      <td>1</td>\n      <td>13</td>\n      <td>3.700440</td>\n      <td>1.44</td>\n      <td>0.526069</td>\n    </tr>\n    <tr>\n      <th>13</th>\n      <td>1</td>\n      <td>14</td>\n      <td>3.807355</td>\n      <td>1.28</td>\n      <td>0.356144</td>\n    </tr>\n    <tr>\n      <th>14</th>\n      <td>1</td>\n      <td>15</td>\n      <td>3.906891</td>\n      <td>1.43</td>\n      <td>0.516015</td>\n    </tr>\n  </tbody>\n</table>\n</div>"
     },
     "execution_count": 199,
     "metadata": {},
     "output_type": "execute_result"
    }
   ],
   "source": [
    "temp = x_train[\"price\"]\n",
    "temp_d = x_train[\"day\"]\n",
    "A = x_train.drop(\"price\", axis=1)\n",
    "A = A.drop(\"day\", axis=1)\n",
    "A[\"A\"] = [1 for i in range(len(A))]\n",
    "A[\"day\"] = temp_d\n",
    "A[\"day_log\"] = np.log2(A[\"day\"])\n",
    "A[\"price\"] = temp\n",
    "A[\"price_log\"] = np.log2(A[\"price\"])\n",
    "A"
   ],
   "metadata": {
    "collapsed": false,
    "ExecuteTime": {
     "end_time": "2024-03-08T15:09:27.170809Z",
     "start_time": "2024-03-08T15:09:27.159078Z"
    }
   },
   "id": "94b3f2c313550717"
  },
  {
   "cell_type": "code",
   "execution_count": 200,
   "outputs": [
    {
     "data": {
      "text/plain": "      amount\n0  65.536145\n1   3.345855\n2  -0.953055\n3  14.355998\n4 -42.108075",
      "text/html": "<div>\n<style scoped>\n    .dataframe tbody tr th:only-of-type {\n        vertical-align: middle;\n    }\n\n    .dataframe tbody tr th {\n        vertical-align: top;\n    }\n\n    .dataframe thead th {\n        text-align: right;\n    }\n</style>\n<table border=\"1\" class=\"dataframe\">\n  <thead>\n    <tr style=\"text-align: right;\">\n      <th></th>\n      <th>amount</th>\n    </tr>\n  </thead>\n  <tbody>\n    <tr>\n      <th>0</th>\n      <td>65.536145</td>\n    </tr>\n    <tr>\n      <th>1</th>\n      <td>3.345855</td>\n    </tr>\n    <tr>\n      <th>2</th>\n      <td>-0.953055</td>\n    </tr>\n    <tr>\n      <th>3</th>\n      <td>14.355998</td>\n    </tr>\n    <tr>\n      <th>4</th>\n      <td>-42.108075</td>\n    </tr>\n  </tbody>\n</table>\n</div>"
     },
     "execution_count": 200,
     "metadata": {},
     "output_type": "execute_result"
    }
   ],
   "source": [
    "c = (np.linalg.inv(A.T @ A) @ A.T) @ y_train\n",
    "c"
   ],
   "metadata": {
    "collapsed": false,
    "ExecuteTime": {
     "end_time": "2024-03-08T15:09:27.229835Z",
     "start_time": "2024-03-08T15:09:27.220809Z"
    }
   },
   "id": "57633813a930132f"
  },
  {
   "cell_type": "markdown",
   "source": [
    "Окончательно запишем искомую функцию"
   ],
   "metadata": {
    "collapsed": false
   },
   "id": "ffe7cb51b639fcad"
  },
  {
   "cell_type": "code",
   "execution_count": 201,
   "outputs": [],
   "source": [
    "def log_regression(x1: float, x2: float) -> float:\n",
    "    return c.iloc[4] * math.log2(x2) + c.iloc[3] * x2 + c.iloc[2] * math.log2(x1) + c.iloc[1] * x1 + c.iloc[0]"
   ],
   "metadata": {
    "collapsed": false,
    "ExecuteTime": {
     "end_time": "2024-03-08T15:09:27.280848Z",
     "start_time": "2024-03-08T15:09:27.274843Z"
    }
   },
   "id": "c63d2799ab0de50f"
  },
  {
   "cell_type": "markdown",
   "source": [
    "Сделаем предикт"
   ],
   "metadata": {
    "collapsed": false
   },
   "id": "31f0801adbff9fc0"
  },
  {
   "cell_type": "code",
   "execution_count": 202,
   "outputs": [
    {
     "data": {
      "text/plain": "0      48.0\n1      47.0\n2      51.0\n3      50.0\n4      61.0\n5      56.0\n6     204.0\n7     154.0\n8     103.0\n9      77.0\n10    104.0\n11     79.0\n12    104.0\n13    112.0\n14    111.0\ndtype: float64"
     },
     "execution_count": 202,
     "metadata": {},
     "output_type": "execute_result"
    }
   ],
   "source": [
    "pred_train = pd.Series([round(log_regression(row[\"day\"], row[\"price\"])[0].item(), 0) for _, row in x_train.iterrows()])\n",
    "pred_train"
   ],
   "metadata": {
    "collapsed": false,
    "ExecuteTime": {
     "end_time": "2024-03-08T15:09:27.432056Z",
     "start_time": "2024-03-08T15:09:27.415842Z"
    }
   },
   "id": "4e3583ec048d3441"
  },
  {
   "cell_type": "markdown",
   "source": [],
   "metadata": {
    "collapsed": false
   },
   "id": "33d32ebacd83ff7c"
  },
  {
   "cell_type": "code",
   "execution_count": 203,
   "outputs": [
    {
     "data": {
      "text/plain": "0    104.0\n1    106.0\n2    107.0\n3     98.0\n4    102.0\ndtype: float64"
     },
     "execution_count": 203,
     "metadata": {},
     "output_type": "execute_result"
    }
   ],
   "source": [
    "pred_test = pd.Series([round(log_regression(row[\"day\"], row[\"price\"])[0].item(), 0) for _, row in x_test.iterrows()])\n",
    "pred_test"
   ],
   "metadata": {
    "collapsed": false,
    "ExecuteTime": {
     "end_time": "2024-03-08T15:09:27.521576Z",
     "start_time": "2024-03-08T15:09:27.511054Z"
    }
   },
   "id": "5d502baf76aca27e"
  },
  {
   "cell_type": "markdown",
   "source": [
    "Необходимо оценить равенство тестируемых объёмов продаж и прогнозируемых значений объёмов продаж\n",
    "Если они окаутся статистически равными, тогда можно говорить об удачной возможности прогнозирования, в противном случае нельзя об этом сказать\n",
    "Проверять будем с помощью среднего и стандартного отклонения ()\n",
    "T критерий стьюдента\n",
    "s - стандартное\n",
    "x - тестируемая\n",
    "y = прогнозирование\n"
   ],
   "metadata": {
    "collapsed": false
   },
   "id": "a4e82804936af6f9"
  },
  {
   "cell_type": "markdown",
   "source": [
    "Среднее значение"
   ],
   "metadata": {
    "collapsed": false
   },
   "id": "99556b2763245749"
  },
  {
   "cell_type": "code",
   "execution_count": 204,
   "outputs": [
    {
     "data": {
      "text/plain": "82.4"
     },
     "execution_count": 204,
     "metadata": {},
     "output_type": "execute_result"
    }
   ],
   "source": [
    "mean_test = y_test.mean().iloc[0]\n",
    "mean_test"
   ],
   "metadata": {
    "collapsed": false,
    "ExecuteTime": {
     "end_time": "2024-03-08T15:09:27.644966Z",
     "start_time": "2024-03-08T15:09:27.640598Z"
    }
   },
   "id": "43cd276f2351d26b"
  },
  {
   "cell_type": "code",
   "execution_count": 205,
   "outputs": [
    {
     "data": {
      "text/plain": "103.4"
     },
     "execution_count": 205,
     "metadata": {},
     "output_type": "execute_result"
    }
   ],
   "source": [
    "mean_pred = pred_test.mean()\n",
    "mean_pred"
   ],
   "metadata": {
    "collapsed": false,
    "ExecuteTime": {
     "end_time": "2024-03-08T15:09:27.670996Z",
     "start_time": "2024-03-08T15:09:27.665968Z"
    }
   },
   "id": "e318ac44a0dcc66f"
  },
  {
   "cell_type": "markdown",
   "source": [
    "отклонение"
   ],
   "metadata": {
    "collapsed": false
   },
   "id": "bdcb8a98c01fd1a3"
  },
  {
   "cell_type": "code",
   "execution_count": 206,
   "outputs": [
    {
     "data": {
      "text/plain": "32.64659247149693"
     },
     "execution_count": 206,
     "metadata": {},
     "output_type": "execute_result"
    }
   ],
   "source": [
    "std_test = y_test.std().iloc[0]\n",
    "std_test"
   ],
   "metadata": {
    "collapsed": false,
    "ExecuteTime": {
     "end_time": "2024-03-08T15:09:27.715601Z",
     "start_time": "2024-03-08T15:09:27.709993Z"
    }
   },
   "id": "c24b1dc8b44ca54e"
  },
  {
   "cell_type": "code",
   "execution_count": 207,
   "outputs": [
    {
     "data": {
      "text/plain": "3.5777087639996634"
     },
     "execution_count": 207,
     "metadata": {},
     "output_type": "execute_result"
    }
   ],
   "source": [
    "std_pred = pred_test.std()\n",
    "std_pred"
   ],
   "metadata": {
    "collapsed": false,
    "ExecuteTime": {
     "end_time": "2024-03-08T15:09:27.748643Z",
     "start_time": "2024-03-08T15:09:27.743598Z"
    }
   },
   "id": "f4ccb8cd543ee342"
  },
  {
   "cell_type": "markdown",
   "source": [
    "Критерий Стьюдента\n",
    "Сравним математическое ожидание"
   ],
   "metadata": {
    "collapsed": false
   },
   "id": "581b88c0f068d31e"
  },
  {
   "cell_type": "code",
   "outputs": [
    {
     "data": {
      "text/plain": "1.4297960367976275"
     },
     "execution_count": 208,
     "metadata": {},
     "output_type": "execute_result"
    }
   ],
   "source": [
    "# опытное\n",
    "n = 5\n",
    "t_op = (mean_pred - mean_test) / np.sqrt((std_pred / np.sqrt(n)) ** 2 + ((std_test / np.sqrt(n)) ** 2))\n",
    "t_op"
   ],
   "metadata": {
    "collapsed": false,
    "ExecuteTime": {
     "end_time": "2024-03-08T15:09:27.830666Z",
     "start_time": "2024-03-08T15:09:27.825641Z"
    }
   },
   "id": "554d74c62b2167ad",
   "execution_count": 208
  },
  {
   "cell_type": "code",
   "outputs": [
    {
     "data": {
      "text/plain": "1.8595480375228421"
     },
     "execution_count": 209,
     "metadata": {},
     "output_type": "execute_result"
    }
   ],
   "source": [
    "# Критическое\n",
    "t_kr = scipy.stats.t.ppf(q=1 - 0.05, df=(2 * n - 2))\n",
    "t_kr"
   ],
   "metadata": {
    "collapsed": false,
    "ExecuteTime": {
     "end_time": "2024-03-08T15:09:27.861631Z",
     "start_time": "2024-03-08T15:09:27.855638Z"
    }
   },
   "id": "9f7d9b30279b5e9f",
   "execution_count": 209
  },
  {
   "cell_type": "markdown",
   "source": [
    "\n",
    "Различия не значимы\n",
    "так как $F(op) < F(cr)$"
   ],
   "metadata": {
    "collapsed": false
   },
   "id": "4b56d5c91f9ea8ed"
  },
  {
   "cell_type": "markdown",
   "source": [
    "Критерий фишера\n",
    "Сравним стандартное отклонение"
   ],
   "metadata": {
    "collapsed": false
   },
   "id": "db24c29aac09301e"
  },
  {
   "cell_type": "code",
   "outputs": [
    {
     "data": {
      "text/plain": "83.265625"
     },
     "execution_count": 210,
     "metadata": {},
     "output_type": "execute_result"
    }
   ],
   "source": [
    "n = 5\n",
    "k = n - 1\n",
    "f_op = std_test * std_test / std_pred / std_pred\n",
    "f_op"
   ],
   "metadata": {
    "collapsed": false,
    "ExecuteTime": {
     "end_time": "2024-03-08T15:09:27.909647Z",
     "start_time": "2024-03-08T15:09:27.904628Z"
    }
   },
   "id": "fed13c406ce54094",
   "execution_count": 210
  },
  {
   "cell_type": "code",
   "outputs": [
    {
     "data": {
      "text/plain": "9.013455167522581"
     },
     "execution_count": 211,
     "metadata": {},
     "output_type": "execute_result"
    }
   ],
   "source": [
    "# критическое\n",
    "a = 0.05\n",
    "m = 1\n",
    "n = 5\n",
    "critical = scipy.stats.f.ppf(q=1 - a, dfn=n, dfd=n - m - 1)\n",
    "critical"
   ],
   "metadata": {
    "collapsed": false,
    "ExecuteTime": {
     "end_time": "2024-03-08T15:09:27.943907Z",
     "start_time": "2024-03-08T15:09:27.938198Z"
    }
   },
   "id": "564a41a30a278380",
   "execution_count": 211
  },
  {
   "cell_type": "markdown",
   "source": [
    "Различия значимы\n",
    "так как $F(op) > F(cr)$"
   ],
   "metadata": {
    "collapsed": false
   },
   "id": "ddf0eb5fdcdf0b14"
  },
  {
   "cell_type": "markdown",
   "source": [
    "Значения среднего однородно, а значение диспирсии неоднородно, следовательно, прогнозная модель получилась не совсем удачной\n",
    "Чтобы это исправить попробуем воспользоваться мультипликационной моделью"
   ],
   "metadata": {
    "collapsed": false
   },
   "id": "a5a02b4b70717adf"
  },
  {
   "cell_type": "markdown",
   "source": [
    "### Мультипликативная модель "
   ],
   "metadata": {
    "collapsed": false
   },
   "id": "36aff2dd049fb9af"
  },
  {
   "cell_type": "markdown",
   "source": [
    "остаточное значение"
   ],
   "metadata": {
    "collapsed": false
   },
   "id": "6b2848a768a9906e"
  },
  {
   "cell_type": "code",
   "execution_count": 212,
   "outputs": [
    {
     "data": {
      "text/plain": "0     0.958333\n1     1.170213\n2     1.039216\n3     0.860000\n4     1.000000\n5     0.857143\n6     0.970588\n7     0.980519\n8     1.116505\n9     0.558442\n10    1.317308\n11    1.126582\n12    1.288462\n13    0.866071\n14    0.810811\ndtype: float64"
     },
     "execution_count": 212,
     "metadata": {},
     "output_type": "execute_result"
    }
   ],
   "source": [
    "residual_train = y_train[\"amount\"] / pred_train\n",
    "residual_train"
   ],
   "metadata": {
    "collapsed": false,
    "ExecuteTime": {
     "end_time": "2024-03-08T15:09:27.985250Z",
     "start_time": "2024-03-08T15:09:27.979932Z"
    }
   },
   "id": "ba0b7b253036b6ab"
  },
  {
   "cell_type": "code",
   "execution_count": 213,
   "outputs": [
    {
     "data": {
      "text/plain": "0    1.278846\n1    0.915094\n2    0.626168\n3    0.612245\n4    0.539216\ndtype: float64"
     },
     "execution_count": 213,
     "metadata": {},
     "output_type": "execute_result"
    }
   ],
   "source": [
    "residual_test = y_test.reset_index()[\"amount\"] / pred_test\n",
    "residual_test"
   ],
   "metadata": {
    "collapsed": false,
    "ExecuteTime": {
     "end_time": "2024-03-08T15:09:28.005431Z",
     "start_time": "2024-03-08T15:09:27.999251Z"
    }
   },
   "id": "ac18661d21314b0f"
  },
  {
   "cell_type": "markdown",
   "source": [
    "cos(день)"
   ],
   "metadata": {
    "collapsed": false
   },
   "id": "8972445f8092e3e5"
  },
  {
   "cell_type": "code",
   "execution_count": 214,
   "outputs": [
    {
     "data": {
      "text/plain": "0     0.540302\n1    -0.416147\n2    -0.989992\n3    -0.653644\n4     0.283662\n5     0.960170\n6     0.753902\n7    -0.145500\n8    -0.911130\n9    -0.839072\n10    0.004426\n11    0.843854\n12    0.907447\n13    0.136737\n14   -0.759688\nName: day, dtype: float64"
     },
     "execution_count": 214,
     "metadata": {},
     "output_type": "execute_result"
    }
   ],
   "source": [
    "cos_train_day = np.cos(x_train[\"day\"])\n",
    "cos_test_day = np.cos(x_test[\"day\"])\n",
    "cos_train_day"
   ],
   "metadata": {
    "collapsed": false,
    "ExecuteTime": {
     "end_time": "2024-03-08T15:09:28.043663Z",
     "start_time": "2024-03-08T15:09:28.037466Z"
    }
   },
   "id": "7e3d657b1e360e7c"
  },
  {
   "cell_type": "markdown",
   "source": [
    "cos(цена)"
   ],
   "metadata": {
    "collapsed": false
   },
   "id": "68c79435acd271de"
  },
  {
   "cell_type": "code",
   "outputs": [
    {
     "data": {
      "text/plain": "0    -0.862001\n1     0.672522\n2    -0.965979\n3    -0.419041\n4    -0.782832\n5    -0.141908\n6     0.988771\n7     0.928665\n8     0.453596\n9    -0.757323\n10    0.334238\n11    0.938276\n12    0.130424\n13    0.286715\n14    0.140332\nName: price, dtype: float64"
     },
     "execution_count": 215,
     "metadata": {},
     "output_type": "execute_result"
    }
   ],
   "source": [
    "cos_train_price = np.cos(x_train[\"price\"])\n",
    "cos_test_price = np.cos(x_test[\"price\"])\n",
    "cos_train_price"
   ],
   "metadata": {
    "collapsed": false,
    "ExecuteTime": {
     "end_time": "2024-03-08T15:09:28.090693Z",
     "start_time": "2024-03-08T15:09:28.085665Z"
    }
   },
   "id": "700743d4ac373c54",
   "execution_count": 215
  },
  {
   "cell_type": "code",
   "outputs": [
    {
     "data": {
      "text/plain": "    A    cos(d)  cos(price)\n0   1  0.540302   -0.862001\n1   1 -0.416147    0.672522\n2   1 -0.989992   -0.965979\n3   1 -0.653644   -0.419041\n4   1  0.283662   -0.782832\n5   1  0.960170   -0.141908\n6   1  0.753902    0.988771\n7   1 -0.145500    0.928665\n8   1 -0.911130    0.453596\n9   1 -0.839072   -0.757323\n10  1  0.004426    0.334238\n11  1  0.843854    0.938276\n12  1  0.907447    0.130424\n13  1  0.136737    0.286715\n14  1 -0.759688    0.140332",
      "text/html": "<div>\n<style scoped>\n    .dataframe tbody tr th:only-of-type {\n        vertical-align: middle;\n    }\n\n    .dataframe tbody tr th {\n        vertical-align: top;\n    }\n\n    .dataframe thead th {\n        text-align: right;\n    }\n</style>\n<table border=\"1\" class=\"dataframe\">\n  <thead>\n    <tr style=\"text-align: right;\">\n      <th></th>\n      <th>A</th>\n      <th>cos(d)</th>\n      <th>cos(price)</th>\n    </tr>\n  </thead>\n  <tbody>\n    <tr>\n      <th>0</th>\n      <td>1</td>\n      <td>0.540302</td>\n      <td>-0.862001</td>\n    </tr>\n    <tr>\n      <th>1</th>\n      <td>1</td>\n      <td>-0.416147</td>\n      <td>0.672522</td>\n    </tr>\n    <tr>\n      <th>2</th>\n      <td>1</td>\n      <td>-0.989992</td>\n      <td>-0.965979</td>\n    </tr>\n    <tr>\n      <th>3</th>\n      <td>1</td>\n      <td>-0.653644</td>\n      <td>-0.419041</td>\n    </tr>\n    <tr>\n      <th>4</th>\n      <td>1</td>\n      <td>0.283662</td>\n      <td>-0.782832</td>\n    </tr>\n    <tr>\n      <th>5</th>\n      <td>1</td>\n      <td>0.960170</td>\n      <td>-0.141908</td>\n    </tr>\n    <tr>\n      <th>6</th>\n      <td>1</td>\n      <td>0.753902</td>\n      <td>0.988771</td>\n    </tr>\n    <tr>\n      <th>7</th>\n      <td>1</td>\n      <td>-0.145500</td>\n      <td>0.928665</td>\n    </tr>\n    <tr>\n      <th>8</th>\n      <td>1</td>\n      <td>-0.911130</td>\n      <td>0.453596</td>\n    </tr>\n    <tr>\n      <th>9</th>\n      <td>1</td>\n      <td>-0.839072</td>\n      <td>-0.757323</td>\n    </tr>\n    <tr>\n      <th>10</th>\n      <td>1</td>\n      <td>0.004426</td>\n      <td>0.334238</td>\n    </tr>\n    <tr>\n      <th>11</th>\n      <td>1</td>\n      <td>0.843854</td>\n      <td>0.938276</td>\n    </tr>\n    <tr>\n      <th>12</th>\n      <td>1</td>\n      <td>0.907447</td>\n      <td>0.130424</td>\n    </tr>\n    <tr>\n      <th>13</th>\n      <td>1</td>\n      <td>0.136737</td>\n      <td>0.286715</td>\n    </tr>\n    <tr>\n      <th>14</th>\n      <td>1</td>\n      <td>-0.759688</td>\n      <td>0.140332</td>\n    </tr>\n  </tbody>\n</table>\n</div>"
     },
     "execution_count": 216,
     "metadata": {},
     "output_type": "execute_result"
    }
   ],
   "source": [
    "A = pd.DataFrame({\"A\": [1 for i in range(len(x_train))], \"cos(d)\": cos_train_day, \"cos(price)\": cos_train_price})\n",
    "A"
   ],
   "metadata": {
    "collapsed": false,
    "ExecuteTime": {
     "end_time": "2024-03-08T15:09:28.116444Z",
     "start_time": "2024-03-08T15:09:28.108692Z"
    }
   },
   "id": "9dbce6e45961ede1",
   "execution_count": 216
  },
  {
   "cell_type": "code",
   "outputs": [
    {
     "data": {
      "text/plain": "0    0.989653\n1    0.054175\n2    0.096157\ndtype: float64"
     },
     "execution_count": 217,
     "metadata": {},
     "output_type": "execute_result"
    }
   ],
   "source": [
    "c = (np.linalg.inv(A.T @ A) @ A.T) @ residual_train\n",
    "c"
   ],
   "metadata": {
    "collapsed": false,
    "ExecuteTime": {
     "end_time": "2024-03-08T15:09:28.176144Z",
     "start_time": "2024-03-08T15:09:28.169453Z"
    }
   },
   "id": "64396b21172cf1cd",
   "execution_count": 217
  },
  {
   "cell_type": "markdown",
   "source": [
    "Окончательно запишем искомую функцию"
   ],
   "metadata": {
    "collapsed": false
   },
   "id": "5c021ab0496e1fa"
  },
  {
   "cell_type": "code",
   "outputs": [],
   "source": [
    "def residual_regression(x1: float, x2: float) -> float:\n",
    "    return c.iloc[2] * np.cos(x2) + c.iloc[1] * np.cos(x1) + c.iloc[0]"
   ],
   "metadata": {
    "collapsed": false,
    "ExecuteTime": {
     "end_time": "2024-03-08T15:09:28.203966Z",
     "start_time": "2024-03-08T15:09:28.200143Z"
    }
   },
   "id": "4a3c51f5520e5cf9",
   "execution_count": 218
  },
  {
   "cell_type": "markdown",
   "source": [
    "Сделаем предикт"
   ],
   "metadata": {
    "collapsed": false
   },
   "id": "aec4537965ca0f75"
  },
  {
   "cell_type": "code",
   "outputs": [
    {
     "data": {
      "text/plain": "0     0.936036\n1     1.031777\n2     0.843134\n3     0.913948\n4     0.929745\n5     1.028025\n6     1.125574\n7     1.071069\n8     0.983909\n9     0.871374\n10    1.022032\n11    1.125591\n12    1.051355\n13    1.024631\n14    0.961991\ndtype: float64"
     },
     "execution_count": 219,
     "metadata": {},
     "output_type": "execute_result"
    }
   ],
   "source": [
    "pred_train_residual = pd.Series([residual_regression(row[\"day\"], row[\"price\"]).item() for _, row in x_train.iterrows()])\n",
    "pred_train_residual"
   ],
   "metadata": {
    "collapsed": false,
    "ExecuteTime": {
     "end_time": "2024-03-08T15:09:28.236439Z",
     "start_time": "2024-03-08T15:09:28.230001Z"
    }
   },
   "id": "8e2b692b77d5e87d",
   "execution_count": 219
  },
  {
   "cell_type": "code",
   "outputs": [
    {
     "data": {
      "text/plain": "0    0.906685\n1    0.938259\n2    0.978551\n3    0.972104\n4    0.983125\ndtype: float64"
     },
     "execution_count": 220,
     "metadata": {},
     "output_type": "execute_result"
    }
   ],
   "source": [
    "pred_test_residual = pd.Series([residual_regression(row[\"day\"], row[\"price\"]).item() for _, row in x_test.iterrows()])\n",
    "pred_test_residual"
   ],
   "metadata": {
    "collapsed": false,
    "ExecuteTime": {
     "end_time": "2024-03-08T15:09:28.262352Z",
     "start_time": "2024-03-08T15:09:28.256417Z"
    }
   },
   "id": "820349c6b18d787f",
   "execution_count": 220
  },
  {
   "cell_type": "markdown",
   "source": [
    "От остаточного значения вернёмся к реальному предикту"
   ],
   "metadata": {
    "collapsed": false
   },
   "id": "84d0356fe71f63f7"
  },
  {
   "cell_type": "code",
   "outputs": [
    {
     "data": {
      "text/plain": "0      45.0\n1      48.0\n2      43.0\n3      46.0\n4      57.0\n5      58.0\n6     230.0\n7     165.0\n8     101.0\n9      67.0\n10    106.0\n11     89.0\n12    109.0\n13    115.0\n14    107.0\ndtype: float64"
     },
     "execution_count": 221,
     "metadata": {},
     "output_type": "execute_result"
    }
   ],
   "source": [
    "pred_train_2 = round(pred_train * pred_train_residual, 0)\n",
    "pred_train_2"
   ],
   "metadata": {
    "collapsed": false,
    "ExecuteTime": {
     "end_time": "2024-03-08T15:09:28.316123Z",
     "start_time": "2024-03-08T15:09:28.310379Z"
    }
   },
   "id": "cf250317f078e4f1",
   "execution_count": 221
  },
  {
   "cell_type": "code",
   "outputs": [
    {
     "data": {
      "text/plain": "0     94.0\n1     99.0\n2    105.0\n3     95.0\n4    100.0\ndtype: float64"
     },
     "execution_count": 222,
     "metadata": {},
     "output_type": "execute_result"
    }
   ],
   "source": [
    "pred_test_2 = round(pred_test * pred_test_residual, 0)\n",
    "pred_test_2"
   ],
   "metadata": {
    "collapsed": false,
    "ExecuteTime": {
     "end_time": "2024-03-08T15:09:28.343694Z",
     "start_time": "2024-03-08T15:09:28.337696Z"
    }
   },
   "id": "e48e6e31d61ae412",
   "execution_count": 222
  },
  {
   "cell_type": "markdown",
   "source": [
    "Среднее значение"
   ],
   "metadata": {
    "collapsed": false
   },
   "id": "c7dbf1106d08a8f3"
  },
  {
   "cell_type": "code",
   "outputs": [
    {
     "data": {
      "text/plain": "82.4"
     },
     "execution_count": 223,
     "metadata": {},
     "output_type": "execute_result"
    }
   ],
   "source": [
    "mean_test = y_test.mean().iloc[0]\n",
    "mean_test"
   ],
   "metadata": {
    "collapsed": false,
    "ExecuteTime": {
     "end_time": "2024-03-08T15:09:28.389738Z",
     "start_time": "2024-03-08T15:09:28.384696Z"
    }
   },
   "id": "a09f43fab3216bd2",
   "execution_count": 223
  },
  {
   "cell_type": "code",
   "outputs": [
    {
     "data": {
      "text/plain": "98.6"
     },
     "execution_count": 224,
     "metadata": {},
     "output_type": "execute_result"
    }
   ],
   "source": [
    "mean_pred_2 = pred_test_2.mean()\n",
    "mean_pred_2"
   ],
   "metadata": {
    "collapsed": false,
    "ExecuteTime": {
     "end_time": "2024-03-08T15:09:28.409798Z",
     "start_time": "2024-03-08T15:09:28.405284Z"
    }
   },
   "id": "d92762131e721078",
   "execution_count": 224
  },
  {
   "cell_type": "markdown",
   "source": [
    "отклонение"
   ],
   "metadata": {
    "collapsed": false
   },
   "id": "37f6d5c981419f53"
  },
  {
   "cell_type": "code",
   "outputs": [
    {
     "data": {
      "text/plain": "32.64659247149693"
     },
     "execution_count": 225,
     "metadata": {},
     "output_type": "execute_result"
    }
   ],
   "source": [
    "std_test = y_test.std().iloc[0]\n",
    "std_test"
   ],
   "metadata": {
    "collapsed": false,
    "ExecuteTime": {
     "end_time": "2024-03-08T15:09:28.435666Z",
     "start_time": "2024-03-08T15:09:28.431313Z"
    }
   },
   "id": "28d487b7c76688a8",
   "execution_count": 225
  },
  {
   "cell_type": "code",
   "outputs": [
    {
     "data": {
      "text/plain": "4.39317652729776"
     },
     "execution_count": 226,
     "metadata": {},
     "output_type": "execute_result"
    }
   ],
   "source": [
    "std_pred_2 = pred_test_2.std()\n",
    "std_pred_2"
   ],
   "metadata": {
    "collapsed": false,
    "ExecuteTime": {
     "end_time": "2024-03-08T15:09:28.479768Z",
     "start_time": "2024-03-08T15:09:28.474663Z"
    }
   },
   "id": "1580bdd362a38edb",
   "execution_count": 226
  },
  {
   "cell_type": "markdown",
   "source": [
    "Критерий Стьюдента\n",
    "Сравним математическое ожидание"
   ],
   "metadata": {
    "collapsed": false
   },
   "id": "ed88c8343c84114d"
  },
  {
   "cell_type": "code",
   "outputs": [
    {
     "data": {
      "text/plain": "1.0996769827584025"
     },
     "execution_count": 227,
     "metadata": {},
     "output_type": "execute_result"
    }
   ],
   "source": [
    "# опытное\n",
    "n = 5\n",
    "t_op = (mean_pred_2 - mean_test) / np.sqrt((std_pred_2 / np.sqrt(n)) ** 2 + ((std_test / np.sqrt(n)) ** 2))\n",
    "t_op"
   ],
   "metadata": {
    "collapsed": false,
    "ExecuteTime": {
     "end_time": "2024-03-08T15:09:28.497381Z",
     "start_time": "2024-03-08T15:09:28.493308Z"
    }
   },
   "id": "1a974f9695f85836",
   "execution_count": 227
  },
  {
   "cell_type": "code",
   "outputs": [
    {
     "data": {
      "text/plain": "1.8595480375228421"
     },
     "execution_count": 228,
     "metadata": {},
     "output_type": "execute_result"
    }
   ],
   "source": [
    "# Критическое\n",
    "n = 5\n",
    "t_kr = scipy.stats.t.ppf(q=1 - 0.05, df=(2 * n - 2))\n",
    "t_kr"
   ],
   "metadata": {
    "collapsed": false,
    "ExecuteTime": {
     "end_time": "2024-03-08T15:09:28.552872Z",
     "start_time": "2024-03-08T15:09:28.547380Z"
    }
   },
   "id": "e9f824b5bcce1261",
   "execution_count": 228
  },
  {
   "cell_type": "markdown",
   "source": [
    "Различия не значимы\n",
    "так как $F(op) < F(cr)$"
   ],
   "metadata": {
    "collapsed": false
   },
   "id": "f58adc3c02ce072c"
  },
  {
   "cell_type": "markdown",
   "source": [
    "Критерий фишера\n",
    "Сравним стандартное отклонение"
   ],
   "metadata": {
    "collapsed": false
   },
   "id": "dcba36146e583bc0"
  },
  {
   "cell_type": "code",
   "outputs": [
    {
     "data": {
      "text/plain": "55.22279792746113"
     },
     "execution_count": 229,
     "metadata": {},
     "output_type": "execute_result"
    }
   ],
   "source": [
    "n = 5\n",
    "k = n - 1\n",
    "f_op = std_test * std_test / std_pred_2 / std_pred_2\n",
    "f_op"
   ],
   "metadata": {
    "collapsed": false,
    "ExecuteTime": {
     "end_time": "2024-03-08T15:09:28.587591Z",
     "start_time": "2024-03-08T15:09:28.581867Z"
    }
   },
   "id": "2077b6a20e38790f",
   "execution_count": 229
  },
  {
   "cell_type": "code",
   "outputs": [
    {
     "data": {
      "text/plain": "9.013455167522581"
     },
     "execution_count": 230,
     "metadata": {},
     "output_type": "execute_result"
    }
   ],
   "source": [
    "# критическое\n",
    "a = 0.05\n",
    "m = 1\n",
    "n = 5\n",
    "critical = scipy.stats.f.ppf(q=1 - a, dfn=n, dfd=n - m - 1)\n",
    "critical"
   ],
   "metadata": {
    "collapsed": false,
    "ExecuteTime": {
     "end_time": "2024-03-08T15:09:28.659616Z",
     "start_time": "2024-03-08T15:09:28.653587Z"
    }
   },
   "id": "2cf7561fe4e1d546",
   "execution_count": 230
  },
  {
   "cell_type": "markdown",
   "source": [
    "Различия значимы\n",
    "так как $F(op) < F(cr)$"
   ],
   "metadata": {
    "collapsed": false
   },
   "id": "4989a33a75a5e254"
  },
  {
   "cell_type": "markdown",
   "source": [
    "Значения среднего однородно, а значение диспирсии неоднородно, следовательно, прогнозная модель получилась не совсем удачной\n",
    "мультипликационная модель не помогла исправить данную проблему, но значение опытных критериев уменьшилось"
   ],
   "metadata": {
    "collapsed": false
   },
   "id": "76e8a5be6c03cbbf"
  }
 ],
 "metadata": {
  "kernelspec": {
   "display_name": "Python 3",
   "language": "python",
   "name": "python3"
  },
  "language_info": {
   "codemirror_mode": {
    "name": "ipython",
    "version": 2
   },
   "file_extension": ".py",
   "mimetype": "text/x-python",
   "name": "python",
   "nbconvert_exporter": "python",
   "pygments_lexer": "ipython2",
   "version": "2.7.6"
  }
 },
 "nbformat": 4,
 "nbformat_minor": 5
}
